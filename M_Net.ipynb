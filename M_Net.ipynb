{
  "nbformat": 4,
  "nbformat_minor": 0,
  "metadata": {
    "colab": {
      "name": "M-Net.ipynb",
      "provenance": [],
      "collapsed_sections": [],
      "authorship_tag": "ABX9TyPJnHTLJ6UwT5k4M4ct+VA5",
      "include_colab_link": true
    },
    "kernelspec": {
      "name": "python3",
      "display_name": "Python 3"
    },
    "accelerator": "GPU"
  },
  "cells": [
    {
      "cell_type": "markdown",
      "metadata": {
        "id": "view-in-github",
        "colab_type": "text"
      },
      "source": [
        "<a href=\"https://colab.research.google.com/github/angadbajwa23/Brain-Image-Segmentation/blob/master/M_Net.ipynb\" target=\"_parent\"><img src=\"https://colab.research.google.com/assets/colab-badge.svg\" alt=\"Open In Colab\"/></a>"
      ]
    },
    {
      "cell_type": "code",
      "metadata": {
        "id": "RWayrz8UprXJ",
        "colab_type": "code",
        "outputId": "eaebe5cc-1e36-49bd-bce9-e1fa8cb05e3c",
        "colab": {
          "base_uri": "https://localhost:8080/",
          "height": 121
        }
      },
      "source": [
        "from google.colab import drive\n",
        "drive.mount('/content/gdrive')"
      ],
      "execution_count": 0,
      "outputs": [
        {
          "output_type": "stream",
          "text": [
            "Go to this URL in a browser: https://accounts.google.com/o/oauth2/auth?client_id=947318989803-6bn6qk8qdgf4n4g3pfee6491hc0brc4i.apps.googleusercontent.com&redirect_uri=urn%3aietf%3awg%3aoauth%3a2.0%3aoob&response_type=code&scope=email%20https%3a%2f%2fwww.googleapis.com%2fauth%2fdocs.test%20https%3a%2f%2fwww.googleapis.com%2fauth%2fdrive%20https%3a%2f%2fwww.googleapis.com%2fauth%2fdrive.photos.readonly%20https%3a%2f%2fwww.googleapis.com%2fauth%2fpeopleapi.readonly\n",
            "\n",
            "Enter your authorization code:\n",
            "··········\n",
            "Mounted at /content/gdrive\n"
          ],
          "name": "stdout"
        }
      ]
    },
    {
      "cell_type": "code",
      "metadata": {
        "id": "6ZJMBHOruheS",
        "colab_type": "code",
        "outputId": "54216466-bfa0-49da-9619-bd7ff9542b41",
        "colab": {
          "base_uri": "https://localhost:8080/",
          "height": 50
        }
      },
      "source": [
        "%cd gdrive/My Drive/2d"
      ],
      "execution_count": 0,
      "outputs": [
        {
          "output_type": "stream",
          "text": [
            "[Errno 2] No such file or directory: 'gdrive/My Drive/2d'\n",
            "/content/gdrive/My Drive/2d\n"
          ],
          "name": "stdout"
        }
      ]
    },
    {
      "cell_type": "code",
      "metadata": {
        "id": "iKmeOPonupoy",
        "colab_type": "code",
        "outputId": "847c3098-d044-4af7-c000-e4bdc324aee6",
        "colab": {
          "base_uri": "https://localhost:8080/",
          "height": 84
        }
      },
      "source": [
        "!pip install hdf5storage"
      ],
      "execution_count": 0,
      "outputs": [
        {
          "output_type": "stream",
          "text": [
            "Requirement already satisfied: hdf5storage in /usr/local/lib/python3.6/dist-packages (0.1.15)\n",
            "Requirement already satisfied: h5py>=2.1; python_version >= \"3.3\" in /usr/local/lib/python3.6/dist-packages (from hdf5storage) (2.10.0)\n",
            "Requirement already satisfied: numpy; python_version >= \"3.4\" in /usr/local/lib/python3.6/dist-packages (from hdf5storage) (1.18.4)\n",
            "Requirement already satisfied: six in /usr/local/lib/python3.6/dist-packages (from h5py>=2.1; python_version >= \"3.3\"->hdf5storage) (1.12.0)\n"
          ],
          "name": "stdout"
        }
      ]
    },
    {
      "cell_type": "markdown",
      "metadata": {
        "id": "UbfnhzZzx16Q",
        "colab_type": "text"
      },
      "source": [
        "Importing Libraries"
      ]
    },
    {
      "cell_type": "code",
      "metadata": {
        "id": "Rh0mmJJ4urJN",
        "colab_type": "code",
        "colab": {}
      },
      "source": [
        "import os\n",
        "import argparse\n",
        "import sys\n",
        "import numpy as np\n",
        "import hdf5storage\n",
        "import cv2\n",
        "import matplotlib.pyplot as plt\n",
        "\n",
        "\n",
        "import skimage.io as io\n",
        "import skimage.transform as trans\n",
        "from keras.models import *\n",
        "from keras.layers import *\n",
        "from keras.optimizers import *\n",
        "from keras.callbacks import ModelCheckpoint, LearningRateScheduler\n",
        "from keras import backend as keras"
      ],
      "execution_count": 0,
      "outputs": []
    },
    {
      "cell_type": "code",
      "metadata": {
        "id": "_ovFbNUJutsw",
        "colab_type": "code",
        "colab": {}
      },
      "source": [
        "labels = np.load('labels.npy')\n",
        "images = np.load('images.npy')\n",
        "masks = np.load('masks.npy')"
      ],
      "execution_count": 0,
      "outputs": []
    },
    {
      "cell_type": "code",
      "metadata": {
        "id": "aeYfvPaTuvuq",
        "colab_type": "code",
        "colab": {}
      },
      "source": [
        "images = images[..., np.newaxis]"
      ],
      "execution_count": 0,
      "outputs": []
    },
    {
      "cell_type": "code",
      "metadata": {
        "id": "K5sF69KLuxRR",
        "colab_type": "code",
        "colab": {}
      },
      "source": [
        "masks = masks[..., np.newaxis]"
      ],
      "execution_count": 0,
      "outputs": []
    },
    {
      "cell_type": "markdown",
      "metadata": {
        "id": "jTGh-Ujyx52B",
        "colab_type": "text"
      },
      "source": [
        "Normalizing the images\n"
      ]
    },
    {
      "cell_type": "code",
      "metadata": {
        "id": "4PLCtWfxuyqw",
        "colab_type": "code",
        "colab": {}
      },
      "source": [
        "for i in range(images.shape[0]):\n",
        "  images[i,:, :] = (images[i,:, :] - np.mean(images[i,:, :]))/ np.std(images[i,:, :])"
      ],
      "execution_count": 0,
      "outputs": []
    },
    {
      "cell_type": "markdown",
      "metadata": {
        "id": "N4SSOZAsyES5",
        "colab_type": "text"
      },
      "source": [
        "Splitting dataset into Traing, Validation and Test sets"
      ]
    },
    {
      "cell_type": "code",
      "metadata": {
        "id": "aiDt648L4wvd",
        "colab_type": "code",
        "colab": {}
      },
      "source": [
        "from sklearn.model_selection import train_test_split\n",
        "\n",
        "images_train, images_test, masks_train, masks_test = train_test_split(images,masks,test_size=0.2,train_size=0.8,random_state=1)\n",
        "images_test, images_cv, masks_test, masks_cv = train_test_split(images_test,masks_test,test_size = 0.5,train_size =0.5,random_state=1)"
      ],
      "execution_count": 0,
      "outputs": []
    },
    {
      "cell_type": "code",
      "metadata": {
        "id": "nfMIgYIh442z",
        "colab_type": "code",
        "outputId": "b287f8d5-f580-4d9b-a00c-893071681f14",
        "colab": {
          "base_uri": "https://localhost:8080/",
          "height": 168
        }
      },
      "source": [
        "print (\"number of training examples = \" + str(images_train.shape[0]))\n",
        "print (\"number of development examples = \" + str(images_cv.shape[0]))\n",
        "print (\"number of test examples = \" + str(images_test.shape[0]))\n",
        "print (\"Images_train shape: \" + str(images_train.shape))\n",
        "print (\"Masks_train shape: \" + str(masks_train.shape))\n",
        "print (\"Images_val (dev) shape: \" + str(images_cv.shape))\n",
        "print (\"Masks_val (dev) shape: \" + str(masks_cv.shape))\n",
        "print (\"Images_test shape: \" + str(images_test.shape))\n",
        "print (\"Masks_test shape: \" + str(masks_test.shape))"
      ],
      "execution_count": 0,
      "outputs": [
        {
          "output_type": "stream",
          "text": [
            "number of training examples = 2451\n",
            "number of development examples = 307\n",
            "number of test examples = 306\n",
            "Images_train shape: (2451, 512, 512, 1)\n",
            "Masks_train shape: (2451, 512, 512, 1)\n",
            "Images_val (dev) shape: (307, 512, 512, 1)\n",
            "Masks_val (dev) shape: (307, 512, 512, 1)\n",
            "Images_test shape: (306, 512, 512, 1)\n",
            "Masks_test shape: (306, 512, 512, 1)\n"
          ],
          "name": "stdout"
        }
      ]
    },
    {
      "cell_type": "markdown",
      "metadata": {
        "id": "uMTcnWdGyBI4",
        "colab_type": "text"
      },
      "source": [
        "Evaluation Metrics"
      ]
    },
    {
      "cell_type": "code",
      "metadata": {
        "id": "lYd71MFqu0hI",
        "colab_type": "code",
        "colab": {}
      },
      "source": [
        "smooth = 1\n",
        "def dice_coef(y_true, y_pred):\n",
        "    y_true_f = K.flatten(y_true)\n",
        "    y_pred_f = K.flatten(y_pred)\n",
        "    intersection = K.sum(y_true_f * y_pred_f)\n",
        "    return (2. * intersection + smooth) / (K.sum(y_true_f) + K.sum(y_pred_f) + smooth)\n",
        "\n",
        "\n",
        "def dice_coef_loss(y_true, y_pred):\n",
        "    return 1-dice_coef(y_true, y_pred)"
      ],
      "execution_count": 0,
      "outputs": []
    },
    {
      "cell_type": "markdown",
      "metadata": {
        "id": "NhJVoGP_yi_Z",
        "colab_type": "text"
      },
      "source": [
        "Model"
      ]
    },
    {
      "cell_type": "code",
      "metadata": {
        "id": "sZQ_2Hh3u1_K",
        "colab_type": "code",
        "colab": {}
      },
      "source": [
        "def Mnet(size_set=512):\n",
        "    img_input = Input(shape=(size_set, size_set, 1))\n",
        "\n",
        "    scale_img_2 = AveragePooling2D(pool_size=(2, 2))(img_input)\n",
        "    scale_img_3 = AveragePooling2D(pool_size=(2, 2))(scale_img_2)\n",
        "    scale_img_4 = AveragePooling2D(pool_size=(2, 2))(scale_img_3)\n",
        "\n",
        "    conv1 = Conv2D(32, (3, 3), padding='same', activation='relu', name='block1_conv1')(img_input)\n",
        "    conv1 = Conv2D(32, (3, 3), padding='same', activation='relu', name='block1_conv2')(conv1)\n",
        "    pool1 = MaxPooling2D(pool_size=(2, 2))(conv1)\n",
        "\n",
        "    input2 = Conv2D(64, (3, 3), padding='same', activation='relu', name='block2_input1')(scale_img_2)\n",
        "    input2 = concatenate([input2, pool1], axis=3)\n",
        "    conv2 = Conv2D(64, (3, 3), padding='same', activation='relu', name='block2_conv1')(input2)\n",
        "    conv2 = Conv2D(64, (3, 3), padding='same', activation='relu', name='block2_conv2')(conv2)\n",
        "    pool2 = MaxPooling2D(pool_size=(2, 2))(conv2)\n",
        "\n",
        "    input3 = Conv2D(128, (3, 3), padding='same', activation='relu', name='block3_input1')(scale_img_3)\n",
        "    input3 = concatenate([input3, pool2], axis=3)\n",
        "    conv3 = Conv2D(128, (3, 3), padding='same', activation='relu', name='block3_conv1')(input3)\n",
        "    conv3 = Conv2D(128, (3, 3), padding='same', activation='relu', name='block3_conv2')(conv3)\n",
        "    pool3 = MaxPooling2D(pool_size=(2, 2))(conv3)\n",
        "\n",
        "    input4 = Conv2D(256, (3, 3), padding='same', activation='relu', name='block4_input1')(scale_img_4)\n",
        "    input4 = concatenate([input4, pool3], axis=3)\n",
        "    conv4 = Conv2D(256, (3, 3), padding='same', activation='relu', name='block4_conv1')(input4)\n",
        "    conv4 = Conv2D(256, (3, 3), padding='same', activation='relu', name='block4_conv2')(conv4)\n",
        "    pool4 = MaxPooling2D(pool_size=(2, 2))(conv4)\n",
        "\n",
        "    conv5 = Conv2D(512, (3, 3), padding='same', activation='relu', name='block5_conv1')(pool4)\n",
        "    conv5 = Conv2D(512, (3, 3), padding='same', activation='relu', name='block5_conv2')(conv5)\n",
        "\n",
        "    up6 = concatenate( [Conv2DTranspose(256, (2, 2), strides=(2, 2), padding='same', name='block6_dconv')(conv5), conv4], axis=3)\n",
        "    conv6 = Conv2D(256, (3, 3), padding='same', activation='relu', name='block6_conv1')(up6)\n",
        "    conv6 = Conv2D(256, (3, 3), padding='same', activation='relu', name='block6_conv2')(conv6)\n",
        "\n",
        "    up7 = concatenate( [Conv2DTranspose(128, (2, 2), strides=(2, 2), padding='same', name='block7_dconv')(conv6), conv3],axis=3)\n",
        "    conv7 = Conv2D(128, (3, 3), padding='same', activation='relu', name='block7_conv1')(up7)\n",
        "    conv7 = Conv2D(128, (3, 3), padding='same', activation='relu', name='block7_conv2')(conv7)\n",
        "\n",
        "    up8 = concatenate([Conv2DTranspose(64, (2, 2), strides=(2, 2), padding='same', name='block8_dconv')(conv7), conv2],\n",
        "                      axis=3)\n",
        "    conv8 = Conv2D(64, (3, 3), padding='same', activation='relu', name='block8_conv1')(up8)\n",
        "    conv8 = Conv2D(64, (3, 3), padding='same', activation='relu', name='block8_conv2')(conv8)\n",
        "\n",
        "    up9 = concatenate([Conv2DTranspose(32, (2, 2), strides=(2, 2), padding='same', name='block9_dconv')(conv8), conv1],\n",
        "                      axis=3)\n",
        "    conv9 = Conv2D(32, (3, 3), padding='same', activation='relu', name='block9_conv1')(up9)\n",
        "    conv9 = Conv2D(32, (3, 3), padding='same', activation='relu', name='block9_conv2')(conv9)\n",
        "\n",
        "    side6 = UpSampling2D(size=(8, 8))(conv6)\n",
        "    side7 = UpSampling2D(size=(4, 4))(conv7)\n",
        "    side8 = UpSampling2D(size=(2, 2))(conv8)\n",
        "    out6 = Conv2D(1, (1, 1), activation='sigmoid', name='side_63')(side6)\n",
        "    out7 = Conv2D(1, (1, 1), activation='sigmoid', name='side_73')(side7)\n",
        "    out8 = Conv2D(1, (1, 1), activation='sigmoid', name='side_83')(side8)\n",
        "    out9 = Conv2D(1, (1, 1), activation='sigmoid', name='side_93')(conv9)\n",
        "\n",
        "    out10 = average([out6, out7, out8, out9])\n",
        "    model = Model(inputs=img_input,outputs=out10)\n",
        "\n",
        "    model.compile(optimizer = Adam(lr = 1e-4), loss='binary_crossentropy', metrics=[dice_coef])\n",
        "    \n",
        "    model.summary()\n",
        "\n",
        "    return model"
      ],
      "execution_count": 0,
      "outputs": []
    },
    {
      "cell_type": "code",
      "metadata": {
        "id": "rMd3UKh85jZ_",
        "colab_type": "code",
        "colab": {}
      },
      "source": [
        "filepath=\"cnn-parameters-improvement-{epoch:02d}-{dice_coef:.2f}\"\n",
        "# save the model with the best validation (development) accuracy till now\n",
        "checkpoint = ModelCheckpoint(\"models/{}.model\".format(filepath, monitor=[dice_coef], verbose=1, save_best_only=True, mode='max'))"
      ],
      "execution_count": 0,
      "outputs": []
    },
    {
      "cell_type": "markdown",
      "metadata": {
        "id": "L6SGLrtPymDB",
        "colab_type": "text"
      },
      "source": [
        "Train the Model"
      ]
    },
    {
      "cell_type": "code",
      "metadata": {
        "id": "YsmbtcU2u6iQ",
        "colab_type": "code",
        "outputId": "74cffe3b-784a-4bfb-f7ba-a3a229dd53c4",
        "colab": {
          "base_uri": "https://localhost:8080/",
          "height": 1000
        }
      },
      "source": [
        "model=Mnet()\n",
        "model.fit(images_train, masks_train, batch_size=2, nb_epoch=50, verbose=1,validation_data=(images_cv,masks_cv),callbacks=[checkpoint])"
      ],
      "execution_count": 0,
      "outputs": [
        {
          "output_type": "stream",
          "text": [
            "Model: \"model_9\"\n",
            "__________________________________________________________________________________________________\n",
            "Layer (type)                    Output Shape         Param #     Connected to                     \n",
            "==================================================================================================\n",
            "input_9 (InputLayer)            (None, 512, 512, 1)  0                                            \n",
            "__________________________________________________________________________________________________\n",
            "block1_conv1 (Conv2D)           (None, 512, 512, 32) 320         input_9[0][0]                    \n",
            "__________________________________________________________________________________________________\n",
            "average_pooling2d_25 (AveragePo (None, 256, 256, 1)  0           input_9[0][0]                    \n",
            "__________________________________________________________________________________________________\n",
            "block1_conv2 (Conv2D)           (None, 512, 512, 32) 9248        block1_conv1[0][0]               \n",
            "__________________________________________________________________________________________________\n",
            "block2_input1 (Conv2D)          (None, 256, 256, 64) 640         average_pooling2d_25[0][0]       \n",
            "__________________________________________________________________________________________________\n",
            "max_pooling2d_33 (MaxPooling2D) (None, 256, 256, 32) 0           block1_conv2[0][0]               \n",
            "__________________________________________________________________________________________________\n",
            "concatenate_57 (Concatenate)    (None, 256, 256, 96) 0           block2_input1[0][0]              \n",
            "                                                                 max_pooling2d_33[0][0]           \n",
            "__________________________________________________________________________________________________\n",
            "block2_conv1 (Conv2D)           (None, 256, 256, 64) 55360       concatenate_57[0][0]             \n",
            "__________________________________________________________________________________________________\n",
            "average_pooling2d_26 (AveragePo (None, 128, 128, 1)  0           average_pooling2d_25[0][0]       \n",
            "__________________________________________________________________________________________________\n",
            "block2_conv2 (Conv2D)           (None, 256, 256, 64) 36928       block2_conv1[0][0]               \n",
            "__________________________________________________________________________________________________\n",
            "block3_input1 (Conv2D)          (None, 128, 128, 128 1280        average_pooling2d_26[0][0]       \n",
            "__________________________________________________________________________________________________\n",
            "max_pooling2d_34 (MaxPooling2D) (None, 128, 128, 64) 0           block2_conv2[0][0]               \n",
            "__________________________________________________________________________________________________\n",
            "concatenate_58 (Concatenate)    (None, 128, 128, 192 0           block3_input1[0][0]              \n",
            "                                                                 max_pooling2d_34[0][0]           \n",
            "__________________________________________________________________________________________________\n",
            "block3_conv1 (Conv2D)           (None, 128, 128, 128 221312      concatenate_58[0][0]             \n",
            "__________________________________________________________________________________________________\n",
            "average_pooling2d_27 (AveragePo (None, 64, 64, 1)    0           average_pooling2d_26[0][0]       \n",
            "__________________________________________________________________________________________________\n",
            "block3_conv2 (Conv2D)           (None, 128, 128, 128 147584      block3_conv1[0][0]               \n",
            "__________________________________________________________________________________________________\n",
            "block4_input1 (Conv2D)          (None, 64, 64, 256)  2560        average_pooling2d_27[0][0]       \n",
            "__________________________________________________________________________________________________\n",
            "max_pooling2d_35 (MaxPooling2D) (None, 64, 64, 128)  0           block3_conv2[0][0]               \n",
            "__________________________________________________________________________________________________\n",
            "concatenate_59 (Concatenate)    (None, 64, 64, 384)  0           block4_input1[0][0]              \n",
            "                                                                 max_pooling2d_35[0][0]           \n",
            "__________________________________________________________________________________________________\n",
            "block4_conv1 (Conv2D)           (None, 64, 64, 256)  884992      concatenate_59[0][0]             \n",
            "__________________________________________________________________________________________________\n",
            "block4_conv2 (Conv2D)           (None, 64, 64, 256)  590080      block4_conv1[0][0]               \n",
            "__________________________________________________________________________________________________\n",
            "max_pooling2d_36 (MaxPooling2D) (None, 32, 32, 256)  0           block4_conv2[0][0]               \n",
            "__________________________________________________________________________________________________\n",
            "block5_conv1 (Conv2D)           (None, 32, 32, 512)  1180160     max_pooling2d_36[0][0]           \n",
            "__________________________________________________________________________________________________\n",
            "block5_conv2 (Conv2D)           (None, 32, 32, 512)  2359808     block5_conv1[0][0]               \n",
            "__________________________________________________________________________________________________\n",
            "block6_dconv (Conv2DTranspose)  (None, 64, 64, 256)  524544      block5_conv2[0][0]               \n",
            "__________________________________________________________________________________________________\n",
            "concatenate_60 (Concatenate)    (None, 64, 64, 512)  0           block6_dconv[0][0]               \n",
            "                                                                 block4_conv2[0][0]               \n",
            "__________________________________________________________________________________________________\n",
            "block6_conv1 (Conv2D)           (None, 64, 64, 256)  1179904     concatenate_60[0][0]             \n",
            "__________________________________________________________________________________________________\n",
            "block6_conv2 (Conv2D)           (None, 64, 64, 256)  590080      block6_conv1[0][0]               \n",
            "__________________________________________________________________________________________________\n",
            "block7_dconv (Conv2DTranspose)  (None, 128, 128, 128 131200      block6_conv2[0][0]               \n",
            "__________________________________________________________________________________________________\n",
            "concatenate_61 (Concatenate)    (None, 128, 128, 256 0           block7_dconv[0][0]               \n",
            "                                                                 block3_conv2[0][0]               \n",
            "__________________________________________________________________________________________________\n",
            "block7_conv1 (Conv2D)           (None, 128, 128, 128 295040      concatenate_61[0][0]             \n",
            "__________________________________________________________________________________________________\n",
            "block7_conv2 (Conv2D)           (None, 128, 128, 128 147584      block7_conv1[0][0]               \n",
            "__________________________________________________________________________________________________\n",
            "block8_dconv (Conv2DTranspose)  (None, 256, 256, 64) 32832       block7_conv2[0][0]               \n",
            "__________________________________________________________________________________________________\n",
            "concatenate_62 (Concatenate)    (None, 256, 256, 128 0           block8_dconv[0][0]               \n",
            "                                                                 block2_conv2[0][0]               \n",
            "__________________________________________________________________________________________________\n",
            "block8_conv1 (Conv2D)           (None, 256, 256, 64) 73792       concatenate_62[0][0]             \n",
            "__________________________________________________________________________________________________\n",
            "block8_conv2 (Conv2D)           (None, 256, 256, 64) 36928       block8_conv1[0][0]               \n",
            "__________________________________________________________________________________________________\n",
            "block9_dconv (Conv2DTranspose)  (None, 512, 512, 32) 8224        block8_conv2[0][0]               \n",
            "__________________________________________________________________________________________________\n",
            "concatenate_63 (Concatenate)    (None, 512, 512, 64) 0           block9_dconv[0][0]               \n",
            "                                                                 block1_conv2[0][0]               \n",
            "__________________________________________________________________________________________________\n",
            "block9_conv1 (Conv2D)           (None, 512, 512, 32) 18464       concatenate_63[0][0]             \n",
            "__________________________________________________________________________________________________\n",
            "up_sampling2d_25 (UpSampling2D) (None, 512, 512, 256 0           block6_conv2[0][0]               \n",
            "__________________________________________________________________________________________________\n",
            "up_sampling2d_26 (UpSampling2D) (None, 512, 512, 128 0           block7_conv2[0][0]               \n",
            "__________________________________________________________________________________________________\n",
            "up_sampling2d_27 (UpSampling2D) (None, 512, 512, 64) 0           block8_conv2[0][0]               \n",
            "__________________________________________________________________________________________________\n",
            "block9_conv2 (Conv2D)           (None, 512, 512, 32) 9248        block9_conv1[0][0]               \n",
            "__________________________________________________________________________________________________\n",
            "side_63 (Conv2D)                (None, 512, 512, 1)  257         up_sampling2d_25[0][0]           \n",
            "__________________________________________________________________________________________________\n",
            "side_73 (Conv2D)                (None, 512, 512, 1)  129         up_sampling2d_26[0][0]           \n",
            "__________________________________________________________________________________________________\n",
            "side_83 (Conv2D)                (None, 512, 512, 1)  65          up_sampling2d_27[0][0]           \n",
            "__________________________________________________________________________________________________\n",
            "side_93 (Conv2D)                (None, 512, 512, 1)  33          block9_conv2[0][0]               \n",
            "__________________________________________________________________________________________________\n",
            "average_9 (Average)             (None, 512, 512, 1)  0           side_63[0][0]                    \n",
            "                                                                 side_73[0][0]                    \n",
            "                                                                 side_83[0][0]                    \n",
            "                                                                 side_93[0][0]                    \n",
            "==================================================================================================\n",
            "Total params: 8,538,596\n",
            "Trainable params: 8,538,596\n",
            "Non-trainable params: 0\n",
            "__________________________________________________________________________________________________\n"
          ],
          "name": "stdout"
        },
        {
          "output_type": "stream",
          "text": [
            "/usr/local/lib/python3.6/dist-packages/ipykernel_launcher.py:2: UserWarning: The `nb_epoch` argument in `fit` has been renamed `epochs`.\n",
            "  \n"
          ],
          "name": "stderr"
        },
        {
          "output_type": "stream",
          "text": [
            "Train on 2451 samples, validate on 307 samples\n",
            "Epoch 1/50\n",
            "2451/2451 [==============================] - 723s 295ms/step - loss: 0.0790 - dice_coef: 0.0515 - val_loss: 0.0633 - val_dice_coef: 0.0604\n",
            "Epoch 2/50\n",
            "2451/2451 [==============================] - 717s 293ms/step - loss: 0.0544 - dice_coef: 0.2075 - val_loss: 0.0445 - val_dice_coef: 0.2781\n",
            "Epoch 3/50\n",
            "2451/2451 [==============================] - 715s 292ms/step - loss: 0.0456 - dice_coef: 0.3180 - val_loss: 0.0429 - val_dice_coef: 0.2984\n",
            "Epoch 4/50\n",
            "2451/2451 [==============================] - 714s 291ms/step - loss: 0.0404 - dice_coef: 0.3820 - val_loss: 0.0412 - val_dice_coef: 0.3948\n",
            "Epoch 5/50\n",
            "2451/2451 [==============================] - 716s 292ms/step - loss: 0.0358 - dice_coef: 0.4364 - val_loss: 0.0337 - val_dice_coef: 0.4330\n",
            "Epoch 6/50\n",
            "2451/2451 [==============================] - 714s 291ms/step - loss: 0.0325 - dice_coef: 0.4790 - val_loss: 0.0348 - val_dice_coef: 0.4701\n",
            "Epoch 7/50\n",
            "2451/2451 [==============================] - 714s 291ms/step - loss: 0.0287 - dice_coef: 0.5258 - val_loss: 0.0322 - val_dice_coef: 0.4994\n",
            "Epoch 8/50\n",
            "2451/2451 [==============================] - 713s 291ms/step - loss: 0.0251 - dice_coef: 0.5791 - val_loss: 0.0319 - val_dice_coef: 0.5107\n",
            "Epoch 9/50\n",
            "2451/2451 [==============================] - 712s 290ms/step - loss: 0.0217 - dice_coef: 0.6249 - val_loss: 0.0304 - val_dice_coef: 0.4905\n",
            "Epoch 10/50\n",
            "2451/2451 [==============================] - 712s 290ms/step - loss: 0.0185 - dice_coef: 0.6742 - val_loss: 0.0317 - val_dice_coef: 0.5685\n",
            "Epoch 11/50\n",
            "2451/2451 [==============================] - 711s 290ms/step - loss: 0.0147 - dice_coef: 0.7286 - val_loss: 0.0325 - val_dice_coef: 0.5674\n",
            "Epoch 12/50\n",
            "2451/2451 [==============================] - 709s 289ms/step - loss: 0.0126 - dice_coef: 0.7606 - val_loss: 0.0400 - val_dice_coef: 0.5759\n",
            "Epoch 13/50\n",
            "2451/2451 [==============================] - 709s 289ms/step - loss: 0.0107 - dice_coef: 0.7902 - val_loss: 0.0422 - val_dice_coef: 0.5555\n",
            "Epoch 14/50\n",
            "2451/2451 [==============================] - 709s 289ms/step - loss: 0.0090 - dice_coef: 0.8186 - val_loss: 0.0433 - val_dice_coef: 0.5878\n",
            "Epoch 15/50\n",
            "2451/2451 [==============================] - 710s 290ms/step - loss: 0.0085 - dice_coef: 0.8300 - val_loss: 0.0396 - val_dice_coef: 0.5946\n",
            "Epoch 16/50\n",
            "2451/2451 [==============================] - 708s 289ms/step - loss: 0.0081 - dice_coef: 0.8392 - val_loss: 0.0456 - val_dice_coef: 0.5998\n",
            "Epoch 17/50\n",
            "2451/2451 [==============================] - 708s 289ms/step - loss: 0.0070 - dice_coef: 0.8554 - val_loss: 0.0554 - val_dice_coef: 0.5916\n",
            "Epoch 18/50\n",
            "2451/2451 [==============================] - 707s 288ms/step - loss: 0.0062 - dice_coef: 0.8703 - val_loss: 0.0473 - val_dice_coef: 0.6213\n",
            "Epoch 19/50\n",
            "2451/2451 [==============================] - 707s 289ms/step - loss: 0.0065 - dice_coef: 0.8653 - val_loss: 0.0575 - val_dice_coef: 0.6046\n",
            "Epoch 20/50\n",
            "2451/2451 [==============================] - 706s 288ms/step - loss: 0.0059 - dice_coef: 0.8757 - val_loss: 0.0514 - val_dice_coef: 0.6152\n",
            "Epoch 21/50\n",
            "2451/2451 [==============================] - 708s 289ms/step - loss: 0.0055 - dice_coef: 0.8840 - val_loss: 0.0449 - val_dice_coef: 0.5576\n",
            "Epoch 22/50\n",
            "2451/2451 [==============================] - 708s 289ms/step - loss: 0.0057 - dice_coef: 0.8810 - val_loss: 0.0572 - val_dice_coef: 0.6021\n",
            "Epoch 23/50\n",
            "2451/2451 [==============================] - 708s 289ms/step - loss: 0.0043 - dice_coef: 0.9044 - val_loss: 0.0708 - val_dice_coef: 0.5856\n",
            "Epoch 24/50\n",
            "2451/2451 [==============================] - 705s 288ms/step - loss: 0.0047 - dice_coef: 0.9021 - val_loss: 0.0368 - val_dice_coef: 0.5031\n",
            "Epoch 25/50\n",
            "2451/2451 [==============================] - 707s 288ms/step - loss: 0.0050 - dice_coef: 0.8916 - val_loss: 0.0531 - val_dice_coef: 0.6299\n",
            "Epoch 26/50\n",
            "2451/2451 [==============================] - 707s 288ms/step - loss: 0.0036 - dice_coef: 0.9202 - val_loss: 0.0559 - val_dice_coef: 0.6176\n",
            "Epoch 27/50\n",
            "2451/2451 [==============================] - 707s 288ms/step - loss: 0.0059 - dice_coef: 0.8823 - val_loss: 0.0504 - val_dice_coef: 0.6254\n",
            "Epoch 28/50\n",
            "2451/2451 [==============================] - 705s 287ms/step - loss: 0.0035 - dice_coef: 0.9210 - val_loss: 0.0612 - val_dice_coef: 0.6335\n",
            "Epoch 29/50\n",
            "2451/2451 [==============================] - 705s 288ms/step - loss: 0.0032 - dice_coef: 0.9284 - val_loss: 0.0614 - val_dice_coef: 0.6363\n",
            "Epoch 30/50\n",
            "2451/2451 [==============================] - 706s 288ms/step - loss: 0.0031 - dice_coef: 0.9299 - val_loss: 0.0652 - val_dice_coef: 0.6076\n",
            "Epoch 31/50\n",
            "2451/2451 [==============================] - 706s 288ms/step - loss: 0.0052 - dice_coef: 0.8918 - val_loss: 0.0581 - val_dice_coef: 0.6256\n",
            "Epoch 32/50\n",
            "2451/2451 [==============================] - 704s 287ms/step - loss: 0.0031 - dice_coef: 0.9313 - val_loss: 0.0675 - val_dice_coef: 0.6304\n",
            "Epoch 33/50\n",
            "1306/2451 [==============>...............] - ETA: 5:14 - loss: 0.0025 - dice_coef: 0.9412"
          ],
          "name": "stdout"
        }
      ]
    },
    {
      "cell_type": "code",
      "metadata": {
        "id": "SObYvhxRNjYf",
        "colab_type": "code",
        "colab": {}
      },
      "source": [
        "dependencies = {\n",
        "     'dice_coef': dice_coef,\n",
        "     \n",
        "}\n",
        "model = tf.keras.models.load_model('M_net_regularization.h5',custom_objects=dependencies)"
      ],
      "execution_count": 0,
      "outputs": []
    },
    {
      "cell_type": "markdown",
      "metadata": {
        "id": "IxjlUpQIyrcZ",
        "colab_type": "text"
      },
      "source": [
        "Training a bit more!\n"
      ]
    },
    {
      "cell_type": "code",
      "metadata": {
        "id": "oidcU5TMziO3",
        "colab_type": "code",
        "outputId": "55e07964-bd3c-436a-cef2-c91923244f61",
        "colab": {
          "base_uri": "https://localhost:8080/",
          "height": 605
        }
      },
      "source": [
        "model.fit(images_train, masks_train, batch_size=2, epochs=17, verbose=1,validation_data=(images_cv,masks_cv))"
      ],
      "execution_count": 0,
      "outputs": [
        {
          "output_type": "stream",
          "text": [
            "Epoch 1/17\n",
            "1226/1226 [==============================] - 296s 242ms/step - loss: 0.0026 - dice_coef: 0.9433 - val_loss: 0.0635 - val_dice_coef: 0.5894\n",
            "Epoch 2/17\n",
            "1226/1226 [==============================] - 299s 244ms/step - loss: 0.0023 - dice_coef: 0.9464 - val_loss: 0.0682 - val_dice_coef: 0.6253\n",
            "Epoch 3/17\n",
            "1226/1226 [==============================] - 297s 242ms/step - loss: 0.0017 - dice_coef: 0.9586 - val_loss: 0.0810 - val_dice_coef: 0.6162\n",
            "Epoch 4/17\n",
            "1226/1226 [==============================] - 297s 242ms/step - loss: 0.0017 - dice_coef: 0.9593 - val_loss: 0.0739 - val_dice_coef: 0.6273\n",
            "Epoch 5/17\n",
            "1226/1226 [==============================] - 298s 243ms/step - loss: 0.0019 - dice_coef: 0.9552 - val_loss: 0.0805 - val_dice_coef: 0.6055\n",
            "Epoch 6/17\n",
            "1226/1226 [==============================] - 300s 245ms/step - loss: 0.0033 - dice_coef: 0.9309 - val_loss: 0.0728 - val_dice_coef: 0.6162\n",
            "Epoch 7/17\n",
            "1226/1226 [==============================] - 297s 243ms/step - loss: 0.0018 - dice_coef: 0.9569 - val_loss: 0.0752 - val_dice_coef: 0.6243\n",
            "Epoch 8/17\n",
            "1226/1226 [==============================] - 297s 242ms/step - loss: 0.0015 - dice_coef: 0.9622 - val_loss: 0.0804 - val_dice_coef: 0.6290\n",
            "Epoch 9/17\n",
            "1226/1226 [==============================] - 298s 243ms/step - loss: 0.0016 - dice_coef: 0.9606 - val_loss: 0.0810 - val_dice_coef: 0.6098\n",
            "Epoch 10/17\n",
            "1226/1226 [==============================] - 299s 244ms/step - loss: 0.0018 - dice_coef: 0.9564 - val_loss: 0.0807 - val_dice_coef: 0.6067\n",
            "Epoch 11/17\n",
            "1226/1226 [==============================] - 299s 244ms/step - loss: 0.0026 - dice_coef: 0.9435 - val_loss: 0.0672 - val_dice_coef: 0.6020\n",
            "Epoch 12/17\n",
            "1226/1226 [==============================] - 299s 244ms/step - loss: 0.0019 - dice_coef: 0.9536 - val_loss: 0.0767 - val_dice_coef: 0.6176\n",
            "Epoch 13/17\n",
            "1226/1226 [==============================] - 297s 242ms/step - loss: 0.0015 - dice_coef: 0.9624 - val_loss: 0.0816 - val_dice_coef: 0.6184\n",
            "Epoch 14/17\n",
            "1226/1226 [==============================] - 297s 243ms/step - loss: 0.0014 - dice_coef: 0.9633 - val_loss: 0.0800 - val_dice_coef: 0.6183\n",
            "Epoch 15/17\n",
            "1226/1226 [==============================] - 299s 244ms/step - loss: 0.0017 - dice_coef: 0.9596 - val_loss: 0.0824 - val_dice_coef: 0.6098\n",
            "Epoch 16/17\n",
            "1226/1226 [==============================] - 299s 244ms/step - loss: 0.0018 - dice_coef: 0.9575 - val_loss: 0.0817 - val_dice_coef: 0.6214\n",
            "Epoch 17/17\n",
            "1226/1226 [==============================] - 299s 244ms/step - loss: 0.0025 - dice_coef: 0.9459 - val_loss: 0.0677 - val_dice_coef: 0.6086\n"
          ],
          "name": "stdout"
        },
        {
          "output_type": "execute_result",
          "data": {
            "text/plain": [
              "<tensorflow.python.keras.callbacks.History at 0x7f22386f0da0>"
            ]
          },
          "metadata": {
            "tags": []
          },
          "execution_count": 43
        }
      ]
    },
    {
      "cell_type": "code",
      "metadata": {
        "id": "JcVogfX2Qey0",
        "colab_type": "code",
        "colab": {}
      },
      "source": [
        "model.save('M-NET.h5')"
      ],
      "execution_count": 0,
      "outputs": []
    }
  ]
}