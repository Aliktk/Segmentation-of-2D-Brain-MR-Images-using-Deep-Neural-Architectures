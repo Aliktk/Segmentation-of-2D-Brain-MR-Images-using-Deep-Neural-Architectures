{
  "nbformat": 4,
  "nbformat_minor": 0,
  "metadata": {
    "colab": {
      "name": "Untitled0.ipynb",
      "provenance": [],
      "collapsed_sections": [],
      "authorship_tag": "ABX9TyNiiLgoV7/R1I3I+96PKUkQ",
      "include_colab_link": true
    },
    "kernelspec": {
      "name": "python3",
      "display_name": "Python 3"
    },
    "accelerator": "TPU"
  },
  "cells": [
    {
      "cell_type": "markdown",
      "metadata": {
        "id": "view-in-github",
        "colab_type": "text"
      },
      "source": [
        "<a href=\"https://colab.research.google.com/github/angadbajwa23/Brain-Image-Segmentation/blob/master/Model.ipynb\" target=\"_parent\"><img src=\"https://colab.research.google.com/assets/colab-badge.svg\" alt=\"Open In Colab\"/></a>"
      ]
    },
    {
      "cell_type": "code",
      "metadata": {
        "id": "WIsjYFwJUY8p",
        "colab_type": "code",
        "outputId": "45e80bd6-57f5-4819-9297-ca24eb1aabf5",
        "colab": {
          "base_uri": "https://localhost:8080/",
          "height": 121
        }
      },
      "source": [
        "from google.colab import drive\n",
        "drive.mount('/content/gdrive')"
      ],
      "execution_count": 1,
      "outputs": [
        {
          "output_type": "stream",
          "text": [
            "Go to this URL in a browser: https://accounts.google.com/o/oauth2/auth?client_id=947318989803-6bn6qk8qdgf4n4g3pfee6491hc0brc4i.apps.googleusercontent.com&redirect_uri=urn%3aietf%3awg%3aoauth%3a2.0%3aoob&response_type=code&scope=email%20https%3a%2f%2fwww.googleapis.com%2fauth%2fdocs.test%20https%3a%2f%2fwww.googleapis.com%2fauth%2fdrive%20https%3a%2f%2fwww.googleapis.com%2fauth%2fdrive.photos.readonly%20https%3a%2f%2fwww.googleapis.com%2fauth%2fpeopleapi.readonly\n",
            "\n",
            "Enter your authorization code:\n",
            "··········\n",
            "Mounted at /content/gdrive\n"
          ],
          "name": "stdout"
        }
      ]
    },
    {
      "cell_type": "code",
      "metadata": {
        "id": "34XCLUttNB5E",
        "colab_type": "code",
        "outputId": "83b3ffb1-9305-493a-cc84-4dca97601c52",
        "colab": {
          "base_uri": "https://localhost:8080/",
          "height": 34
        }
      },
      "source": [
        "%cd gdrive/My Drive"
      ],
      "execution_count": 1,
      "outputs": [
        {
          "output_type": "stream",
          "text": [
            "/content/gdrive/My Drive\n"
          ],
          "name": "stdout"
        }
      ]
    },
    {
      "cell_type": "code",
      "metadata": {
        "id": "nuzm7QADNQzC",
        "colab_type": "code",
        "outputId": "df425ff5-2cb9-4f16-9b74-649f126a9192",
        "colab": {
          "base_uri": "https://localhost:8080/",
          "height": 34
        }
      },
      "source": [
        "import matplotlib.pyplot as plt\n",
        "from numpy import load\n",
        "import numpy as np\n",
        "import h5py\n",
        "import tensorflow as tf\n",
        "import numpy as np\n",
        "import skimage.io as io\n",
        "import skimage.color as color\n",
        "import random as r\n",
        "import math\n",
        "from keras.models import Model\n",
        "from keras.layers import Dense, Dropout, Activation, Flatten\n",
        "from keras.layers import concatenate, Conv2D, MaxPooling2D, Conv2DTranspose\n",
        "from keras.layers import Input, merge, UpSampling2D,BatchNormalization\n",
        "from keras.callbacks import ModelCheckpoint\n",
        "from keras.optimizers import Adam\n",
        "from keras.preprocessing.image import ImageDataGenerator\n",
        "from keras import backend as K"
      ],
      "execution_count": 2,
      "outputs": [
        {
          "output_type": "stream",
          "text": [
            "Using TensorFlow backend.\n"
          ],
          "name": "stderr"
        }
      ]
    },
    {
      "cell_type": "code",
      "metadata": {
        "id": "hBPoH8qPsnC_",
        "colab_type": "code",
        "outputId": "4a0cdd4a-73b4-42b3-e9c8-a08dea060c23",
        "colab": {
          "base_uri": "https://localhost:8080/",
          "height": 50
        }
      },
      "source": [
        "#K.set_image_dim_orderin(\"th\")\n",
        "K.set_image_data_format('channels_last')\n",
        "\n",
        "img_size = 240      #original img size is 240*240\n",
        "smooth = 0.005 \n",
        "num_of_aug = 2\n",
        "num_epoch = 30\n",
        "pul_seq = 'Flair'\n",
        "sharp = False       # sharpen filter\n",
        "LR = 1e-4\n",
        "\n",
        "num_of_patch = 4 #must be a square number\n",
        "label_num = 5   # 1 = necrosis+NET, 2 = tumor core,3= original, 4 = ET, 5 = complete tumor\n",
        "'''\n",
        "0: other\n",
        "1: necrosis + NET\n",
        "2: edema\n",
        "4: enhancing tumor\n",
        "5: full tumor\n",
        "'''\n",
        "import tensorflow as tf\n",
        "import keras.backend.tensorflow_backend as tfback\n",
        "\n",
        "print(\"tf.__version__ is\", tf.__version__)\n",
        "print(\"tf.keras.__version__ is:\", tf.keras.__version__)\n",
        "\n",
        "def _get_available_gpus():\n",
        "    \"\"\"Get a list of available gpu devices (formatted as strings).\n",
        "\n",
        "    # Returns\n",
        "        A list of available GPU devices.\n",
        "    \"\"\"\n"
      ],
      "execution_count": 3,
      "outputs": [
        {
          "output_type": "stream",
          "text": [
            "tf.__version__ is 2.2.0\n",
            "tf.keras.__version__ is: 2.3.0-tf\n"
          ],
          "name": "stdout"
        }
      ]
    },
    {
      "cell_type": "code",
      "metadata": {
        "id": "5zA6g6SnUaoJ",
        "colab_type": "code",
        "outputId": "5b48f4a7-daf6-4b0f-b8ec-4c7d69833f7a",
        "colab": {
          "base_uri": "https://localhost:8080/",
          "height": 34
        }
      },
      "source": [
        "# load dict of arrays\n",
        "dict_data = load('flair.npz')\n",
        "# extract the first array\n",
        "flair = dict_data['arr_0']\n",
        "flair=flair[:10,:]\n",
        "# print the array\n",
        "flair.shape"
      ],
      "execution_count": 4,
      "outputs": [
        {
          "output_type": "execute_result",
          "data": {
            "text/plain": [
              "(10, 240, 240, 155, 1)"
            ]
          },
          "metadata": {
            "tags": []
          },
          "execution_count": 4
        }
      ]
    },
    {
      "cell_type": "code",
      "metadata": {
        "id": "QCFShhxcM_2R",
        "colab_type": "code",
        "outputId": "29a09561-0d3f-47d3-d9f8-21166fc0583b",
        "colab": {
          "base_uri": "https://localhost:8080/",
          "height": 34
        }
      },
      "source": [
        "dict_data = load('label_full.npz')\n",
        "# extract the first array\n",
        "label_full= dict_data['arr_0']\n",
        "# print the array\n",
        "label_full=label_full[:10,:]\n",
        "label_full.shape"
      ],
      "execution_count": 5,
      "outputs": [
        {
          "output_type": "execute_result",
          "data": {
            "text/plain": [
              "(10, 240, 240, 155, 1)"
            ]
          },
          "metadata": {
            "tags": []
          },
          "execution_count": 5
        }
      ]
    },
    {
      "cell_type": "code",
      "metadata": {
        "id": "Q1r8PrncyRZu",
        "colab_type": "code",
        "colab": {}
      },
      "source": [
        "flair=np.resize(flair,(10,240,240,128,1))"
      ],
      "execution_count": 0,
      "outputs": []
    },
    {
      "cell_type": "code",
      "metadata": {
        "id": "7VnUrgKX0DG1",
        "colab_type": "code",
        "colab": {}
      },
      "source": [
        "label_full=np.resize(label_full,(10,240,240,128,1))"
      ],
      "execution_count": 0,
      "outputs": []
    },
    {
      "cell_type": "code",
      "metadata": {
        "id": "JtsUjqGSNfo6",
        "colab_type": "code",
        "outputId": "04fc7957-b661-4432-da89-18afd278fdc1",
        "colab": {
          "base_uri": "https://localhost:8080/",
          "height": 246
        }
      },
      "source": [
        "plt.figure(figsize=(15,10))\n",
        "\n",
        "plt.subplot(241)\n",
        "plt.title('Flair')\n",
        "plt.axis('off')\n",
        "plt.imshow(flair[10, :, :, 100,0])\n",
        "plt.subplot(242)\n",
        "plt.title('Ground Truth(Full)')\n",
        "plt.axis('off')\n",
        "plt.imshow(label_full[10, :, :, 100,0])"
      ],
      "execution_count": 11,
      "outputs": [
        {
          "output_type": "execute_result",
          "data": {
            "text/plain": [
              "<matplotlib.image.AxesImage at 0x7fb65ec571d0>"
            ]
          },
          "metadata": {
            "tags": []
          },
          "execution_count": 11
        },
        {
          "output_type": "display_data",
          "data": {
            "image/png": "[encoded data removed]",
            "text/plain": [
              "<Figure size 1080x720 with 2 Axes>"
            ]
          },
          "metadata": {
            "tags": [],
            "needs_background": "light"
          }
        }
      ]
    },
    {
      "cell_type": "code",
      "metadata": {
        "id": "ISokRTJ5Yp9s",
        "colab_type": "code",
        "colab": {}
      },
      "source": [
        "with h5py.File('Train.hdf5', 'w') as hf:\n",
        "    hf.create_dataset(\"flair\", data=flair)\n",
        "    hf.create_dataset(\"gt\", data=label_full)\n"
      ],
      "execution_count": 0,
      "outputs": []
    },
    {
      "cell_type": "code",
      "metadata": {
        "id": "O1xwb7UNZZlg",
        "colab_type": "code",
        "colab": {}
      },
      "source": [
        "with h5py.File('Name.h5', 'r') as hf:\n",
        "    flair = hf['flair'][:]\n",
        "    gt=hf['gt'][:]"
      ],
      "execution_count": 0,
      "outputs": []
    },
    {
      "cell_type": "code",
      "metadata": {
        "id": "stXj1Lp8c5zy",
        "colab_type": "code",
        "colab": {}
      },
      "source": [
        "with h5py.File('Train.hdf5', 'r') as hf:\n",
        "    train_flair = hf['flair'][:168,:]\n",
        "    train_gt=hf['gt'][:168,:]"
      ],
      "execution_count": 0,
      "outputs": []
    },
    {
      "cell_type": "code",
      "metadata": {
        "id": "LQjXFQzWvXFh",
        "colab_type": "code",
        "colab": {}
      },
      "source": [
        "from keras.models import Model\n",
        "from keras.layers import Input, concatenate, Conv3D, MaxPooling3D, Conv3DTranspose, AveragePooling3D, ZeroPadding3D\n",
        "from keras.optimizers import RMSprop, Adam, SGD\n",
        "from keras.callbacks import ModelCheckpoint, CSVLogger\n",
        "from keras import backend as K\n",
        "from keras.regularizers import l2\n",
        "from keras.utils import plot_model"
      ],
      "execution_count": 0,
      "outputs": []
    },
    {
      "cell_type": "code",
      "metadata": {
        "id": "DT0eBorNsa0F",
        "colab_type": "code",
        "colab": {}
      },
      "source": [
        "\n",
        "img_depth=128\n",
        "img_rows=240\n",
        "img_cols=240\n",
        "\n",
        "def dice_coef(y_true, y_pred):\n",
        "    y_true_f = K.flatten(y_true)\n",
        "    y_pred_f = K.flatten(y_pred)\n",
        "    intersection = K.sum(y_true_f * y_pred_f)\n",
        "    return (2. * intersection + smooth) / (K.sum(y_true_f) + K.sum(y_pred_f) + smooth)\n",
        "\n",
        "\n",
        "def dice_coef_loss(y_true, y_pred):\n",
        "    return 1-dice_coef(y_true, y_pred)\n",
        "    \n",
        "\n",
        "def get_unet():\n",
        "    inputs = Input((img_rows, img_cols,img_depth,1))\n",
        "    conv1 = Conv3D(32, (3, 3, 3), activation='relu', padding='same')(inputs)\n",
        "    conv1 = Conv3D(32, (3, 3, 3), activation='relu', padding='same')(conv1)\n",
        "    pool1 = MaxPooling3D(pool_size=(2, 2, 2))(conv1)\n",
        "\n",
        "    conv2 = Conv3D(64, (3, 3, 3), activation='relu', padding='same')(pool1)\n",
        "    conv2 = Conv3D(64, (3, 3, 3), activation='relu', padding='same')(conv2)\n",
        "    pool2 = MaxPooling3D(pool_size=(2, 2, 2))(conv2)\n",
        "\n",
        "    conv3 = Conv3D(128, (3, 3, 3), activation='relu', padding='same')(pool2)\n",
        "    conv3 = Conv3D(128, (3, 3, 3), activation='relu', padding='same')(conv3)\n",
        "    pool3 = MaxPooling3D(pool_size=(2, 2, 2))(conv3)\n",
        "\n",
        "    conv4 = Conv3D(256, (3, 3, 3), activation='relu', padding='same')(pool3)\n",
        "    conv4 = Conv3D(256, (3, 3, 3), activation='relu', padding='same')(conv4)\n",
        "    pool4 = MaxPooling3D(pool_size=(2, 2, 2))(conv4)\n",
        "\n",
        "    conv5 = Conv3D(512, (3, 3, 3), activation='relu', padding='same')(pool4)\n",
        "    conv5 = Conv3D(512, (3, 3, 3), activation='relu', padding='same')(conv5)\n",
        "\n",
        "    up6 = concatenate([Conv3DTranspose(256, (2, 2, 2), strides=(2, 2, 2), padding='same')(conv5), conv4], axis=4)\n",
        "    conv6 = Conv3D(256, (3, 3, 3), activation='relu', padding='same')(up6)\n",
        "    conv6 = Conv3D(256, (3, 3, 3), activation='relu', padding='same')(conv6)\n",
        "\n",
        "    up7 = concatenate([Conv3DTranspose(128, (2, 2, 2), strides=(2, 2, 2), padding='same')(conv6), conv3], axis=4)\n",
        "    conv7 = Conv3D(128, (3, 3, 3), activation='relu', padding='same')(up7)\n",
        "    conv7 = Conv3D(128, (3, 3, 3), activation='relu', padding='same')(conv7)\n",
        "\n",
        "    up8 = concatenate([Conv3DTranspose(64, (2, 2, 2), strides=(2, 2, 2), padding='same')(conv7), conv2], axis=4)\n",
        "    conv8 = Conv3D(64, (3, 3, 3), activation='relu', padding='same')(up8)\n",
        "    conv8 = Conv3D(64, (3, 3, 3), activation='relu', padding='same')(conv8)\n",
        "\n",
        "    up9 = concatenate([Conv3DTranspose(32, (2, 2, 2), strides=(2, 2, 2), padding='same')(conv8), conv1], axis=4)\n",
        "    conv9 = Conv3D(32, (3, 3, 3), activation='relu', padding='same')(up9)\n",
        "    conv9 = Conv3D(32, (3, 3, 3), activation='relu', padding='same')(conv9)\n",
        "\n",
        "    conv10 = Conv3D(1, (1, 1, 1), activation='sigmoid')(conv9)\n",
        "\n",
        "\n",
        "    model = Model(inputs=[inputs], outputs=[conv10])\n",
        "\n",
        "    model.summary()\n",
        "    #plot_model(model, to_file='model.png')\n",
        "\n",
        "    model.compile(optimizer=Adam(lr=1e-5, beta_1=0.9, beta_2=0.999, epsilon=1e-08, decay=0.000000199), loss=dice_coef_loss, metrics=[dice_coef])\n",
        "\n",
        "    return model\n"
      ],
      "execution_count": 0,
      "outputs": []
    },
    {
      "cell_type": "code",
      "metadata": {
        "id": "YvzJz7EEvKVh",
        "colab_type": "code",
        "outputId": "5de890d2-7d04-41a8-ff4f-c57d6e00843f",
        "colab": {
          "base_uri": "https://localhost:8080/",
          "height": 1000
        }
      },
      "source": [
        "model2=get_unet()\n",
        "model2.summary"
      ],
      "execution_count": 10,
      "outputs": [
        {
          "output_type": "stream",
          "text": [
            "Model: \"model_1\"\n",
            "__________________________________________________________________________________________________\n",
            "Layer (type)                    Output Shape         Param #     Connected to                     \n",
            "==================================================================================================\n",
            "input_1 (InputLayer)            (None, 240, 240, 128 0                                            \n",
            "__________________________________________________________________________________________________\n",
            "conv3d_1 (Conv3D)               (None, 240, 240, 128 896         input_1[0][0]                    \n",
            "__________________________________________________________________________________________________\n",
            "conv3d_2 (Conv3D)               (None, 240, 240, 128 27680       conv3d_1[0][0]                   \n",
            "__________________________________________________________________________________________________\n",
            "max_pooling3d_1 (MaxPooling3D)  (None, 120, 120, 64, 0           conv3d_2[0][0]                   \n",
            "__________________________________________________________________________________________________\n",
            "conv3d_3 (Conv3D)               (None, 120, 120, 64, 55360       max_pooling3d_1[0][0]            \n",
            "__________________________________________________________________________________________________\n",
            "conv3d_4 (Conv3D)               (None, 120, 120, 64, 110656      conv3d_3[0][0]                   \n",
            "__________________________________________________________________________________________________\n",
            "max_pooling3d_2 (MaxPooling3D)  (None, 60, 60, 32, 6 0           conv3d_4[0][0]                   \n",
            "__________________________________________________________________________________________________\n",
            "conv3d_5 (Conv3D)               (None, 60, 60, 32, 1 221312      max_pooling3d_2[0][0]            \n",
            "__________________________________________________________________________________________________\n",
            "conv3d_6 (Conv3D)               (None, 60, 60, 32, 1 442496      conv3d_5[0][0]                   \n",
            "__________________________________________________________________________________________________\n",
            "max_pooling3d_3 (MaxPooling3D)  (None, 30, 30, 16, 1 0           conv3d_6[0][0]                   \n",
            "__________________________________________________________________________________________________\n",
            "conv3d_7 (Conv3D)               (None, 30, 30, 16, 2 884992      max_pooling3d_3[0][0]            \n",
            "__________________________________________________________________________________________________\n",
            "conv3d_8 (Conv3D)               (None, 30, 30, 16, 2 1769728     conv3d_7[0][0]                   \n",
            "__________________________________________________________________________________________________\n",
            "max_pooling3d_4 (MaxPooling3D)  (None, 15, 15, 8, 25 0           conv3d_8[0][0]                   \n",
            "__________________________________________________________________________________________________\n",
            "conv3d_9 (Conv3D)               (None, 15, 15, 8, 51 3539456     max_pooling3d_4[0][0]            \n",
            "__________________________________________________________________________________________________\n",
            "conv3d_10 (Conv3D)              (None, 15, 15, 8, 51 7078400     conv3d_9[0][0]                   \n",
            "__________________________________________________________________________________________________\n",
            "conv3d_transpose_1 (Conv3DTrans (None, 30, 30, 16, 2 1048832     conv3d_10[0][0]                  \n",
            "__________________________________________________________________________________________________\n",
            "concatenate_1 (Concatenate)     (None, 30, 30, 16, 5 0           conv3d_transpose_1[0][0]         \n",
            "                                                                 conv3d_8[0][0]                   \n",
            "__________________________________________________________________________________________________\n",
            "conv3d_11 (Conv3D)              (None, 30, 30, 16, 2 3539200     concatenate_1[0][0]              \n",
            "__________________________________________________________________________________________________\n",
            "conv3d_12 (Conv3D)              (None, 30, 30, 16, 2 1769728     conv3d_11[0][0]                  \n",
            "__________________________________________________________________________________________________\n",
            "conv3d_transpose_2 (Conv3DTrans (None, 60, 60, 32, 1 262272      conv3d_12[0][0]                  \n",
            "__________________________________________________________________________________________________\n",
            "concatenate_2 (Concatenate)     (None, 60, 60, 32, 2 0           conv3d_transpose_2[0][0]         \n",
            "                                                                 conv3d_6[0][0]                   \n",
            "__________________________________________________________________________________________________\n",
            "conv3d_13 (Conv3D)              (None, 60, 60, 32, 1 884864      concatenate_2[0][0]              \n",
            "__________________________________________________________________________________________________\n",
            "conv3d_14 (Conv3D)              (None, 60, 60, 32, 1 442496      conv3d_13[0][0]                  \n",
            "__________________________________________________________________________________________________\n",
            "conv3d_transpose_3 (Conv3DTrans (None, 120, 120, 64, 65600       conv3d_14[0][0]                  \n",
            "__________________________________________________________________________________________________\n",
            "concatenate_3 (Concatenate)     (None, 120, 120, 64, 0           conv3d_transpose_3[0][0]         \n",
            "                                                                 conv3d_4[0][0]                   \n",
            "__________________________________________________________________________________________________\n",
            "conv3d_15 (Conv3D)              (None, 120, 120, 64, 221248      concatenate_3[0][0]              \n",
            "__________________________________________________________________________________________________\n",
            "conv3d_16 (Conv3D)              (None, 120, 120, 64, 110656      conv3d_15[0][0]                  \n",
            "__________________________________________________________________________________________________\n",
            "conv3d_transpose_4 (Conv3DTrans (None, 240, 240, 128 16416       conv3d_16[0][0]                  \n",
            "__________________________________________________________________________________________________\n",
            "concatenate_4 (Concatenate)     (None, 240, 240, 128 0           conv3d_transpose_4[0][0]         \n",
            "                                                                 conv3d_2[0][0]                   \n",
            "__________________________________________________________________________________________________\n",
            "conv3d_17 (Conv3D)              (None, 240, 240, 128 55328       concatenate_4[0][0]              \n",
            "__________________________________________________________________________________________________\n",
            "conv3d_18 (Conv3D)              (None, 240, 240, 128 27680       conv3d_17[0][0]                  \n",
            "__________________________________________________________________________________________________\n",
            "conv3d_19 (Conv3D)              (None, 240, 240, 128 33          conv3d_18[0][0]                  \n",
            "==================================================================================================\n",
            "Total params: 22,575,329\n",
            "Trainable params: 22,575,329\n",
            "Non-trainable params: 0\n",
            "__________________________________________________________________________________________________\n"
          ],
          "name": "stdout"
        },
        {
          "output_type": "execute_result",
          "data": {
            "text/plain": [
              "<bound method Network.summary of <keras.engine.training.Model object at 0x7f5df70224a8>>"
            ]
          },
          "metadata": {
            "tags": []
          },
          "execution_count": 10
        }
      ]
    },
    {
      "cell_type": "code",
      "metadata": {
        "id": "i0Jtq-LFvPKu",
        "colab_type": "code",
        "outputId": "d0d8686e-51cd-4e2c-e778-6b5587511320",
        "colab": {
          "base_uri": "https://localhost:8080/",
          "height": 34
        }
      },
      "source": [
        "model2.fit(flair,label_full, batch_size=1, epochs=1, verbose=2, shuffle=True)"
      ],
      "execution_count": 0,
      "outputs": [
        {
          "output_type": "stream",
          "text": [
            "Epoch 1/1\n"
          ],
          "name": "stdout"
        }
      ]
    },
    {
      "cell_type": "markdown",
      "metadata": {
        "id": "RGdAesrg2Zti",
        "colab_type": "text"
      },
      "source": [
        ""
      ]
    },
    {
      "cell_type": "code",
      "metadata": {
        "id": "R_5Vs7VRyY6l",
        "colab_type": "code",
        "outputId": "cd7e0bfb-d496-4f69-cf5f-69f82833f9cc",
        "colab": {
          "base_uri": "https://localhost:8080/",
          "height": 34
        }
      },
      "source": [
        "flair.shape"
      ],
      "execution_count": 0,
      "outputs": [
        {
          "output_type": "execute_result",
          "data": {
            "text/plain": [
              "(168, 240, 240, 128, 1)"
            ]
          },
          "metadata": {
            "tags": []
          },
          "execution_count": 13
        }
      ]
    },
    {
      "cell_type": "code",
      "metadata": {
        "id": "K7iGKKES11v-",
        "colab_type": "code",
        "colab": {}
      },
      "source": [
        "label_full.shape"
      ],
      "execution_count": 0,
      "outputs": []
    },
    {
      "cell_type": "code",
      "metadata": {
        "id": "XXtOAr3D18Jv",
        "colab_type": "code",
        "colab": {}
      },
      "source": [
        ""
      ],
      "execution_count": 0,
      "outputs": []
    }
  ]
}
