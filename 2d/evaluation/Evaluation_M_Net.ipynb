{
  "nbformat": 4,
  "nbformat_minor": 0,
  "metadata": {
    "colab": {
      "name": "Evaluation_M-Net.ipynb",
      "provenance": [],
      "authorship_tag": "ABX9TyPD+u5bKkllqu9bQ2Vnn7BD",
      "include_colab_link": true
    },
    "kernelspec": {
      "name": "python3",
      "display_name": "Python 3"
    },
    "accelerator": "GPU"
  },
  "cells": [
    {
      "cell_type": "markdown",
      "metadata": {
        "id": "view-in-github",
        "colab_type": "text"
      },
      "source": [
        "<a href=\"https://colab.research.google.com/github/angadbajwa23/Brain-Image-Segmentation/blob/master/Evaluation_M_Net.ipynb\" target=\"_parent\"><img src=\"https://colab.research.google.com/assets/colab-badge.svg\" alt=\"Open In Colab\"/></a>"
      ]
    },
    {
      "cell_type": "code",
      "metadata": {
        "id": "-8u_dUfNHZmp",
        "colab_type": "code",
        "colab": {}
      },
      "source": [
        ""
      ],
      "execution_count": 0,
      "outputs": []
    },
    {
      "cell_type": "code",
      "metadata": {
        "id": "P1N6pFyJGPgy",
        "colab_type": "code",
        "colab": {}
      },
      "source": [
        "dependencies = {\n",
        "     'dice_coef': dice_coef,\n",
        "     'bce_dice_loss': bce_dice_loss\n",
        "}\n",
        "model = tf.keras.models.load_model('M-NET.h5',custom_objects=dependencies)"
      ],
      "execution_count": 0,
      "outputs": []
    },
    {
      "cell_type": "code",
      "metadata": {
        "id": "dtVGu_jPGWzf",
        "colab_type": "code",
        "outputId": "8e630bc1-e0d2-43a8-84f2-77c743ea2343",
        "colab": {
          "base_uri": "https://localhost:8080/",
          "height": 50
        }
      },
      "source": [
        "results = model.evaluate(images_test, masks_test, batch_size=2)\n",
        "print('dice_coeff:', results)"
      ],
      "execution_count": 0,
      "outputs": [
        {
          "output_type": "stream",
          "text": [
            "153/153 [==============================] - 7s 47ms/step - loss: 0.0669 - dice_coef: 0.6321\n",
            "dice_coeff: [0.06685967743396759, 0.6320832967758179]\n"
          ],
          "name": "stdout"
        }
      ]
    }
  ]
}
