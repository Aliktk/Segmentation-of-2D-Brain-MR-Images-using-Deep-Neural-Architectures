{
  "nbformat": 4,
  "nbformat_minor": 0,
  "metadata": {
    "colab": {
      "name": "M-net+regularization.ipynb",
      "provenance": [],
      "authorship_tag": "ABX9TyMweooXzLpDxlIwq8ouDvY5",
      "include_colab_link": true
    },
    "kernelspec": {
      "name": "python3",
      "display_name": "Python 3"
    },
    "accelerator": "GPU"
  },
  "cells": [
    {
      "cell_type": "markdown",
      "metadata": {
        "id": "view-in-github",
        "colab_type": "text"
      },
      "source": [
        "<a href=\"https://colab.research.google.com/github/angadbajwa23/Brain-Image-Segmentation/blob/master/M_net%2Bregularization.ipynb\" target=\"_parent\"><img src=\"https://colab.research.google.com/assets/colab-badge.svg\" alt=\"Open In Colab\"/></a>"
      ]
    },
    {
      "cell_type": "code",
      "metadata": {
        "id": "YsmpeLX9xrwx",
        "colab_type": "code",
        "outputId": "f52a487c-3997-4854-9476-77ce06435234",
        "colab": {
          "base_uri": "https://localhost:8080/",
          "height": 121
        }
      },
      "source": [
        "from google.colab import drive\n",
        "drive.mount('/content/gdrive')"
      ],
      "execution_count": 2,
      "outputs": [
        {
          "output_type": "stream",
          "text": [
            "Go to this URL in a browser: https://accounts.google.com/o/oauth2/auth?client_id=947318989803-6bn6qk8qdgf4n4g3pfee6491hc0brc4i.apps.googleusercontent.com&redirect_uri=urn%3aietf%3awg%3aoauth%3a2.0%3aoob&response_type=code&scope=email%20https%3a%2f%2fwww.googleapis.com%2fauth%2fdocs.test%20https%3a%2f%2fwww.googleapis.com%2fauth%2fdrive%20https%3a%2f%2fwww.googleapis.com%2fauth%2fdrive.photos.readonly%20https%3a%2f%2fwww.googleapis.com%2fauth%2fpeopleapi.readonly\n",
            "\n",
            "Enter your authorization code:\n",
            "··········\n",
            "Mounted at /content/gdrive\n"
          ],
          "name": "stdout"
        }
      ]
    },
    {
      "cell_type": "code",
      "metadata": {
        "id": "Ohxl4RQZx5GZ",
        "colab_type": "code",
        "outputId": "6b5116db-f9c7-4a27-e530-3f91ccde4ea7",
        "colab": {
          "base_uri": "https://localhost:8080/",
          "height": 34
        }
      },
      "source": [
        "%cd gdrive/My Drive/2d"
      ],
      "execution_count": 3,
      "outputs": [
        {
          "output_type": "stream",
          "text": [
            "/content/gdrive/My Drive/2d\n"
          ],
          "name": "stdout"
        }
      ]
    },
    {
      "cell_type": "code",
      "metadata": {
        "id": "_NKCnidMyOjL",
        "colab_type": "code",
        "outputId": "8b55f003-2773-4fb2-bc2e-e1e35331c43c",
        "colab": {
          "base_uri": "https://localhost:8080/",
          "height": 151
        }
      },
      "source": [
        "!pip install hdf5storage"
      ],
      "execution_count": 4,
      "outputs": [
        {
          "output_type": "stream",
          "text": [
            "Collecting hdf5storage\n",
            "\u001b[?25l  Downloading https://files.pythonhosted.org/packages/79/e0/5dd25068a231cd817265529368aca2f918049b290dcb2fd9b24ce136adf4/hdf5storage-0.1.15-py2.py3-none-any.whl (56kB)\n",
            "\r\u001b[K     |█████▊                          | 10kB 24.7MB/s eta 0:00:01\r\u001b[K     |███████████▌                    | 20kB 5.0MB/s eta 0:00:01\r\u001b[K     |█████████████████▎              | 30kB 6.3MB/s eta 0:00:01\r\u001b[K     |███████████████████████         | 40kB 5.4MB/s eta 0:00:01\r\u001b[K     |████████████████████████████▉   | 51kB 6.5MB/s eta 0:00:01\r\u001b[K     |████████████████████████████████| 61kB 4.5MB/s \n",
            "\u001b[?25hRequirement already satisfied: numpy; python_version >= \"3.4\" in /usr/local/lib/python3.6/dist-packages (from hdf5storage) (1.18.4)\n",
            "Requirement already satisfied: h5py>=2.1; python_version >= \"3.3\" in /usr/local/lib/python3.6/dist-packages (from hdf5storage) (2.10.0)\n",
            "Requirement already satisfied: six in /usr/local/lib/python3.6/dist-packages (from h5py>=2.1; python_version >= \"3.3\"->hdf5storage) (1.12.0)\n",
            "Installing collected packages: hdf5storage\n",
            "Successfully installed hdf5storage-0.1.15\n"
          ],
          "name": "stdout"
        }
      ]
    },
    {
      "cell_type": "code",
      "metadata": {
        "id": "-WsWbaLsxwIF",
        "colab_type": "code",
        "outputId": "e221a292-69f5-4e17-e562-806e8c683f9a",
        "colab": {
          "base_uri": "https://localhost:8080/",
          "height": 34
        }
      },
      "source": [
        "import os\n",
        "import argparse\n",
        "import sys\n",
        "import numpy as np\n",
        "import hdf5storage\n",
        "import cv2\n",
        "import matplotlib.pyplot as plt\n",
        "\n",
        "\n",
        "import skimage.io as io\n",
        "import skimage.transform as trans\n",
        "from keras.models import *\n",
        "from keras.layers import *\n",
        "from keras.optimizers import *\n",
        "from keras.callbacks import ModelCheckpoint, LearningRateScheduler\n",
        "from keras import backend as keras"
      ],
      "execution_count": 5,
      "outputs": [
        {
          "output_type": "stream",
          "text": [
            "Using TensorFlow backend.\n"
          ],
          "name": "stderr"
        }
      ]
    },
    {
      "cell_type": "code",
      "metadata": {
        "id": "nGJ3pIEZyMQC",
        "colab_type": "code",
        "colab": {}
      },
      "source": [
        "labels = np.load('labels.npy')\n",
        "images = np.load('images.npy')\n",
        "masks = np.load('masks.npy')"
      ],
      "execution_count": 0,
      "outputs": []
    },
    {
      "cell_type": "code",
      "metadata": {
        "id": "nsTuT2Y8yQ3e",
        "colab_type": "code",
        "colab": {}
      },
      "source": [
        "images = images[..., np.newaxis]"
      ],
      "execution_count": 0,
      "outputs": []
    },
    {
      "cell_type": "code",
      "metadata": {
        "id": "2Llzglm3ySkb",
        "colab_type": "code",
        "colab": {}
      },
      "source": [
        "masks = masks[..., np.newaxis]"
      ],
      "execution_count": 0,
      "outputs": []
    },
    {
      "cell_type": "code",
      "metadata": {
        "id": "PiYKU9yJyT7Q",
        "colab_type": "code",
        "colab": {}
      },
      "source": [
        "for i in range(images.shape[0]):\n",
        "  images[i,:, :] = (images[i,:, :] - np.mean(images[i,:, :]))/ np.std(images[i,:, :])"
      ],
      "execution_count": 0,
      "outputs": []
    },
    {
      "cell_type": "code",
      "metadata": {
        "id": "3vvoLh66yVco",
        "colab_type": "code",
        "colab": {}
      },
      "source": [
        "from sklearn.model_selection import train_test_split\n",
        "\n",
        "images_train, images_test, masks_train, masks_test = train_test_split(images,masks,test_size=0.2,train_size=0.8,random_state=1)\n",
        "images_test, images_cv, masks_test, masks_cv = train_test_split(images_test,masks_test,test_size = 0.5,train_size =0.5,random_state=1)"
      ],
      "execution_count": 0,
      "outputs": []
    },
    {
      "cell_type": "code",
      "metadata": {
        "id": "q3p1r3TSyW5C",
        "colab_type": "code",
        "outputId": "083c1997-63c3-42a9-f8df-24d804db0502",
        "colab": {
          "base_uri": "https://localhost:8080/",
          "height": 168
        }
      },
      "source": [
        "print (\"number of training examples = \" + str(images_train.shape[0]))\n",
        "print (\"number of development examples = \" + str(images_cv.shape[0]))\n",
        "print (\"number of test examples = \" + str(images_test.shape[0]))\n",
        "print (\"Images_train shape: \" + str(images_train.shape))\n",
        "print (\"Masks_train shape: \" + str(masks_train.shape))\n",
        "print (\"Images_val (dev) shape: \" + str(images_cv.shape))\n",
        "print (\"Masks_val (dev) shape: \" + str(masks_cv.shape))\n",
        "print (\"Images_test shape: \" + str(images_test.shape))\n",
        "print (\"Masks_test shape: \" + str(masks_test.shape))"
      ],
      "execution_count": 11,
      "outputs": [
        {
          "output_type": "stream",
          "text": [
            "number of training examples = 2451\n",
            "number of development examples = 307\n",
            "number of test examples = 306\n",
            "Images_train shape: (2451, 512, 512, 1)\n",
            "Masks_train shape: (2451, 512, 512, 1)\n",
            "Images_val (dev) shape: (307, 512, 512, 1)\n",
            "Masks_val (dev) shape: (307, 512, 512, 1)\n",
            "Images_test shape: (306, 512, 512, 1)\n",
            "Masks_test shape: (306, 512, 512, 1)\n"
          ],
          "name": "stdout"
        }
      ]
    },
    {
      "cell_type": "code",
      "metadata": {
        "id": "9ZcUvId7yYpK",
        "colab_type": "code",
        "colab": {}
      },
      "source": [
        "smooth = 1\n",
        "def dice_coef(y_true, y_pred):\n",
        "    y_true_f = K.flatten(y_true)\n",
        "    y_pred_f = K.flatten(y_pred)\n",
        "    intersection = K.sum(y_true_f * y_pred_f)\n",
        "    return (2. * intersection + smooth) / (K.sum(y_true_f) + K.sum(y_pred_f) + smooth)\n",
        "\n",
        "\n",
        "def dice_coef_loss(y_true, y_pred):\n",
        "    return 1-dice_coef(y_true, y_pred)"
      ],
      "execution_count": 0,
      "outputs": []
    },
    {
      "cell_type": "code",
      "metadata": {
        "id": "UBDfveP4yaVc",
        "colab_type": "code",
        "colab": {}
      },
      "source": [
        "def DeepModel(size_set=512):\n",
        "    img_input = Input(shape=(size_set, size_set, 1))\n",
        "\n",
        "    scale_img_2 = AveragePooling2D(pool_size=(2, 2))(img_input)\n",
        "    scale_img_3 = AveragePooling2D(pool_size=(2, 2))(scale_img_2)\n",
        "    scale_img_4 = AveragePooling2D(pool_size=(2, 2))(scale_img_3)\n",
        "\n",
        "    conv1 = Conv2D(32, (3, 3), padding='same', activation='relu', name='block1_conv1')(img_input)\n",
        "    conv1 = Conv2D(32, (3, 3), padding='same', activation='relu', name='block1_conv2')(conv1)\n",
        "    pool1 = MaxPooling2D(pool_size=(2, 2))(conv1)\n",
        "\n",
        "    input2 = Conv2D(64, (3, 3), padding='same', activation='relu', name='block2_input1')(scale_img_2)\n",
        "    input2 = concatenate([input2, pool1], axis=3)\n",
        "    conv2 = Conv2D(64, (3, 3), padding='same', activation='relu', name='block2_conv1')(input2)\n",
        "    conv2 = Conv2D(64, (3, 3), padding='same', activation='relu', name='block2_conv2')(conv2)\n",
        "    pool2 = MaxPooling2D(pool_size=(2, 2))(conv2)\n",
        "\n",
        "    input3 = Conv2D(128, (3, 3), padding='same', activation='relu', name='block3_input1')(scale_img_3)\n",
        "    input3 = concatenate([input3, pool2], axis=3)\n",
        "    conv3 = Conv2D(128, (3, 3), padding='same', activation='relu', name='block3_conv1')(input3)\n",
        "    conv3 = Conv2D(128, (3, 3), padding='same', activation='relu', name='block3_conv2')(conv3)\n",
        "    pool3 = MaxPooling2D(pool_size=(2, 2))(conv3)\n",
        "\n",
        "    input4 = Conv2D(256, (3, 3), padding='same', activation='relu', name='block4_input1')(scale_img_4)\n",
        "    input4 = concatenate([input4, pool3], axis=3)\n",
        "    conv4 = Conv2D(256, (3, 3), padding='same', activation='relu', name='block4_conv1')(input4)\n",
        "    conv4 = Conv2D(256, (3, 3), padding='same', activation='relu', name='block4_conv2')(conv4)\n",
        "    pool4 = MaxPooling2D(pool_size=(2, 2))(conv4)\n",
        "\n",
        "    conv5 = Conv2D(512, (3, 3), padding='same', activation='relu', name='block5_conv1')(pool4)\n",
        "    conv5 = Conv2D(512, (3, 3), padding='same', activation='relu', name='block5_conv2')(conv5)\n",
        "\n",
        "    up6 = concatenate(\n",
        "        [Conv2DTranspose(256, (2, 2), strides=(2, 2), padding='same', name='block6_dconv')(conv5), conv4],\n",
        "        axis=3)\n",
        "    conv6 = Conv2D(256, (3, 3), padding='same', activation='relu', name='block6_conv1')(up6)\n",
        "    conv6 = Conv2D(256, (3, 3), padding='same', activation='relu', name='block6_conv2')(conv6)\n",
        "\n",
        "    up7 = concatenate(\n",
        "        [Conv2DTranspose(128, (2, 2), strides=(2, 2), padding='same', name='block7_dconv')(conv6), conv3],\n",
        "        axis=3)\n",
        "    conv7 = Conv2D(128, (3, 3), padding='same', activation='relu', name='block7_conv1')(up7)\n",
        "    conv7 = Conv2D(128, (3, 3), padding='same', activation='relu', name='block7_conv2')(conv7)\n",
        "\n",
        "    up8 = concatenate([Conv2DTranspose(64, (2, 2), strides=(2, 2), padding='same', name='block8_dconv')(conv7), conv2],\n",
        "                      axis=3)\n",
        "    conv8 = Conv2D(64, (3, 3), padding='same', activation='relu', name='block8_conv1')(up8)\n",
        "    conv8 = Conv2D(64, (3, 3), padding='same', activation='relu', name='block8_conv2')(conv8)\n",
        "\n",
        "    up9 = concatenate([Conv2DTranspose(32, (2, 2), strides=(2, 2), padding='same', name='block9_dconv')(conv8), conv1],\n",
        "                      axis=3)\n",
        "    conv9 = Conv2D(32, (3, 3), padding='same', activation='relu', name='block9_conv1')(up9)\n",
        "    conv9 = Conv2D(32, (3, 3), padding='same', activation='relu', name='block9_conv2')(conv9)\n",
        "\n",
        "    side6 = UpSampling2D(size=(8, 8))(conv6)\n",
        "    side7 = UpSampling2D(size=(4, 4))(conv7)\n",
        "    side8 = UpSampling2D(size=(2, 2))(conv8)\n",
        "    out6 = Conv2D(1, (1, 1), activation='sigmoid', name='side_63')(side6)\n",
        "    out7 = Conv2D(1, (1, 1), activation='sigmoid', name='side_73')(side7)\n",
        "    out8 = Conv2D(1, (1, 1), activation='sigmoid', name='side_83')(side8)\n",
        "    out9 = Conv2D(1, (1, 1), activation='sigmoid', name='side_93')(conv9)\n",
        "\n",
        "    out10 = average([out6, out7, out8, out9])\n",
        "    model = Model(inputs=img_input,outputs=out10)\n",
        "\n",
        "    model.compile(optimizer = Adam(lr = 1e-4, beta_1=0.9, beta_2=0.999, epsilon=1e-08, decay=0.000000199),loss='binary_crossentropy', metrics=[dice_coef])\n",
        "    \n",
        "    model.summary()\n",
        "\n",
        "\n",
        "\n",
        "    return model"
      ],
      "execution_count": 0,
      "outputs": []
    },
    {
      "cell_type": "code",
      "metadata": {
        "id": "gZ63aRL8ycz2",
        "colab_type": "code",
        "colab": {}
      },
      "source": [
        "filepath=\"cnn-parameters-improvement-{epoch:02d}-{dice_coef:.2f}\"\n",
        "# save the model with the best validation (development) accuracy till now\n",
        "checkpoint = ModelCheckpoint(\"models/{}.model\".format(filepath, monitor=[dice_coef], verbose=1, save_best_only=True, mode='max'))"
      ],
      "execution_count": 0,
      "outputs": []
    },
    {
      "cell_type": "code",
      "metadata": {
        "id": "Aehdh9Clyf3m",
        "colab_type": "code",
        "colab": {}
      },
      "source": [
        ""
      ],
      "execution_count": 0,
      "outputs": []
    },
    {
      "cell_type": "code",
      "metadata": {
        "id": "GVwOOjfFyhQs",
        "colab_type": "code",
        "outputId": "118a234b-443f-46b8-f2ac-ccedbdcd06a1",
        "colab": {
          "base_uri": "https://localhost:8080/",
          "height": 1000
        }
      },
      "source": [
        "model=DeepModel()\n",
        "model.fit(images_train, masks_train, batch_size=2, nb_epoch=50, verbose=1,validation_data=(images_cv,masks_cv),callbacks=[checkpoint])"
      ],
      "execution_count": 0,
      "outputs": [
        {
          "output_type": "stream",
          "text": [
            "Model: \"model_2\"\n",
            "__________________________________________________________________________________________________\n",
            "Layer (type)                    Output Shape         Param #     Connected to                     \n",
            "==================================================================================================\n",
            "input_2 (InputLayer)            (None, 512, 512, 1)  0                                            \n",
            "__________________________________________________________________________________________________\n",
            "block1_conv1 (Conv2D)           (None, 512, 512, 32) 320         input_2[0][0]                    \n",
            "__________________________________________________________________________________________________\n",
            "average_pooling2d_4 (AveragePoo (None, 256, 256, 1)  0           input_2[0][0]                    \n",
            "__________________________________________________________________________________________________\n",
            "block1_conv2 (Conv2D)           (None, 512, 512, 32) 9248        block1_conv1[0][0]               \n",
            "__________________________________________________________________________________________________\n",
            "block2_input1 (Conv2D)          (None, 256, 256, 64) 640         average_pooling2d_4[0][0]        \n",
            "__________________________________________________________________________________________________\n",
            "max_pooling2d_5 (MaxPooling2D)  (None, 256, 256, 32) 0           block1_conv2[0][0]               \n",
            "__________________________________________________________________________________________________\n",
            "concatenate_8 (Concatenate)     (None, 256, 256, 96) 0           block2_input1[0][0]              \n",
            "                                                                 max_pooling2d_5[0][0]            \n",
            "__________________________________________________________________________________________________\n",
            "block2_conv1 (Conv2D)           (None, 256, 256, 64) 55360       concatenate_8[0][0]              \n",
            "__________________________________________________________________________________________________\n",
            "average_pooling2d_5 (AveragePoo (None, 128, 128, 1)  0           average_pooling2d_4[0][0]        \n",
            "__________________________________________________________________________________________________\n",
            "block2_conv2 (Conv2D)           (None, 256, 256, 64) 36928       block2_conv1[0][0]               \n",
            "__________________________________________________________________________________________________\n",
            "block3_input1 (Conv2D)          (None, 128, 128, 128 1280        average_pooling2d_5[0][0]        \n",
            "__________________________________________________________________________________________________\n",
            "max_pooling2d_6 (MaxPooling2D)  (None, 128, 128, 64) 0           block2_conv2[0][0]               \n",
            "__________________________________________________________________________________________________\n",
            "concatenate_9 (Concatenate)     (None, 128, 128, 192 0           block3_input1[0][0]              \n",
            "                                                                 max_pooling2d_6[0][0]            \n",
            "__________________________________________________________________________________________________\n",
            "block3_conv1 (Conv2D)           (None, 128, 128, 128 221312      concatenate_9[0][0]              \n",
            "__________________________________________________________________________________________________\n",
            "average_pooling2d_6 (AveragePoo (None, 64, 64, 1)    0           average_pooling2d_5[0][0]        \n",
            "__________________________________________________________________________________________________\n",
            "block3_conv2 (Conv2D)           (None, 128, 128, 128 147584      block3_conv1[0][0]               \n",
            "__________________________________________________________________________________________________\n",
            "block4_input1 (Conv2D)          (None, 64, 64, 256)  2560        average_pooling2d_6[0][0]        \n",
            "__________________________________________________________________________________________________\n",
            "max_pooling2d_7 (MaxPooling2D)  (None, 64, 64, 128)  0           block3_conv2[0][0]               \n",
            "__________________________________________________________________________________________________\n",
            "concatenate_10 (Concatenate)    (None, 64, 64, 384)  0           block4_input1[0][0]              \n",
            "                                                                 max_pooling2d_7[0][0]            \n",
            "__________________________________________________________________________________________________\n",
            "block4_conv1 (Conv2D)           (None, 64, 64, 256)  884992      concatenate_10[0][0]             \n",
            "__________________________________________________________________________________________________\n",
            "block4_conv2 (Conv2D)           (None, 64, 64, 256)  590080      block4_conv1[0][0]               \n",
            "__________________________________________________________________________________________________\n",
            "max_pooling2d_8 (MaxPooling2D)  (None, 32, 32, 256)  0           block4_conv2[0][0]               \n",
            "__________________________________________________________________________________________________\n",
            "block5_conv1 (Conv2D)           (None, 32, 32, 512)  1180160     max_pooling2d_8[0][0]            \n",
            "__________________________________________________________________________________________________\n",
            "block5_conv2 (Conv2D)           (None, 32, 32, 512)  2359808     block5_conv1[0][0]               \n",
            "__________________________________________________________________________________________________\n",
            "block6_dconv (Conv2DTranspose)  (None, 64, 64, 256)  524544      block5_conv2[0][0]               \n",
            "__________________________________________________________________________________________________\n",
            "concatenate_11 (Concatenate)    (None, 64, 64, 512)  0           block6_dconv[0][0]               \n",
            "                                                                 block4_conv2[0][0]               \n",
            "__________________________________________________________________________________________________\n",
            "block6_conv1 (Conv2D)           (None, 64, 64, 256)  1179904     concatenate_11[0][0]             \n",
            "__________________________________________________________________________________________________\n",
            "block6_conv2 (Conv2D)           (None, 64, 64, 256)  590080      block6_conv1[0][0]               \n",
            "__________________________________________________________________________________________________\n",
            "block7_dconv (Conv2DTranspose)  (None, 128, 128, 128 131200      block6_conv2[0][0]               \n",
            "__________________________________________________________________________________________________\n",
            "concatenate_12 (Concatenate)    (None, 128, 128, 256 0           block7_dconv[0][0]               \n",
            "                                                                 block3_conv2[0][0]               \n",
            "__________________________________________________________________________________________________\n",
            "block7_conv1 (Conv2D)           (None, 128, 128, 128 295040      concatenate_12[0][0]             \n",
            "__________________________________________________________________________________________________\n",
            "block7_conv2 (Conv2D)           (None, 128, 128, 128 147584      block7_conv1[0][0]               \n",
            "__________________________________________________________________________________________________\n",
            "block8_dconv (Conv2DTranspose)  (None, 256, 256, 64) 32832       block7_conv2[0][0]               \n",
            "__________________________________________________________________________________________________\n",
            "concatenate_13 (Concatenate)    (None, 256, 256, 128 0           block8_dconv[0][0]               \n",
            "                                                                 block2_conv2[0][0]               \n",
            "__________________________________________________________________________________________________\n",
            "block8_conv1 (Conv2D)           (None, 256, 256, 64) 73792       concatenate_13[0][0]             \n",
            "__________________________________________________________________________________________________\n",
            "block8_conv2 (Conv2D)           (None, 256, 256, 64) 36928       block8_conv1[0][0]               \n",
            "__________________________________________________________________________________________________\n",
            "block9_dconv (Conv2DTranspose)  (None, 512, 512, 32) 8224        block8_conv2[0][0]               \n",
            "__________________________________________________________________________________________________\n",
            "concatenate_14 (Concatenate)    (None, 512, 512, 64) 0           block9_dconv[0][0]               \n",
            "                                                                 block1_conv2[0][0]               \n",
            "__________________________________________________________________________________________________\n",
            "block9_conv1 (Conv2D)           (None, 512, 512, 32) 18464       concatenate_14[0][0]             \n",
            "__________________________________________________________________________________________________\n",
            "up_sampling2d_4 (UpSampling2D)  (None, 512, 512, 256 0           block6_conv2[0][0]               \n",
            "__________________________________________________________________________________________________\n",
            "up_sampling2d_5 (UpSampling2D)  (None, 512, 512, 128 0           block7_conv2[0][0]               \n",
            "__________________________________________________________________________________________________\n",
            "up_sampling2d_6 (UpSampling2D)  (None, 512, 512, 64) 0           block8_conv2[0][0]               \n",
            "__________________________________________________________________________________________________\n",
            "block9_conv2 (Conv2D)           (None, 512, 512, 32) 9248        block9_conv1[0][0]               \n",
            "__________________________________________________________________________________________________\n",
            "side_63 (Conv2D)                (None, 512, 512, 1)  257         up_sampling2d_4[0][0]            \n",
            "__________________________________________________________________________________________________\n",
            "side_73 (Conv2D)                (None, 512, 512, 1)  129         up_sampling2d_5[0][0]            \n",
            "__________________________________________________________________________________________________\n",
            "side_83 (Conv2D)                (None, 512, 512, 1)  65          up_sampling2d_6[0][0]            \n",
            "__________________________________________________________________________________________________\n",
            "side_93 (Conv2D)                (None, 512, 512, 1)  33          block9_conv2[0][0]               \n",
            "__________________________________________________________________________________________________\n",
            "average_2 (Average)             (None, 512, 512, 1)  0           side_63[0][0]                    \n",
            "                                                                 side_73[0][0]                    \n",
            "                                                                 side_83[0][0]                    \n",
            "                                                                 side_93[0][0]                    \n",
            "==================================================================================================\n",
            "Total params: 8,538,596\n",
            "Trainable params: 8,538,596\n",
            "Non-trainable params: 0\n",
            "__________________________________________________________________________________________________\n"
          ],
          "name": "stdout"
        },
        {
          "output_type": "stream",
          "text": [
            "/usr/local/lib/python3.6/dist-packages/ipykernel_launcher.py:2: UserWarning: The `nb_epoch` argument in `fit` has been renamed `epochs`.\n",
            "  \n"
          ],
          "name": "stderr"
        },
        {
          "output_type": "stream",
          "text": [
            "Train on 2451 samples, validate on 307 samples\n",
            "Epoch 1/50\n",
            "2451/2451 [==============================] - 174s 71ms/step - loss: 0.0815 - dice_coef: 0.0496 - val_loss: 0.0588 - val_dice_coef: 0.0756\n",
            "Epoch 2/50\n",
            "2451/2451 [==============================] - 173s 70ms/step - loss: 0.0549 - dice_coef: 0.2014 - val_loss: 0.0453 - val_dice_coef: 0.2712\n",
            "Epoch 3/50\n",
            "2451/2451 [==============================] - 172s 70ms/step - loss: 0.0461 - dice_coef: 0.3082 - val_loss: 0.0394 - val_dice_coef: 0.3218\n",
            "Epoch 4/50\n",
            "2451/2451 [==============================] - 172s 70ms/step - loss: 0.0404 - dice_coef: 0.3809 - val_loss: 0.0439 - val_dice_coef: 0.3300\n",
            "Epoch 5/50\n",
            "2451/2451 [==============================] - 172s 70ms/step - loss: 0.0360 - dice_coef: 0.4341 - val_loss: 0.0356 - val_dice_coef: 0.4657\n",
            "Epoch 6/50\n",
            "2451/2451 [==============================] - 172s 70ms/step - loss: 0.0323 - dice_coef: 0.4817 - val_loss: 0.0387 - val_dice_coef: 0.4547\n",
            "Epoch 7/50\n",
            "2451/2451 [==============================] - 173s 70ms/step - loss: 0.0290 - dice_coef: 0.5267 - val_loss: 0.0311 - val_dice_coef: 0.4792\n",
            "Epoch 8/50\n",
            "2451/2451 [==============================] - 174s 71ms/step - loss: 0.0246 - dice_coef: 0.5837 - val_loss: 0.0304 - val_dice_coef: 0.5230\n",
            "Epoch 9/50\n",
            "2451/2451 [==============================] - 173s 71ms/step - loss: 0.0210 - dice_coef: 0.6405 - val_loss: 0.0294 - val_dice_coef: 0.5023\n",
            "Epoch 10/50\n",
            "2451/2451 [==============================] - 173s 71ms/step - loss: 0.0175 - dice_coef: 0.6855 - val_loss: 0.0292 - val_dice_coef: 0.5128\n",
            "Epoch 11/50\n",
            "2451/2451 [==============================] - 172s 70ms/step - loss: 0.0145 - dice_coef: 0.7323 - val_loss: 0.0370 - val_dice_coef: 0.5636\n",
            "Epoch 12/50\n",
            "2451/2451 [==============================] - 172s 70ms/step - loss: 0.0124 - dice_coef: 0.7648 - val_loss: 0.0339 - val_dice_coef: 0.5743\n",
            "Epoch 13/50\n",
            "2451/2451 [==============================] - 172s 70ms/step - loss: 0.0105 - dice_coef: 0.7971 - val_loss: 0.0444 - val_dice_coef: 0.5119\n",
            "Epoch 14/50\n",
            "2451/2451 [==============================] - 172s 70ms/step - loss: 0.0093 - dice_coef: 0.8176 - val_loss: 0.0377 - val_dice_coef: 0.6021\n",
            "Epoch 15/50\n",
            "2451/2451 [==============================] - 172s 70ms/step - loss: 0.0085 - dice_coef: 0.8289 - val_loss: 0.0434 - val_dice_coef: 0.6149\n",
            "Epoch 16/50\n",
            "2451/2451 [==============================] - 172s 70ms/step - loss: 0.0082 - dice_coef: 0.8347 - val_loss: 0.0347 - val_dice_coef: 0.5723\n",
            "Epoch 17/50\n",
            "2451/2451 [==============================] - 172s 70ms/step - loss: 0.0071 - dice_coef: 0.8520 - val_loss: 0.0422 - val_dice_coef: 0.5993\n",
            "Epoch 18/50\n",
            "2451/2451 [==============================] - 172s 70ms/step - loss: 0.0062 - dice_coef: 0.8701 - val_loss: 0.0393 - val_dice_coef: 0.6187\n",
            "Epoch 19/50\n",
            "2451/2451 [==============================] - 172s 70ms/step - loss: 0.0063 - dice_coef: 0.8693 - val_loss: 0.0389 - val_dice_coef: 0.6012\n",
            "Epoch 20/50\n",
            "2451/2451 [==============================] - 172s 70ms/step - loss: 0.0058 - dice_coef: 0.8788 - val_loss: 0.0450 - val_dice_coef: 0.6092\n",
            "Epoch 21/50\n",
            "2451/2451 [==============================] - 172s 70ms/step - loss: 0.0062 - dice_coef: 0.8714 - val_loss: 0.0524 - val_dice_coef: 0.5874\n",
            "Epoch 22/50\n",
            "2451/2451 [==============================] - 172s 70ms/step - loss: 0.0053 - dice_coef: 0.8885 - val_loss: 0.0446 - val_dice_coef: 0.6248\n",
            "Epoch 23/50\n",
            "2451/2451 [==============================] - 172s 70ms/step - loss: 0.0050 - dice_coef: 0.8929 - val_loss: 0.0546 - val_dice_coef: 0.6180\n",
            "Epoch 24/50\n",
            "2451/2451 [==============================] - 172s 70ms/step - loss: 0.0040 - dice_coef: 0.9132 - val_loss: 0.0574 - val_dice_coef: 0.6228\n",
            "Epoch 25/50\n",
            "2451/2451 [==============================] - 172s 70ms/step - loss: 0.0058 - dice_coef: 0.8811 - val_loss: 0.0635 - val_dice_coef: 0.6084\n",
            "Epoch 26/50\n",
            "2451/2451 [==============================] - 172s 70ms/step - loss: 0.0038 - dice_coef: 0.9169 - val_loss: 0.0544 - val_dice_coef: 0.6315\n",
            "Epoch 27/50\n",
            "2451/2451 [==============================] - 172s 70ms/step - loss: 0.0034 - dice_coef: 0.9250 - val_loss: 0.0653 - val_dice_coef: 0.6271\n",
            "Epoch 28/50\n",
            "2451/2451 [==============================] - 172s 70ms/step - loss: 0.0056 - dice_coef: 0.8875 - val_loss: 0.0500 - val_dice_coef: 0.6118\n",
            "Epoch 29/50\n",
            "2451/2451 [==============================] - 173s 70ms/step - loss: 0.0037 - dice_coef: 0.9197 - val_loss: 0.0629 - val_dice_coef: 0.6221\n",
            "Epoch 30/50\n",
            "2451/2451 [==============================] - 173s 70ms/step - loss: 0.0029 - dice_coef: 0.9334 - val_loss: 0.0609 - val_dice_coef: 0.6260\n",
            "Epoch 31/50\n",
            "2451/2451 [==============================] - 172s 70ms/step - loss: 0.0041 - dice_coef: 0.9164 - val_loss: 0.0466 - val_dice_coef: 0.5928\n",
            "Epoch 32/50\n",
            "2451/2451 [==============================] - 172s 70ms/step - loss: 0.0039 - dice_coef: 0.9149 - val_loss: 0.0614 - val_dice_coef: 0.6097\n",
            "Epoch 33/50\n",
            "2451/2451 [==============================] - 172s 70ms/step - loss: 0.0028 - dice_coef: 0.9371 - val_loss: 0.0637 - val_dice_coef: 0.6311\n",
            "Epoch 34/50\n",
            "2451/2451 [==============================] - 172s 70ms/step - loss: 0.0025 - dice_coef: 0.9429 - val_loss: 0.0643 - val_dice_coef: 0.6250\n",
            "Epoch 35/50\n",
            "2451/2451 [==============================] - 172s 70ms/step - loss: 0.0045 - dice_coef: 0.9060 - val_loss: 0.0663 - val_dice_coef: 0.6194\n",
            "Epoch 36/50\n",
            "2451/2451 [==============================] - 172s 70ms/step - loss: 0.0026 - dice_coef: 0.9409 - val_loss: 0.0660 - val_dice_coef: 0.6210\n",
            "Epoch 37/50\n",
            "2451/2451 [==============================] - 172s 70ms/step - loss: 0.0023 - dice_coef: 0.9470 - val_loss: 0.0716 - val_dice_coef: 0.6268\n",
            "Epoch 38/50\n",
            "2451/2451 [==============================] - 172s 70ms/step - loss: 0.0025 - dice_coef: 0.9428 - val_loss: 0.0764 - val_dice_coef: 0.6065\n",
            "Epoch 39/50\n",
            "2451/2451 [==============================] - 173s 70ms/step - loss: 0.0043 - dice_coef: 0.9125 - val_loss: 0.0589 - val_dice_coef: 0.6364\n",
            "Epoch 40/50\n",
            "2451/2451 [==============================] - 173s 70ms/step - loss: 0.0024 - dice_coef: 0.9453 - val_loss: 0.0702 - val_dice_coef: 0.6292\n",
            "Epoch 41/50\n",
            "2451/2451 [==============================] - 173s 70ms/step - loss: 0.0020 - dice_coef: 0.9517 - val_loss: 0.0699 - val_dice_coef: 0.6323\n",
            "Epoch 42/50\n",
            "2451/2451 [==============================] - 172s 70ms/step - loss: 0.0022 - dice_coef: 0.9489 - val_loss: 0.0678 - val_dice_coef: 0.6216\n",
            "Epoch 43/50\n",
            "2451/2451 [==============================] - 172s 70ms/step - loss: 0.0038 - dice_coef: 0.9202 - val_loss: 0.0620 - val_dice_coef: 0.6228\n",
            "Epoch 44/50\n",
            "2451/2451 [==============================] - 172s 70ms/step - loss: 0.0025 - dice_coef: 0.9431 - val_loss: 0.0660 - val_dice_coef: 0.6261\n",
            "Epoch 45/50\n",
            "2451/2451 [==============================] - 172s 70ms/step - loss: 0.0020 - dice_coef: 0.9527 - val_loss: 0.0771 - val_dice_coef: 0.6175\n",
            "Epoch 46/50\n",
            "2451/2451 [==============================] - 172s 70ms/step - loss: 0.0019 - dice_coef: 0.9549 - val_loss: 0.0765 - val_dice_coef: 0.6230\n",
            "Epoch 47/50\n",
            "2451/2451 [==============================] - 172s 70ms/step - loss: 0.0030 - dice_coef: 0.9339 - val_loss: 0.0545 - val_dice_coef: 0.5872\n",
            "Epoch 48/50\n",
            "2451/2451 [==============================] - 172s 70ms/step - loss: 0.0026 - dice_coef: 0.9399 - val_loss: 0.0627 - val_dice_coef: 0.6314\n",
            "Epoch 49/50\n",
            "2451/2451 [==============================] - 172s 70ms/step - loss: 0.0018 - dice_coef: 0.9564 - val_loss: 0.0769 - val_dice_coef: 0.6227\n",
            "Epoch 50/50\n",
            "2451/2451 [==============================] - 172s 70ms/step - loss: 0.0017 - dice_coef: 0.9580 - val_loss: 0.0757 - val_dice_coef: 0.6258\n"
          ],
          "name": "stdout"
        },
        {
          "output_type": "execute_result",
          "data": {
            "text/plain": [
              "<keras.callbacks.callbacks.History at 0x7ff4a14b9a90>"
            ]
          },
          "metadata": {
            "tags": []
          },
          "execution_count": 20
        }
      ]
    },
    {
      "cell_type": "code",
      "metadata": {
        "id": "UaJB-iyCzFfk",
        "colab_type": "code",
        "colab": {}
      },
      "source": [
        "model.save('M_net_regularization.h5')"
      ],
      "execution_count": 0,
      "outputs": []
    },
    {
      "cell_type": "code",
      "metadata": {
        "id": "Q00XTahjL-tS",
        "colab_type": "code",
        "outputId": "6d2a037b-cdbe-41b3-880b-4201a5c452bb",
        "colab": {
          "base_uri": "https://localhost:8080/"
        }
      },
      "source": [
        "print('saved')"
      ],
      "execution_count": 0,
      "outputs": [
        {
          "output_type": "stream",
          "text": [
            "saved\n"
          ],
          "name": "stdout"
        }
      ]
    },
    {
      "cell_type": "code",
      "metadata": {
        "id": "inX13vyvbcCt",
        "colab_type": "code",
        "colab": {}
      },
      "source": [
        "from datetime import datetime\n",
        "import tensorflow as tf\n",
        "from tensorflow import keras"
      ],
      "execution_count": 0,
      "outputs": []
    },
    {
      "cell_type": "code",
      "metadata": {
        "id": "yfxy09aANg4K",
        "colab_type": "code",
        "colab": {}
      },
      "source": [
        "dependencies = {\n",
        "     'dice_coef': dice_coef\n",
        "}\n",
        "model = keras.models.load_model('M_net_regularization.h5', custom_objects=dependencies)"
      ],
      "execution_count": 0,
      "outputs": []
    },
    {
      "cell_type": "code",
      "metadata": {
        "id": "TkVoRyWTbOdU",
        "colab_type": "code",
        "colab": {
          "base_uri": "https://localhost:8080/",
          "height": 50
        },
        "outputId": "0f6c7be4-2683-4e7c-fb12-d665844418cc"
      },
      "source": [
        "results = model.evaluate(images_test, masks_test, batch_size=2)\n",
        "print('dice_coeff:', results)"
      ],
      "execution_count": 16,
      "outputs": [
        {
          "output_type": "stream",
          "text": [
            "153/153 [==============================] - 11s 74ms/step - loss: 0.0765 - dice_coef: 0.6455\n",
            "dice_coeff: [0.07649721205234528, 0.6455184817314148]\n"
          ],
          "name": "stdout"
        }
      ]
    },
    {
      "cell_type": "code",
      "metadata": {
        "id": "j15jxvNHbklL",
        "colab_type": "code",
        "colab": {
          "base_uri": "https://localhost:8080/",
          "height": 180
        },
        "outputId": "4e6aa6b9-ffa7-40e7-cfe5-a43605acf43e"
      },
      "source": [
        "predictions = model.predict(images_test[0:1,:])\n",
        "plt.subplot(221)\n",
        "plt.title('Prediction')\n",
        "plt.imshow(predictions[0,:,:,0])\n",
        "plt.subplot(222)\n",
        "plt.title('Ground Truth')\n",
        "plt.imshow(masks_test[0,:,:,0])"
      ],
      "execution_count": 17,
      "outputs": [
        {
          "output_type": "execute_result",
          "data": {
            "text/plain": [
              "<matplotlib.image.AxesImage at 0x7f3f6239af60>"
            ]
          },
          "metadata": {
            "tags": []
          },
          "execution_count": 17
        },
        {
          "output_type": "display_data",
          "data": {
            "image/png": "[encoded data removed]",
            "text/plain": [
              "<Figure size 432x288 with 2 Axes>"
            ]
          },
          "metadata": {
            "tags": [],
            "needs_background": "light"
          }
        }
      ]
    },
    {
      "cell_type": "code",
      "metadata": {
        "id": "XYfklXGAbqRI",
        "colab_type": "code",
        "colab": {
          "base_uri": "https://localhost:8080/",
          "height": 180
        },
        "outputId": "8e7d2d5c-2bf0-4559-d8c8-5ae76e158ea9"
      },
      "source": [
        "predictions = model.predict(images_train[0:1,:])\n",
        "plt.subplot(221)\n",
        "plt.title('Prediction')\n",
        "plt.imshow(predictions[0,:,:,0])\n",
        "plt.subplot(222)\n",
        "plt.title('Ground Truth')\n",
        "plt.imshow(masks_train[0,:,:,0])"
      ],
      "execution_count": 18,
      "outputs": [
        {
          "output_type": "execute_result",
          "data": {
            "text/plain": [
              "<matplotlib.image.AxesImage at 0x7f3f6207fb70>"
            ]
          },
          "metadata": {
            "tags": []
          },
          "execution_count": 18
        },
        {
          "output_type": "display_data",
          "data": {
            "image/png": "[encoded data removed]",
            "text/plain": [
              "<Figure size 432x288 with 2 Axes>"
            ]
          },
          "metadata": {
            "tags": [],
            "needs_background": "light"
          }
        }
      ]
    },
    {
      "cell_type": "code",
      "metadata": {
        "id": "QkITS8lJbxyX",
        "colab_type": "code",
        "colab": {}
      },
      "source": [
        ""
      ],
      "execution_count": 0,
      "outputs": []
    }
  ]
}
