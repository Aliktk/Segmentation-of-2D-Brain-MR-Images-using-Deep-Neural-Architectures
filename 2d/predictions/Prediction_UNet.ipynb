{
  "nbformat": 4,
  "nbformat_minor": 0,
  "metadata": {
    "colab": {
      "name": "Prediction_UNet.ipynb",
      "provenance": [],
      "collapsed_sections": [],
      "authorship_tag": "ABX9TyMKNqtYqdqAhcJVVLxYrBR+",
      "include_colab_link": true
    },
    "kernelspec": {
      "name": "python3",
      "display_name": "Python 3"
    }
  },
  "cells": [
    {
      "cell_type": "markdown",
      "metadata": {
        "id": "view-in-github",
        "colab_type": "text"
      },
      "source": [
        "<a href=\"https://colab.research.google.com/github/angadbajwa23/Brain-Image-Segmentation/blob/master/Prediction_UNet.ipynb\" target=\"_parent\"><img src=\"https://colab.research.google.com/assets/colab-badge.svg\" alt=\"Open In Colab\"/></a>"
      ]
    },
    {
      "cell_type": "code",
      "metadata": {
        "id": "J0eSCQHB794P",
        "colab_type": "code",
        "colab": {}
      },
      "source": [
        "dependencies = {\n",
        "     'dice_coef': dice_coef,\n",
        "     'bce_dice_loss': bce_dice_loss\n",
        "}\n",
        "model = tf.keras.models.load_model('trained_model_1',custom_objects=dependencies)"
      ],
      "execution_count": 0,
      "outputs": []
    },
    {
      "cell_type": "code",
      "metadata": {
        "id": "hhGposL48Fyk",
        "colab_type": "code",
        "outputId": "bc9c60f7-80b3-4650-ac6b-1de35dda2ccd",
        "colab": {
          "base_uri": "https://localhost:8080/",
          "height": 180
        }
      },
      "source": [
        "predictions = model.predict(images_test[0:1,:])\n",
        "plt.subplot(221)\n",
        "plt.title('Prediction')\n",
        "plt.imshow(predictions[0,:,:,0])\n",
        "plt.subplot(222)\n",
        "plt.title('Ground Truth')\n",
        "plt.imshow(masks_test[0,:,:,0])"
      ],
      "execution_count": 0,
      "outputs": [
        {
          "output_type": "execute_result",
          "data": {
            "text/plain": [
              "<matplotlib.image.AxesImage at 0x7fa708eb82e8>"
            ]
          },
          "metadata": {
            "tags": []
          },
          "execution_count": 23
        },
        {
          "output_type": "display_data",
          "data": {
            "image/png": "[encoded data removed]",
            "text/plain": [
              "<Figure size 432x288 with 2 Axes>"
            ]
          },
          "metadata": {
            "tags": [],
            "needs_background": "light"
          }
        }
      ]
    },
    {
      "cell_type": "code",
      "metadata": {
        "id": "FdStH8eU9mf9",
        "colab_type": "code",
        "outputId": "f4b534b1-04b5-4c4e-b6a6-bd3e772efda8",
        "colab": {
          "base_uri": "https://localhost:8080/",
          "height": 180
        }
      },
      "source": [
        "predictions = model.predict(images_test[2:3,:])\n",
        "plt.subplot(221)\n",
        "plt.title('Prediction')\n",
        "plt.imshow(predictions[0,:,:,0])\n",
        "plt.subplot(222)\n",
        "plt.title('Ground Truth')\n",
        "plt.imshow(masks_test[2,:,:,0])"
      ],
      "execution_count": 0,
      "outputs": [
        {
          "output_type": "execute_result",
          "data": {
            "text/plain": [
              "<matplotlib.image.AxesImage at 0x7fa708de6a20>"
            ]
          },
          "metadata": {
            "tags": []
          },
          "execution_count": 24
        },
        {
          "output_type": "display_data",
          "data": {
            "image/png": "[encoded data removed]",
            "text/plain": [
              "<Figure size 432x288 with 2 Axes>"
            ]
          },
          "metadata": {
            "tags": [],
            "needs_background": "light"
          }
        }
      ]
    },
    {
      "cell_type": "code",
      "metadata": {
        "id": "KS0QWzHg9tTL",
        "colab_type": "code",
        "outputId": "8f0f9585-6e0d-478a-933b-17a498788728",
        "colab": {
          "base_uri": "https://localhost:8080/",
          "height": 180
        }
      },
      "source": [
        "predictions = model.predict(images_test[50:51,:])\n",
        "plt.subplot(221)\n",
        "plt.title('Prediction')\n",
        "plt.imshow(predictions[0,:,:,0])\n",
        "plt.subplot(222)\n",
        "plt.title('Ground Truth')\n",
        "plt.imshow(masks_test[50,:,:,0])"
      ],
      "execution_count": 0,
      "outputs": [
        {
          "output_type": "execute_result",
          "data": {
            "text/plain": [
              "<matplotlib.image.AxesImage at 0x7fa708c23d68>"
            ]
          },
          "metadata": {
            "tags": []
          },
          "execution_count": 27
        },
        {
          "output_type": "display_data",
          "data": {
            "image/png": "[encoded data removed]",
            "text/plain": [
              "<Figure size 432x288 with 2 Axes>"
            ]
          },
          "metadata": {
            "tags": [],
            "needs_background": "light"
          }
        }
      ]
    }
  ]
}
