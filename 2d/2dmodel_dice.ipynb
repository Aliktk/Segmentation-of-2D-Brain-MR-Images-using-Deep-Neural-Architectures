{
  "nbformat": 4,
  "nbformat_minor": 0,
  "metadata": {
    "colab": {
      "name": "2dmodel.ipynb",
      "provenance": [],
      "collapsed_sections": [],
      "authorship_tag": "ABX9TyMdG4lSOcbrVoF9S1goi8aF",
      "include_colab_link": true
    },
    "kernelspec": {
      "name": "python3",
      "display_name": "Python 3"
    },
    "accelerator": "GPU"
  },
  "cells": [
    {
      "cell_type": "markdown",
      "metadata": {
        "id": "view-in-github",
        "colab_type": "text"
      },
      "source": [
        "<a href=\"https://colab.research.google.com/github/angadbajwa23/Brain-Image-Segmentation/blob/master/2dmodel_dice.ipynb\" target=\"_parent\"><img src=\"https://colab.research.google.com/assets/colab-badge.svg\" alt=\"Open In Colab\"/></a>"
      ]
    },
    {
      "cell_type": "code",
      "metadata": {
        "id": "9RBwJidvvV1M",
        "colab_type": "code",
        "outputId": "2c5c284d-af3c-4b84-b857-b5b1dc785d30",
        "colab": {
          "base_uri": "https://localhost:8080/",
          "height": 121
        }
      },
      "source": [
        "from google.colab import drive\n",
        "drive.mount('/content/gdrive')"
      ],
      "execution_count": 3,
      "outputs": [
        {
          "output_type": "stream",
          "text": [
            "Go to this URL in a browser: https://accounts.google.com/o/oauth2/auth?client_id=947318989803-6bn6qk8qdgf4n4g3pfee6491hc0brc4i.apps.googleusercontent.com&redirect_uri=urn%3aietf%3awg%3aoauth%3a2.0%3aoob&response_type=code&scope=email%20https%3a%2f%2fwww.googleapis.com%2fauth%2fdocs.test%20https%3a%2f%2fwww.googleapis.com%2fauth%2fdrive%20https%3a%2f%2fwww.googleapis.com%2fauth%2fdrive.photos.readonly%20https%3a%2f%2fwww.googleapis.com%2fauth%2fpeopleapi.readonly\n",
            "\n",
            "Enter your authorization code:\n",
            "··········\n",
            "Mounted at /content/gdrive\n"
          ],
          "name": "stdout"
        }
      ]
    },
    {
      "cell_type": "code",
      "metadata": {
        "id": "xi__QUPhvakx",
        "colab_type": "code",
        "outputId": "0b7f4111-8e18-46f4-bd9b-1cbb6e3d0be3",
        "colab": {
          "base_uri": "https://localhost:8080/",
          "height": 34
        }
      },
      "source": [
        "%cd gdrive/My Drive/2d"
      ],
      "execution_count": 4,
      "outputs": [
        {
          "output_type": "stream",
          "text": [
            "/content/gdrive/My Drive/2d\n"
          ],
          "name": "stdout"
        }
      ]
    },
    {
      "cell_type": "code",
      "metadata": {
        "id": "Qy6751smwHka",
        "colab_type": "code",
        "outputId": "44c2aa78-2136-4173-d22b-8c42ec1a941f",
        "colab": {
          "base_uri": "https://localhost:8080/",
          "height": 151
        }
      },
      "source": [
        "!pip install hdf5storage"
      ],
      "execution_count": 5,
      "outputs": [
        {
          "output_type": "stream",
          "text": [
            "Collecting hdf5storage\n",
            "\u001b[?25l  Downloading https://files.pythonhosted.org/packages/79/e0/5dd25068a231cd817265529368aca2f918049b290dcb2fd9b24ce136adf4/hdf5storage-0.1.15-py2.py3-none-any.whl (56kB)\n",
            "\r\u001b[K     |█████▊                          | 10kB 29.4MB/s eta 0:00:01\r\u001b[K     |███████████▌                    | 20kB 5.9MB/s eta 0:00:01\r\u001b[K     |█████████████████▎              | 30kB 7.6MB/s eta 0:00:01\r\u001b[K     |███████████████████████         | 40kB 8.1MB/s eta 0:00:01\r\u001b[K     |████████████████████████████▉   | 51kB 6.6MB/s eta 0:00:01\r\u001b[K     |████████████████████████████████| 61kB 4.3MB/s \n",
            "\u001b[?25hRequirement already satisfied: numpy; python_version >= \"3.4\" in /usr/local/lib/python3.6/dist-packages (from hdf5storage) (1.18.4)\n",
            "Requirement already satisfied: h5py>=2.1; python_version >= \"3.3\" in /usr/local/lib/python3.6/dist-packages (from hdf5storage) (2.10.0)\n",
            "Requirement already satisfied: six in /usr/local/lib/python3.6/dist-packages (from h5py>=2.1; python_version >= \"3.3\"->hdf5storage) (1.12.0)\n",
            "Installing collected packages: hdf5storage\n",
            "Successfully installed hdf5storage-0.1.15\n"
          ],
          "name": "stdout"
        }
      ]
    },
    {
      "cell_type": "code",
      "metadata": {
        "id": "s-VmF-aMn-kr",
        "colab_type": "code",
        "colab": {
          "base_uri": "https://localhost:8080/",
          "height": 34
        },
        "outputId": "44737b0e-7e9d-48c0-9e03-9714bb0a01c9"
      },
      "source": [
        "import os\n",
        "import argparse\n",
        "import sys\n",
        "import numpy as np\n",
        "import hdf5storage\n",
        "import cv2\n",
        "import matplotlib.pyplot as plt\n",
        "\n",
        "\n",
        "import skimage.io as io\n",
        "import skimage.transform as trans\n",
        "from keras.models import *\n",
        "from keras.layers import *\n",
        "from keras.optimizers import *\n",
        "from keras.callbacks import ModelCheckpoint, LearningRateScheduler\n",
        "from keras import backend as keras"
      ],
      "execution_count": 6,
      "outputs": [
        {
          "output_type": "stream",
          "text": [
            "Using TensorFlow backend.\n"
          ],
          "name": "stderr"
        }
      ]
    },
    {
      "cell_type": "code",
      "metadata": {
        "id": "uCUHcem3v5W9",
        "colab_type": "code",
        "colab": {}
      },
      "source": [
        "\n",
        "\n",
        "class NoDataFound(Exception):\n",
        "    pass\n",
        "\n",
        "\n",
        "def dir_path(path):\n",
        "    \"\"\"Check the path and the existence of a data directory\"\"\"\n",
        "    # replace '\\' in path for Windows users\n",
        "    path = path.replace('\\\\', '/')\n",
        "    data_path = os.path.join(path, 'data').replace('\\\\', '/')\n",
        "\n",
        "    if os.path.isdir(data_path):\n",
        "        return path\n",
        "    elif os.path.isdir(path):\n",
        "        raise NoDataFound('Could not find a \"data\" folder inside directory. {} does not exist.'\n",
        "                          .format(data_path))\n",
        "    else:\n",
        "        raise NotADirectoryError(path)\n",
        "\n",
        "path='/content/gdrive/My Drive/2d/'\n",
        "parser = argparse.ArgumentParser()\n",
        "parser.add_argument('path', help='path to the brain_tumor_dataset directory', type=dir_path)\n",
        "parser.add_argument('--image-dimension', '-d', default=512, help='dimension of the image', type=int)\n",
        "args = parser.parse_args(args=[path])\n",
        "\n",
        "labels = []\n",
        "images = []\n",
        "masks = []\n",
        "\n",
        "data_dir = os.path.join(args.path, 'data').replace('\\\\', '/')\n",
        "files = os.listdir(data_dir)\n",
        "for i, file in enumerate(files, start=1):\n",
        "    if i % 10 == 0:\n",
        "        # print the percentage of images loaded\n",
        "        sys.stdout.write('\\r[{}/{}] images loaded: {:.1f} %'\n",
        "                         .format(i, len(files), i / float(len(files)) * 100))\n",
        "        sys.stdout.flush()\n",
        "\n",
        "    # load matlab file with hdf5storage as scipy.io.loadmat does not support v7.3 files\n",
        "    mat_file = hdf5storage.loadmat(os.path.join(data_dir, file))['cjdata'][0]\n",
        "\n",
        "    # resize image and mask to a unique size\n",
        "    image = cv2.resize(mat_file[2], dsize=(args.image_dimension, args.image_dimension),\n",
        "                       interpolation=cv2.INTER_CUBIC)\n",
        "    mask = cv2.resize(mat_file[4].astype('uint8'), dsize=(args.image_dimension, args.image_dimension),\n",
        "                      interpolation=cv2.INTER_CUBIC)\n",
        "\n",
        "    labels.append(int(mat_file[0]))\n",
        "    images.append(image)\n",
        "    masks.append(mask.astype(bool))\n",
        "\n",
        "sys.stdout.write('\\r[{}/{}] images loaded: {:.1f} %'\n",
        "                 .format(i, len(files), i / float(len(files)) * 100))\n",
        "sys.stdout.flush()\n",
        "\n",
        "labels = np.array(labels)\n",
        "images = np.array(images)\n",
        "masks = np.array(masks)\n",
        "\n",
        "print('\\nlabels:', labels.shape)\n",
        "print('images:', images.shape)\n",
        "print('masks:', masks.shape)\n",
        "\n",
        "np.save(os.path.join(args.path, 'labels.npy'), labels)\n",
        "np.save(os.path.join(args.path, 'images.npy'), images)\n",
        "np.save(os.path.join(args.path, 'masks.npy'), masks)\n",
        "\n",
        "print('labels.npy, images.npy, masks.npy saved in', args.path)"
      ],
      "execution_count": 0,
      "outputs": []
    },
    {
      "cell_type": "code",
      "metadata": {
        "id": "r8FRDeXIAS9D",
        "colab_type": "code",
        "colab": {}
      },
      "source": [
        "labels = np.load('labels.npy')\n",
        "images = np.load('images.npy')\n",
        "masks = np.load('masks.npy')"
      ],
      "execution_count": 0,
      "outputs": []
    },
    {
      "cell_type": "code",
      "metadata": {
        "id": "89UfsXTwnVcH",
        "colab_type": "code",
        "colab": {}
      },
      "source": [
        "smooth = 1\n",
        "def dice_coef(y_true, y_pred):\n",
        "    y_true_f = K.flatten(y_true)\n",
        "    y_pred_f = K.flatten(y_pred)\n",
        "    intersection = K.sum(y_true_f * y_pred_f)\n",
        "    return (2. * intersection + smooth) / (K.sum(y_true_f) + K.sum(y_pred_f) + smooth)\n",
        "\n",
        "\n",
        "def dice_coef_loss(y_true, y_pred):\n",
        "    return 1-dice_coef(y_true, y_pred)"
      ],
      "execution_count": 0,
      "outputs": []
    },
    {
      "cell_type": "code",
      "metadata": {
        "id": "DgVs50XqwFC6",
        "colab_type": "code",
        "colab": {}
      },
      "source": [
        "\n",
        "def unet(pretrained_weights = None,input_size = (512,512,1)):\n",
        "    inputs = Input(input_size)\n",
        "    conv1 = Conv2D(64, 3, activation = 'relu', padding = 'same', kernel_initializer = 'he_normal')(inputs)\n",
        "    conv1 = Conv2D(64, 3, activation = 'relu', padding = 'same', kernel_initializer = 'he_normal')(conv1)\n",
        "    pool1 = MaxPooling2D(pool_size=(2, 2))(conv1)\n",
        "    conv2 = Conv2D(128, 3, activation = 'relu', padding = 'same', kernel_initializer = 'he_normal')(pool1)\n",
        "    conv2 = Conv2D(128, 3, activation = 'relu', padding = 'same', kernel_initializer = 'he_normal')(conv2)\n",
        "    pool2 = MaxPooling2D(pool_size=(2, 2))(conv2)\n",
        "    conv3 = Conv2D(256, 3, activation = 'relu', padding = 'same', kernel_initializer = 'he_normal')(pool2)\n",
        "    conv3 = Conv2D(256, 3, activation = 'relu', padding = 'same', kernel_initializer = 'he_normal')(conv3)\n",
        "    pool3 = MaxPooling2D(pool_size=(2, 2))(conv3)\n",
        "    conv4 = Conv2D(512, 3, activation = 'relu', padding = 'same', kernel_initializer = 'he_normal')(pool3)\n",
        "    conv4 = Conv2D(512, 3, activation = 'relu', padding = 'same', kernel_initializer = 'he_normal')(conv4)\n",
        "    drop4 = Dropout(0.5)(conv4)\n",
        "    pool4 = MaxPooling2D(pool_size=(2, 2))(drop4)\n",
        "\n",
        "    conv5 = Conv2D(1024, 3, activation = 'relu', padding = 'same', kernel_initializer = 'he_normal')(pool4)\n",
        "    conv5 = Conv2D(1024, 3, activation = 'relu', padding = 'same', kernel_initializer = 'he_normal')(conv5)\n",
        "    drop5 = Dropout(0.5)(conv5)\n",
        "\n",
        "    up6 = Conv2D(512, 2, activation = 'relu', padding = 'same', kernel_initializer = 'he_normal')(UpSampling2D(size = (2,2))(drop5))\n",
        "    merge6 = concatenate([drop4,up6], axis = 3)\n",
        "    conv6 = Conv2D(512, 3, activation = 'relu', padding = 'same', kernel_initializer = 'he_normal')(merge6)\n",
        "    conv6 = Conv2D(512, 3, activation = 'relu', padding = 'same', kernel_initializer = 'he_normal')(conv6)\n",
        "\n",
        "    up7 = Conv2D(256, 2, activation = 'relu', padding = 'same', kernel_initializer = 'he_normal')(UpSampling2D(size = (2,2))(conv6))\n",
        "    merge7 = concatenate([conv3,up7], axis = 3)\n",
        "    conv7 = Conv2D(256, 3, activation = 'relu', padding = 'same', kernel_initializer = 'he_normal')(merge7)\n",
        "    conv7 = Conv2D(256, 3, activation = 'relu', padding = 'same', kernel_initializer = 'he_normal')(conv7)\n",
        "\n",
        "    up8 = Conv2D(128, 2, activation = 'relu', padding = 'same', kernel_initializer = 'he_normal')(UpSampling2D(size = (2,2))(conv7))\n",
        "    merge8 = concatenate([conv2,up8], axis = 3)\n",
        "    conv8 = Conv2D(128, 3, activation = 'relu', padding = 'same', kernel_initializer = 'he_normal')(merge8)\n",
        "    conv8 = Conv2D(128, 3, activation = 'relu', padding = 'same', kernel_initializer = 'he_normal')(conv8)\n",
        "\n",
        "    up9 = Conv2D(64, 2, activation = 'relu', padding = 'same', kernel_initializer = 'he_normal')(UpSampling2D(size = (2,2))(conv8))\n",
        "    merge9 = concatenate([conv1,up9], axis = 3)\n",
        "    conv9 = Conv2D(64, 3, activation = 'relu', padding = 'same', kernel_initializer = 'he_normal')(merge9)\n",
        "    conv9 = Conv2D(64, 3, activation = 'relu', padding = 'same', kernel_initializer = 'he_normal')(conv9)\n",
        "    conv9 = Conv2D(2, 3, activation = 'relu', padding = 'same', kernel_initializer = 'he_normal')(conv9)\n",
        "    conv10 = Conv2D(1, 1, activation = 'sigmoid')(conv9)\n",
        "\n",
        "    model = Model(input = inputs, output = conv10)\n",
        "\n",
        "    model.compile(optimizer = Adam(lr = 1e-4), loss='binary_crossentropy', metrics=[dice_coef])\n",
        "    \n",
        "    model.summary()\n",
        "\n",
        "    if(pretrained_weights):\n",
        "    \tmodel.load_weights(pretrained_weights)\n",
        "\n",
        "    return model"
      ],
      "execution_count": 0,
      "outputs": []
    },
    {
      "cell_type": "code",
      "metadata": {
        "id": "A0OHJaDx_DEH",
        "colab_type": "code",
        "colab": {}
      },
      "source": [
        "images = images[..., np.newaxis]"
      ],
      "execution_count": 0,
      "outputs": []
    },
    {
      "cell_type": "code",
      "metadata": {
        "id": "oWV790G0_GhE",
        "colab_type": "code",
        "colab": {}
      },
      "source": [
        "masks = masks[..., np.newaxis]"
      ],
      "execution_count": 0,
      "outputs": []
    },
    {
      "cell_type": "code",
      "metadata": {
        "id": "7mLdgPPWdj_r",
        "colab_type": "code",
        "colab": {}
      },
      "source": [
        "for i in range(images.shape[0]):\n",
        "  images[i,:, :] = (images[i,:, :] - np.mean(images[i,:, :]))/ np.std(images[i,:, :])"
      ],
      "execution_count": 0,
      "outputs": []
    },
    {
      "cell_type": "code",
      "metadata": {
        "id": "ddakLuOewdmZ",
        "colab_type": "code",
        "outputId": "338676d9-6e0c-47d5-9d4d-a24346477125",
        "colab": {
          "base_uri": "https://localhost:8080/",
          "height": 1000
        }
      },
      "source": [
        "imgs_train = images[:200,:]\n",
        "imgs_mask_train=masks[:200,:]\n",
        "model=unet()\n",
        "model.fit(imgs_train, imgs_mask_train, batch_size=2, nb_epoch=100, verbose=1,validation_split=0.2, shuffle=True)"
      ],
      "execution_count": 41,
      "outputs": [
        {
          "output_type": "stream",
          "text": [
            "/usr/local/lib/python3.6/dist-packages/ipykernel_launcher.py:44: UserWarning: Update your `Model` call to the Keras 2 API: `Model(inputs=Tensor(\"in..., outputs=Tensor(\"co...)`\n",
            "/usr/local/lib/python3.6/dist-packages/ipykernel_launcher.py:4: UserWarning: The `nb_epoch` argument in `fit` has been renamed `epochs`.\n",
            "  after removing the cwd from sys.path.\n"
          ],
          "name": "stderr"
        },
        {
          "output_type": "stream",
          "text": [
            "Model: \"model_7\"\n",
            "__________________________________________________________________________________________________\n",
            "Layer (type)                    Output Shape         Param #     Connected to                     \n",
            "==================================================================================================\n",
            "input_7 (InputLayer)            (None, 512, 512, 1)  0                                            \n",
            "__________________________________________________________________________________________________\n",
            "conv2d_145 (Conv2D)             (None, 512, 512, 64) 640         input_7[0][0]                    \n",
            "__________________________________________________________________________________________________\n",
            "conv2d_146 (Conv2D)             (None, 512, 512, 64) 36928       conv2d_145[0][0]                 \n",
            "__________________________________________________________________________________________________\n",
            "max_pooling2d_25 (MaxPooling2D) (None, 256, 256, 64) 0           conv2d_146[0][0]                 \n",
            "__________________________________________________________________________________________________\n",
            "conv2d_147 (Conv2D)             (None, 256, 256, 128 73856       max_pooling2d_25[0][0]           \n",
            "__________________________________________________________________________________________________\n",
            "conv2d_148 (Conv2D)             (None, 256, 256, 128 147584      conv2d_147[0][0]                 \n",
            "__________________________________________________________________________________________________\n",
            "max_pooling2d_26 (MaxPooling2D) (None, 128, 128, 128 0           conv2d_148[0][0]                 \n",
            "__________________________________________________________________________________________________\n",
            "conv2d_149 (Conv2D)             (None, 128, 128, 256 295168      max_pooling2d_26[0][0]           \n",
            "__________________________________________________________________________________________________\n",
            "conv2d_150 (Conv2D)             (None, 128, 128, 256 590080      conv2d_149[0][0]                 \n",
            "__________________________________________________________________________________________________\n",
            "max_pooling2d_27 (MaxPooling2D) (None, 64, 64, 256)  0           conv2d_150[0][0]                 \n",
            "__________________________________________________________________________________________________\n",
            "conv2d_151 (Conv2D)             (None, 64, 64, 512)  1180160     max_pooling2d_27[0][0]           \n",
            "__________________________________________________________________________________________________\n",
            "conv2d_152 (Conv2D)             (None, 64, 64, 512)  2359808     conv2d_151[0][0]                 \n",
            "__________________________________________________________________________________________________\n",
            "dropout_13 (Dropout)            (None, 64, 64, 512)  0           conv2d_152[0][0]                 \n",
            "__________________________________________________________________________________________________\n",
            "max_pooling2d_28 (MaxPooling2D) (None, 32, 32, 512)  0           dropout_13[0][0]                 \n",
            "__________________________________________________________________________________________________\n",
            "conv2d_153 (Conv2D)             (None, 32, 32, 1024) 4719616     max_pooling2d_28[0][0]           \n",
            "__________________________________________________________________________________________________\n",
            "conv2d_154 (Conv2D)             (None, 32, 32, 1024) 9438208     conv2d_153[0][0]                 \n",
            "__________________________________________________________________________________________________\n",
            "dropout_14 (Dropout)            (None, 32, 32, 1024) 0           conv2d_154[0][0]                 \n",
            "__________________________________________________________________________________________________\n",
            "up_sampling2d_25 (UpSampling2D) (None, 64, 64, 1024) 0           dropout_14[0][0]                 \n",
            "__________________________________________________________________________________________________\n",
            "conv2d_155 (Conv2D)             (None, 64, 64, 512)  2097664     up_sampling2d_25[0][0]           \n",
            "__________________________________________________________________________________________________\n",
            "concatenate_25 (Concatenate)    (None, 64, 64, 1024) 0           dropout_13[0][0]                 \n",
            "                                                                 conv2d_155[0][0]                 \n",
            "__________________________________________________________________________________________________\n",
            "conv2d_156 (Conv2D)             (None, 64, 64, 512)  4719104     concatenate_25[0][0]             \n",
            "__________________________________________________________________________________________________\n",
            "conv2d_157 (Conv2D)             (None, 64, 64, 512)  2359808     conv2d_156[0][0]                 \n",
            "__________________________________________________________________________________________________\n",
            "up_sampling2d_26 (UpSampling2D) (None, 128, 128, 512 0           conv2d_157[0][0]                 \n",
            "__________________________________________________________________________________________________\n",
            "conv2d_158 (Conv2D)             (None, 128, 128, 256 524544      up_sampling2d_26[0][0]           \n",
            "__________________________________________________________________________________________________\n",
            "concatenate_26 (Concatenate)    (None, 128, 128, 512 0           conv2d_150[0][0]                 \n",
            "                                                                 conv2d_158[0][0]                 \n",
            "__________________________________________________________________________________________________\n",
            "conv2d_159 (Conv2D)             (None, 128, 128, 256 1179904     concatenate_26[0][0]             \n",
            "__________________________________________________________________________________________________\n",
            "conv2d_160 (Conv2D)             (None, 128, 128, 256 590080      conv2d_159[0][0]                 \n",
            "__________________________________________________________________________________________________\n",
            "up_sampling2d_27 (UpSampling2D) (None, 256, 256, 256 0           conv2d_160[0][0]                 \n",
            "__________________________________________________________________________________________________\n",
            "conv2d_161 (Conv2D)             (None, 256, 256, 128 131200      up_sampling2d_27[0][0]           \n",
            "__________________________________________________________________________________________________\n",
            "concatenate_27 (Concatenate)    (None, 256, 256, 256 0           conv2d_148[0][0]                 \n",
            "                                                                 conv2d_161[0][0]                 \n",
            "__________________________________________________________________________________________________\n",
            "conv2d_162 (Conv2D)             (None, 256, 256, 128 295040      concatenate_27[0][0]             \n",
            "__________________________________________________________________________________________________\n",
            "conv2d_163 (Conv2D)             (None, 256, 256, 128 147584      conv2d_162[0][0]                 \n",
            "__________________________________________________________________________________________________\n",
            "up_sampling2d_28 (UpSampling2D) (None, 512, 512, 128 0           conv2d_163[0][0]                 \n",
            "__________________________________________________________________________________________________\n",
            "conv2d_164 (Conv2D)             (None, 512, 512, 64) 32832       up_sampling2d_28[0][0]           \n",
            "__________________________________________________________________________________________________\n",
            "concatenate_28 (Concatenate)    (None, 512, 512, 128 0           conv2d_146[0][0]                 \n",
            "                                                                 conv2d_164[0][0]                 \n",
            "__________________________________________________________________________________________________\n",
            "conv2d_165 (Conv2D)             (None, 512, 512, 64) 73792       concatenate_28[0][0]             \n",
            "__________________________________________________________________________________________________\n",
            "conv2d_166 (Conv2D)             (None, 512, 512, 64) 36928       conv2d_165[0][0]                 \n",
            "__________________________________________________________________________________________________\n",
            "conv2d_167 (Conv2D)             (None, 512, 512, 2)  1154        conv2d_166[0][0]                 \n",
            "__________________________________________________________________________________________________\n",
            "conv2d_168 (Conv2D)             (None, 512, 512, 1)  3           conv2d_167[0][0]                 \n",
            "==================================================================================================\n",
            "Total params: 31,031,685\n",
            "Trainable params: 31,031,685\n",
            "Non-trainable params: 0\n",
            "__________________________________________________________________________________________________\n",
            "Train on 160 samples, validate on 40 samples\n",
            "Epoch 1/100\n",
            "160/160 [==============================] - 51s 321ms/step - loss: 0.0917 - dice_coef: 0.1150 - val_loss: 0.0647 - val_dice_coef: 0.1594\n",
            "Epoch 2/100\n",
            "160/160 [==============================] - 50s 315ms/step - loss: 0.0628 - dice_coef: 0.1530 - val_loss: 0.0533 - val_dice_coef: 0.1670\n",
            "Epoch 3/100\n",
            "160/160 [==============================] - 50s 315ms/step - loss: 0.0524 - dice_coef: 0.2091 - val_loss: 0.0760 - val_dice_coef: 0.1491\n",
            "Epoch 4/100\n",
            "160/160 [==============================] - 50s 315ms/step - loss: 0.0532 - dice_coef: 0.2124 - val_loss: 0.0608 - val_dice_coef: 0.1466\n",
            "Epoch 5/100\n",
            "160/160 [==============================] - 50s 315ms/step - loss: 0.0468 - dice_coef: 0.2428 - val_loss: 0.0521 - val_dice_coef: 0.2237\n",
            "Epoch 6/100\n",
            "160/160 [==============================] - 50s 315ms/step - loss: 0.0448 - dice_coef: 0.2951 - val_loss: 0.0453 - val_dice_coef: 0.2277\n",
            "Epoch 7/100\n",
            "160/160 [==============================] - 50s 315ms/step - loss: 0.0397 - dice_coef: 0.3355 - val_loss: 0.0397 - val_dice_coef: 0.3281\n",
            "Epoch 8/100\n",
            "160/160 [==============================] - 50s 316ms/step - loss: 0.0385 - dice_coef: 0.3696 - val_loss: 0.0698 - val_dice_coef: 0.2044\n",
            "Epoch 9/100\n",
            "160/160 [==============================] - 50s 314ms/step - loss: 0.0492 - dice_coef: 0.2597 - val_loss: 0.0466 - val_dice_coef: 0.1805\n",
            "Epoch 10/100\n",
            "160/160 [==============================] - 50s 313ms/step - loss: 0.0409 - dice_coef: 0.3224 - val_loss: 0.0412 - val_dice_coef: 0.2650\n",
            "Epoch 11/100\n",
            "160/160 [==============================] - 50s 313ms/step - loss: 0.0374 - dice_coef: 0.3631 - val_loss: 0.0397 - val_dice_coef: 0.3050\n",
            "Epoch 12/100\n",
            "160/160 [==============================] - 50s 313ms/step - loss: 0.0349 - dice_coef: 0.3960 - val_loss: 0.0376 - val_dice_coef: 0.3557\n",
            "Epoch 13/100\n",
            "160/160 [==============================] - 50s 313ms/step - loss: 0.0292 - dice_coef: 0.4497 - val_loss: 0.0408 - val_dice_coef: 0.2565\n",
            "Epoch 14/100\n",
            "160/160 [==============================] - 50s 313ms/step - loss: 0.0309 - dice_coef: 0.4336 - val_loss: 0.0302 - val_dice_coef: 0.3916\n",
            "Epoch 15/100\n",
            "160/160 [==============================] - 50s 313ms/step - loss: 0.0234 - dice_coef: 0.6085 - val_loss: 0.0253 - val_dice_coef: 0.6166\n",
            "Epoch 16/100\n",
            "160/160 [==============================] - 50s 313ms/step - loss: 0.0233 - dice_coef: 0.6576 - val_loss: 0.0294 - val_dice_coef: 0.4913\n",
            "Epoch 17/100\n",
            "160/160 [==============================] - 50s 314ms/step - loss: 0.0228 - dice_coef: 0.6553 - val_loss: 0.0234 - val_dice_coef: 0.5793\n",
            "Epoch 18/100\n",
            "160/160 [==============================] - 50s 314ms/step - loss: 0.0160 - dice_coef: 0.7485 - val_loss: 0.0201 - val_dice_coef: 0.6583\n",
            "Epoch 19/100\n",
            "160/160 [==============================] - 50s 313ms/step - loss: 0.0178 - dice_coef: 0.7357 - val_loss: 0.0435 - val_dice_coef: 0.3107\n",
            "Epoch 20/100\n",
            "160/160 [==============================] - 50s 314ms/step - loss: 0.0153 - dice_coef: 0.7609 - val_loss: 0.0227 - val_dice_coef: 0.5661\n",
            "Epoch 21/100\n",
            "160/160 [==============================] - 50s 313ms/step - loss: 0.0199 - dice_coef: 0.6856 - val_loss: 0.0191 - val_dice_coef: 0.6637\n",
            "Epoch 22/100\n",
            "160/160 [==============================] - 50s 313ms/step - loss: 0.0134 - dice_coef: 0.7901 - val_loss: 0.0157 - val_dice_coef: 0.7007\n",
            "Epoch 23/100\n",
            "160/160 [==============================] - 50s 313ms/step - loss: 0.0099 - dice_coef: 0.8451 - val_loss: 0.0158 - val_dice_coef: 0.7001\n",
            "Epoch 24/100\n",
            "160/160 [==============================] - 50s 313ms/step - loss: 0.0099 - dice_coef: 0.8446 - val_loss: 0.0274 - val_dice_coef: 0.6536\n",
            "Epoch 25/100\n",
            "160/160 [==============================] - 50s 313ms/step - loss: 0.0118 - dice_coef: 0.8189 - val_loss: 0.0340 - val_dice_coef: 0.5915\n",
            "Epoch 26/100\n",
            "160/160 [==============================] - 50s 312ms/step - loss: 0.0121 - dice_coef: 0.8152 - val_loss: 0.0159 - val_dice_coef: 0.7280\n",
            "Epoch 27/100\n",
            "160/160 [==============================] - 50s 312ms/step - loss: 0.0094 - dice_coef: 0.8482 - val_loss: 0.0146 - val_dice_coef: 0.7567\n",
            "Epoch 28/100\n",
            "160/160 [==============================] - 50s 312ms/step - loss: 0.0081 - dice_coef: 0.8648 - val_loss: 0.0142 - val_dice_coef: 0.7367\n",
            "Epoch 29/100\n",
            "160/160 [==============================] - 50s 312ms/step - loss: 0.0067 - dice_coef: 0.8780 - val_loss: 0.0140 - val_dice_coef: 0.8111\n",
            "Epoch 30/100\n",
            "160/160 [==============================] - 50s 312ms/step - loss: 0.0062 - dice_coef: 0.8921 - val_loss: 0.0180 - val_dice_coef: 0.7690\n",
            "Epoch 31/100\n",
            "160/160 [==============================] - 50s 312ms/step - loss: 0.0053 - dice_coef: 0.8968 - val_loss: 0.0151 - val_dice_coef: 0.8042\n",
            "Epoch 32/100\n",
            "160/160 [==============================] - 50s 312ms/step - loss: 0.0102 - dice_coef: 0.8219 - val_loss: 0.0255 - val_dice_coef: 0.6651\n",
            "Epoch 33/100\n",
            "160/160 [==============================] - 50s 311ms/step - loss: 0.0081 - dice_coef: 0.8597 - val_loss: 0.0144 - val_dice_coef: 0.8127\n",
            "Epoch 34/100\n",
            "160/160 [==============================] - 50s 312ms/step - loss: 0.0048 - dice_coef: 0.9085 - val_loss: 0.0156 - val_dice_coef: 0.7961\n",
            "Epoch 35/100\n",
            "160/160 [==============================] - 50s 312ms/step - loss: 0.0041 - dice_coef: 0.9239 - val_loss: 0.0175 - val_dice_coef: 0.7905\n",
            "Epoch 36/100\n",
            "160/160 [==============================] - 50s 311ms/step - loss: 0.0039 - dice_coef: 0.9296 - val_loss: 0.0163 - val_dice_coef: 0.8153\n",
            "Epoch 37/100\n",
            "160/160 [==============================] - 50s 311ms/step - loss: 0.0037 - dice_coef: 0.9271 - val_loss: 0.0228 - val_dice_coef: 0.7681\n",
            "Epoch 38/100\n",
            "160/160 [==============================] - 50s 312ms/step - loss: 0.0036 - dice_coef: 0.9285 - val_loss: 0.0170 - val_dice_coef: 0.7987\n",
            "Epoch 39/100\n",
            "160/160 [==============================] - 50s 311ms/step - loss: 0.0033 - dice_coef: 0.9368 - val_loss: 0.0177 - val_dice_coef: 0.8245\n",
            "Epoch 40/100\n",
            "160/160 [==============================] - 50s 311ms/step - loss: 0.0033 - dice_coef: 0.9362 - val_loss: 0.0207 - val_dice_coef: 0.7859\n",
            "Epoch 41/100\n",
            "160/160 [==============================] - 50s 311ms/step - loss: 0.0032 - dice_coef: 0.9377 - val_loss: 0.0221 - val_dice_coef: 0.7854\n",
            "Epoch 42/100\n",
            "160/160 [==============================] - 50s 311ms/step - loss: 0.0029 - dice_coef: 0.9444 - val_loss: 0.0209 - val_dice_coef: 0.8232\n",
            "Epoch 43/100\n",
            "160/160 [==============================] - 50s 311ms/step - loss: 0.0028 - dice_coef: 0.9444 - val_loss: 0.0231 - val_dice_coef: 0.7994\n",
            "Epoch 44/100\n",
            "160/160 [==============================] - 50s 311ms/step - loss: 0.0027 - dice_coef: 0.9462 - val_loss: 0.0264 - val_dice_coef: 0.7880\n",
            "Epoch 45/100\n",
            "160/160 [==============================] - 50s 311ms/step - loss: 0.0028 - dice_coef: 0.9481 - val_loss: 0.0222 - val_dice_coef: 0.8073\n",
            "Epoch 46/100\n",
            "160/160 [==============================] - 50s 311ms/step - loss: 0.0032 - dice_coef: 0.9399 - val_loss: 0.0333 - val_dice_coef: 0.7400\n",
            "Epoch 47/100\n",
            "160/160 [==============================] - 50s 311ms/step - loss: 0.0151 - dice_coef: 0.7779 - val_loss: 0.0253 - val_dice_coef: 0.5930\n",
            "Epoch 48/100\n",
            "160/160 [==============================] - 50s 312ms/step - loss: 0.0124 - dice_coef: 0.7995 - val_loss: 0.0317 - val_dice_coef: 0.5602\n",
            "Epoch 49/100\n",
            "160/160 [==============================] - 50s 312ms/step - loss: 0.0116 - dice_coef: 0.8259 - val_loss: 0.0224 - val_dice_coef: 0.7140\n",
            "Epoch 50/100\n",
            "160/160 [==============================] - 50s 310ms/step - loss: 0.0080 - dice_coef: 0.8597 - val_loss: 0.0225 - val_dice_coef: 0.7393\n",
            "Epoch 51/100\n",
            "160/160 [==============================] - 50s 310ms/step - loss: 0.0036 - dice_coef: 0.9292 - val_loss: 0.0300 - val_dice_coef: 0.7359\n",
            "Epoch 52/100\n",
            "160/160 [==============================] - 50s 310ms/step - loss: 0.0030 - dice_coef: 0.9404 - val_loss: 0.0315 - val_dice_coef: 0.7427\n",
            "Epoch 53/100\n",
            "160/160 [==============================] - 50s 310ms/step - loss: 0.0028 - dice_coef: 0.9454 - val_loss: 0.0355 - val_dice_coef: 0.7287\n",
            "Epoch 54/100\n",
            "160/160 [==============================] - 50s 310ms/step - loss: 0.0028 - dice_coef: 0.9479 - val_loss: 0.0359 - val_dice_coef: 0.7279\n",
            "Epoch 55/100\n",
            "160/160 [==============================] - 50s 311ms/step - loss: 0.0026 - dice_coef: 0.9506 - val_loss: 0.0330 - val_dice_coef: 0.7493\n",
            "Epoch 56/100\n",
            "160/160 [==============================] - 50s 310ms/step - loss: 0.0026 - dice_coef: 0.9509 - val_loss: 0.0323 - val_dice_coef: 0.7557\n",
            "Epoch 57/100\n",
            "160/160 [==============================] - 50s 311ms/step - loss: 0.0023 - dice_coef: 0.9526 - val_loss: 0.0403 - val_dice_coef: 0.7178\n",
            "Epoch 58/100\n",
            "160/160 [==============================] - 50s 311ms/step - loss: 0.0023 - dice_coef: 0.9541 - val_loss: 0.0353 - val_dice_coef: 0.7568\n",
            "Epoch 59/100\n",
            "160/160 [==============================] - 50s 310ms/step - loss: 0.0022 - dice_coef: 0.9569 - val_loss: 0.0346 - val_dice_coef: 0.7642\n",
            "Epoch 60/100\n",
            "160/160 [==============================] - 50s 309ms/step - loss: 0.0021 - dice_coef: 0.9586 - val_loss: 0.0329 - val_dice_coef: 0.7838\n",
            "Epoch 61/100\n",
            "160/160 [==============================] - 50s 310ms/step - loss: 0.0020 - dice_coef: 0.9606 - val_loss: 0.0366 - val_dice_coef: 0.7675\n",
            "Epoch 62/100\n",
            "160/160 [==============================] - 50s 310ms/step - loss: 0.0020 - dice_coef: 0.9606 - val_loss: 0.0390 - val_dice_coef: 0.7551\n",
            "Epoch 63/100\n",
            "160/160 [==============================] - 50s 311ms/step - loss: 0.0019 - dice_coef: 0.9630 - val_loss: 0.0340 - val_dice_coef: 0.7776\n",
            "Epoch 64/100\n",
            "160/160 [==============================] - 50s 311ms/step - loss: 0.0020 - dice_coef: 0.9597 - val_loss: 0.0423 - val_dice_coef: 0.7319\n",
            "Epoch 65/100\n",
            "160/160 [==============================] - 50s 311ms/step - loss: 0.0023 - dice_coef: 0.9553 - val_loss: 0.0324 - val_dice_coef: 0.7822\n",
            "Epoch 66/100\n",
            "160/160 [==============================] - 50s 310ms/step - loss: 0.0021 - dice_coef: 0.9601 - val_loss: 0.0346 - val_dice_coef: 0.7748\n",
            "Epoch 67/100\n",
            "160/160 [==============================] - 50s 310ms/step - loss: 0.0018 - dice_coef: 0.9645 - val_loss: 0.0383 - val_dice_coef: 0.7656\n",
            "Epoch 68/100\n",
            "160/160 [==============================] - 50s 310ms/step - loss: 0.0017 - dice_coef: 0.9660 - val_loss: 0.0383 - val_dice_coef: 0.7685\n",
            "Epoch 69/100\n",
            "160/160 [==============================] - 50s 310ms/step - loss: 0.0017 - dice_coef: 0.9662 - val_loss: 0.0318 - val_dice_coef: 0.8055\n",
            "Epoch 70/100\n",
            "160/160 [==============================] - 50s 310ms/step - loss: 0.0017 - dice_coef: 0.9662 - val_loss: 0.0447 - val_dice_coef: 0.7457\n",
            "Epoch 71/100\n",
            "160/160 [==============================] - 50s 310ms/step - loss: 0.0016 - dice_coef: 0.9673 - val_loss: 0.0331 - val_dice_coef: 0.8031\n",
            "Epoch 72/100\n",
            "160/160 [==============================] - 50s 310ms/step - loss: 0.0017 - dice_coef: 0.9671 - val_loss: 0.0365 - val_dice_coef: 0.7839\n",
            "Epoch 73/100\n",
            "160/160 [==============================] - 50s 311ms/step - loss: 0.0017 - dice_coef: 0.9675 - val_loss: 0.0319 - val_dice_coef: 0.7912\n",
            "Epoch 74/100\n",
            "160/160 [==============================] - 50s 311ms/step - loss: 0.0016 - dice_coef: 0.9703 - val_loss: 0.0338 - val_dice_coef: 0.7969\n",
            "Epoch 75/100\n",
            "160/160 [==============================] - 50s 311ms/step - loss: 0.0015 - dice_coef: 0.9707 - val_loss: 0.0403 - val_dice_coef: 0.7609\n",
            "Epoch 76/100\n",
            "160/160 [==============================] - 50s 310ms/step - loss: 0.0016 - dice_coef: 0.9687 - val_loss: 0.0394 - val_dice_coef: 0.7722\n",
            "Epoch 77/100\n",
            "160/160 [==============================] - 50s 311ms/step - loss: 0.0015 - dice_coef: 0.9706 - val_loss: 0.0331 - val_dice_coef: 0.8033\n",
            "Epoch 78/100\n",
            "160/160 [==============================] - 50s 311ms/step - loss: 0.0016 - dice_coef: 0.9697 - val_loss: 0.0602 - val_dice_coef: 0.6830\n",
            "Epoch 79/100\n",
            "160/160 [==============================] - 50s 310ms/step - loss: 0.0017 - dice_coef: 0.9669 - val_loss: 0.0268 - val_dice_coef: 0.8266\n",
            "Epoch 80/100\n",
            "160/160 [==============================] - 50s 310ms/step - loss: 0.0015 - dice_coef: 0.9690 - val_loss: 0.0260 - val_dice_coef: 0.8411\n",
            "Epoch 81/100\n",
            "160/160 [==============================] - 50s 310ms/step - loss: 0.0014 - dice_coef: 0.9719 - val_loss: 0.0420 - val_dice_coef: 0.7718\n",
            "Epoch 82/100\n",
            "160/160 [==============================] - 50s 311ms/step - loss: 0.0015 - dice_coef: 0.9716 - val_loss: 0.0384 - val_dice_coef: 0.7712\n",
            "Epoch 83/100\n",
            "160/160 [==============================] - 50s 311ms/step - loss: 0.0014 - dice_coef: 0.9720 - val_loss: 0.0367 - val_dice_coef: 0.7881\n",
            "Epoch 84/100\n",
            "160/160 [==============================] - 50s 311ms/step - loss: 0.0013 - dice_coef: 0.9730 - val_loss: 0.0420 - val_dice_coef: 0.7745\n",
            "Epoch 85/100\n",
            "160/160 [==============================] - 50s 311ms/step - loss: 0.0013 - dice_coef: 0.9738 - val_loss: 0.0390 - val_dice_coef: 0.7841\n",
            "Epoch 86/100\n",
            "160/160 [==============================] - 50s 311ms/step - loss: 0.0029 - dice_coef: 0.9529 - val_loss: 0.0215 - val_dice_coef: 0.7545\n",
            "Epoch 87/100\n",
            "160/160 [==============================] - 50s 310ms/step - loss: 0.0167 - dice_coef: 0.7643 - val_loss: 0.0219 - val_dice_coef: 0.7040\n",
            "Epoch 88/100\n",
            "160/160 [==============================] - 49s 309ms/step - loss: 0.0124 - dice_coef: 0.8109 - val_loss: 0.0200 - val_dice_coef: 0.7530\n",
            "Epoch 89/100\n",
            "160/160 [==============================] - 50s 310ms/step - loss: 0.0063 - dice_coef: 0.8867 - val_loss: 0.0264 - val_dice_coef: 0.7299\n",
            "Epoch 90/100\n",
            "160/160 [==============================] - 49s 309ms/step - loss: 0.0030 - dice_coef: 0.9377 - val_loss: 0.0344 - val_dice_coef: 0.7264\n",
            "Epoch 91/100\n",
            "160/160 [==============================] - 49s 309ms/step - loss: 0.0023 - dice_coef: 0.9564 - val_loss: 0.0373 - val_dice_coef: 0.7069\n",
            "Epoch 92/100\n",
            "160/160 [==============================] - 50s 310ms/step - loss: 0.0040 - dice_coef: 0.9285 - val_loss: 0.0299 - val_dice_coef: 0.7570\n",
            "Epoch 93/100\n",
            "160/160 [==============================] - 49s 308ms/step - loss: 0.0021 - dice_coef: 0.9597 - val_loss: 0.0291 - val_dice_coef: 0.7600\n",
            "Epoch 94/100\n",
            "160/160 [==============================] - 49s 308ms/step - loss: 0.0018 - dice_coef: 0.9645 - val_loss: 0.0337 - val_dice_coef: 0.7547\n",
            "Epoch 95/100\n",
            "160/160 [==============================] - 49s 308ms/step - loss: 0.0016 - dice_coef: 0.9677 - val_loss: 0.0353 - val_dice_coef: 0.7561\n",
            "Epoch 96/100\n",
            "160/160 [==============================] - 49s 309ms/step - loss: 0.0014 - dice_coef: 0.9713 - val_loss: 0.0373 - val_dice_coef: 0.7623\n",
            "Epoch 97/100\n",
            "160/160 [==============================] - 49s 309ms/step - loss: 0.0013 - dice_coef: 0.9741 - val_loss: 0.0379 - val_dice_coef: 0.7676\n",
            "Epoch 98/100\n",
            "160/160 [==============================] - 49s 308ms/step - loss: 0.0012 - dice_coef: 0.9751 - val_loss: 0.0400 - val_dice_coef: 0.7642\n",
            "Epoch 99/100\n",
            "160/160 [==============================] - 49s 309ms/step - loss: 0.0012 - dice_coef: 0.9761 - val_loss: 0.0411 - val_dice_coef: 0.7612\n",
            "Epoch 100/100\n",
            "160/160 [==============================] - 50s 309ms/step - loss: 0.0012 - dice_coef: 0.9770 - val_loss: 0.0392 - val_dice_coef: 0.7746\n"
          ],
          "name": "stdout"
        },
        {
          "output_type": "execute_result",
          "data": {
            "text/plain": [
              "<keras.callbacks.callbacks.History at 0x7f59fa2e3d30>"
            ]
          },
          "metadata": {
            "tags": []
          },
          "execution_count": 41
        }
      ]
    },
    {
      "cell_type": "code",
      "metadata": {
        "id": "PWPI4NO9Suij",
        "colab_type": "code",
        "outputId": "ec62ea0d-35a8-4d6f-ef7a-85c97508fda5",
        "colab": {
          "base_uri": "https://localhost:8080/",
          "height": 84
        }
      },
      "source": [
        "print('\\n# Evaluate on test data')\n",
        "results = model.evaluate(images[1000:,:], masks[1000:,:], batch_size=2)\n",
        "print('dice_coeff:', results)"
      ],
      "execution_count": 42,
      "outputs": [
        {
          "output_type": "stream",
          "text": [
            "\n",
            "# Evaluate on test data\n",
            "132/132 [==============================] - 12s 92ms/step\n",
            "dice_coeff: [0.061379883836983055, 0.7408949732780457]\n"
          ],
          "name": "stdout"
        }
      ]
    },
    {
      "cell_type": "code",
      "metadata": {
        "id": "lSQ0ieHaOGkc",
        "colab_type": "code",
        "colab": {
          "base_uri": "https://localhost:8080/",
          "height": 180
        },
        "outputId": "e70d23ea-0c4a-47b9-f79f-09e357111493"
      },
      "source": [
        "predictions = model.predict(images[0:1,:])\n",
        "plt.subplot(221)\n",
        "plt.title('Prediction')\n",
        "ptl.imshow(predictions[0,:,:,0])\n",
        "plt.subplot(222)\n",
        "plt.title('Ground Truth')\n",
        "plt.imshow(masks[0,:,:,0])"
      ],
      "execution_count": 44,
      "outputs": [
        {
          "output_type": "execute_result",
          "data": {
            "text/plain": [
              "<matplotlib.image.AxesImage at 0x7f59f9b2beb8>"
            ]
          },
          "metadata": {
            "tags": []
          },
          "execution_count": 44
        },
        {
          "output_type": "display_data",
          "data": {
            "image/png": "[encoded data removed]",
            "text/plain": [
              "<Figure size 432x288 with 2 Axes>"
            ]
          },
          "metadata": {
            "tags": [],
            "needs_background": "light"
          }
        }
      ]
    },
    {
      "cell_type": "code",
      "metadata": {
        "id": "TiFOMldP12Kz",
        "colab_type": "code",
        "colab": {}
      },
      "source": [
        "model.save('model_2.h5') "
      ],
      "execution_count": 0,
      "outputs": []
    },
    {
      "cell_type": "code",
      "metadata": {
        "id": "jXZ_mKFESrKq",
        "colab_type": "code",
        "outputId": "25382814-26c8-4cfb-e01d-db830911fad1",
        "colab": {
          "base_uri": "https://localhost:8080/",
          "height": 67
        }
      },
      "source": [
        "!ls"
      ],
      "execution_count": 46,
      "outputs": [
        {
          "output_type": "stream",
          "text": [
            " aug\t    'images (1).npy'   labels.npy       masks.npy    README.txt\n",
            " cvind.mat   images.npy       'masks (1).npy'   model_1.h5\n",
            " data\t    'labels (1).npy'  'masks (2).npy'   model_2.h5\n"
          ],
          "name": "stdout"
        }
      ]
    },
    {
      "cell_type": "code",
      "metadata": {
        "id": "VvFyqyb8JlpP",
        "colab_type": "code",
        "colab": {
          "base_uri": "https://localhost:8080/",
          "height": 180
        },
        "outputId": "0b146460-6d50-4c38-c7f7-28dc35f645c4"
      },
      "source": [
        "predictions = model.predict(images[1005:1006,:])\n",
        "plt.subplot(221)\n",
        "plt.title('Prediction')\n",
        "plt.imshow(predictions[0,:,:,0])\n",
        "plt.subplot(222)\n",
        "plt.title('Ground Truth')\n",
        "plt.imshow(masks[1005,:,:,0])"
      ],
      "execution_count": 48,
      "outputs": [
        {
          "output_type": "execute_result",
          "data": {
            "text/plain": [
              "<matplotlib.image.AxesImage at 0x7f59f99e9f98>"
            ]
          },
          "metadata": {
            "tags": []
          },
          "execution_count": 48
        },
        {
          "output_type": "display_data",
          "data": {
            "image/png": "[encoded data removed]",
            "text/plain": [
              "<Figure size 432x288 with 2 Axes>"
            ]
          },
          "metadata": {
            "tags": [],
            "needs_background": "light"
          }
        }
      ]
    },
    {
      "cell_type": "code",
      "metadata": {
        "id": "6mQnDDgoNsVL",
        "colab_type": "code",
        "colab": {
          "base_uri": "https://localhost:8080/",
          "height": 286
        },
        "outputId": "5cffbe17-1222-451c-8d7b-5047b50fc7a6"
      },
      "source": [
        "plt.imshow(images[0,:,:,0])"
      ],
      "execution_count": 25,
      "outputs": [
        {
          "output_type": "execute_result",
          "data": {
            "text/plain": [
              "<matplotlib.image.AxesImage at 0x7f5c5f6257f0>"
            ]
          },
          "metadata": {
            "tags": []
          },
          "execution_count": 25
        },
        {
          "output_type": "display_data",
          "data": {
            "image/png": "[encoded data removed]",
            "text/plain": [
              "<Figure size 432x288 with 1 Axes>"
            ]
          },
          "metadata": {
            "tags": [],
            "needs_background": "light"
          }
        }
      ]
    },
    {
      "cell_type": "code",
      "metadata": {
        "id": "ScxQLHG-N2xY",
        "colab_type": "code",
        "colab": {
          "base_uri": "https://localhost:8080/",
          "height": 286
        },
        "outputId": "c763caa2-3e6b-4a07-db91-fd6eeb64c0d2"
      },
      "source": [
        "plt.imshow(masks[0,:,:,0])"
      ],
      "execution_count": 26,
      "outputs": [
        {
          "output_type": "execute_result",
          "data": {
            "text/plain": [
              "<matplotlib.image.AxesImage at 0x7f5c5e0fb438>"
            ]
          },
          "metadata": {
            "tags": []
          },
          "execution_count": 26
        },
        {
          "output_type": "display_data",
          "data": {
            "image/png": "[encoded data removed]",
            "text/plain": [
              "<Figure size 432x288 with 1 Axes>"
            ]
          },
          "metadata": {
            "tags": [],
            "needs_background": "light"
          }
        }
      ]
    },
    {
      "cell_type": "code",
      "metadata": {
        "id": "EBKjWJydvRLY",
        "colab_type": "code",
        "colab": {}
      },
      "source": [
        ""
      ],
      "execution_count": 0,
      "outputs": []
    }
  ]
}
