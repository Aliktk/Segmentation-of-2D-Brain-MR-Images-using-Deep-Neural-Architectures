{
  "nbformat": 4,
  "nbformat_minor": 0,
  "metadata": {
    "colab": {
      "name": "Res+U-Net.ipynb",
      "provenance": [],
      "collapsed_sections": [],
      "include_colab_link": true
    },
    "kernelspec": {
      "name": "python3",
      "display_name": "Python 3"
    },
    "accelerator": "GPU"
  },
  "cells": [
    {
      "cell_type": "markdown",
      "metadata": {
        "id": "view-in-github",
        "colab_type": "text"
      },
      "source": [
        "<a href=\"https://colab.research.google.com/github/angadbajwa23/Brain-Image-Segmentation/blob/master/Attention_Unet.ipynb\" target=\"_parent\"><img src=\"https://colab.research.google.com/assets/colab-badge.svg\" alt=\"Open In Colab\"/></a>"
      ]
    },
    {
      "cell_type": "code",
      "metadata": {
        "id": "mzL0Ri4Apk-U",
        "colab_type": "code",
        "outputId": "0beb6acb-2b57-4668-fabd-027bb6d8f5d8",
        "colab": {
          "base_uri": "https://localhost:8080/",
          "height": 121
        }
      },
      "source": [
        "from google.colab import drive\n",
        "drive.mount('/content/gdrive',force_remount=True)"
      ],
      "execution_count": 0,
      "outputs": [
        {
          "output_type": "stream",
          "text": [
            "Go to this URL in a browser: https://accounts.google.com/o/oauth2/auth?client_id=947318989803-6bn6qk8qdgf4n4g3pfee6491hc0brc4i.apps.googleusercontent.com&redirect_uri=urn%3aietf%3awg%3aoauth%3a2.0%3aoob&response_type=code&scope=email%20https%3a%2f%2fwww.googleapis.com%2fauth%2fdocs.test%20https%3a%2f%2fwww.googleapis.com%2fauth%2fdrive%20https%3a%2f%2fwww.googleapis.com%2fauth%2fdrive.photos.readonly%20https%3a%2f%2fwww.googleapis.com%2fauth%2fpeopleapi.readonly\n",
            "\n",
            "Enter your authorization code:\n",
            "··········\n",
            "Mounted at /content/gdrive\n"
          ],
          "name": "stdout"
        }
      ]
    },
    {
      "cell_type": "code",
      "metadata": {
        "id": "rtLVkUdsp8kA",
        "colab_type": "code",
        "outputId": "79935a2d-31fc-4e35-a94e-000cc643e740",
        "colab": {
          "base_uri": "https://localhost:8080/",
          "height": 34
        }
      },
      "source": [
        "%cd gdrive/My Drive/2d"
      ],
      "execution_count": 0,
      "outputs": [
        {
          "output_type": "stream",
          "text": [
            "/content/gdrive/My Drive/2d\n"
          ],
          "name": "stdout"
        }
      ]
    },
    {
      "cell_type": "code",
      "metadata": {
        "id": "yxhsfUcUp-d8",
        "colab_type": "code",
        "outputId": "4892057e-44a6-4ba0-d3c2-f33f11cdde3b",
        "colab": {
          "base_uri": "https://localhost:8080/",
          "height": 151
        }
      },
      "source": [
        "!pip install hdf5storage"
      ],
      "execution_count": 0,
      "outputs": [
        {
          "output_type": "stream",
          "text": [
            "Collecting hdf5storage\n",
            "\u001b[?25l  Downloading https://files.pythonhosted.org/packages/79/e0/5dd25068a231cd817265529368aca2f918049b290dcb2fd9b24ce136adf4/hdf5storage-0.1.15-py2.py3-none-any.whl (56kB)\n",
            "\r\u001b[K     |█████▊                          | 10kB 24.4MB/s eta 0:00:01\r\u001b[K     |███████████▌                    | 20kB 3.0MB/s eta 0:00:01\r\u001b[K     |█████████████████▎              | 30kB 4.0MB/s eta 0:00:01\r\u001b[K     |███████████████████████         | 40kB 4.4MB/s eta 0:00:01\r\u001b[K     |████████████████████████████▉   | 51kB 3.5MB/s eta 0:00:01\r\u001b[K     |████████████████████████████████| 61kB 2.7MB/s \n",
            "\u001b[?25hRequirement already satisfied: numpy; python_version >= \"3.4\" in /usr/local/lib/python3.6/dist-packages (from hdf5storage) (1.18.4)\n",
            "Requirement already satisfied: h5py>=2.1; python_version >= \"3.3\" in /usr/local/lib/python3.6/dist-packages (from hdf5storage) (2.10.0)\n",
            "Requirement already satisfied: six in /usr/local/lib/python3.6/dist-packages (from h5py>=2.1; python_version >= \"3.3\"->hdf5storage) (1.12.0)\n",
            "Installing collected packages: hdf5storage\n",
            "Successfully installed hdf5storage-0.1.15\n"
          ],
          "name": "stdout"
        }
      ]
    },
    {
      "cell_type": "markdown",
      "metadata": {
        "id": "9IF_ImjTy5Fx",
        "colab_type": "text"
      },
      "source": [
        "Importing Libraries\n"
      ]
    },
    {
      "cell_type": "code",
      "metadata": {
        "id": "JvLKmspyqAUf",
        "colab_type": "code",
        "outputId": "1c824ea0-57d3-4e44-b752-116fd26a0908",
        "colab": {
          "base_uri": "https://localhost:8080/",
          "height": 34
        }
      },
      "source": [
        "import os\n",
        "import argparse\n",
        "import sys\n",
        "import numpy as np\n",
        "import hdf5storage\n",
        "import cv2\n",
        "import matplotlib.pyplot as plt\n",
        "\n",
        "\n",
        "import skimage.io as io\n",
        "import skimage.transform as trans\n",
        "from keras.models import *\n",
        "from keras.layers import *\n",
        "from keras.optimizers import *\n",
        "from keras.callbacks import ModelCheckpoint, LearningRateScheduler\n",
        "from keras import backend as keras"
      ],
      "execution_count": 0,
      "outputs": [
        {
          "output_type": "stream",
          "text": [
            "Using TensorFlow backend.\n"
          ],
          "name": "stderr"
        }
      ]
    },
    {
      "cell_type": "code",
      "metadata": {
        "id": "iQfpInciqA4T",
        "colab_type": "code",
        "colab": {}
      },
      "source": [
        "labels = np.load('labels.npy')\n",
        "images = np.load('images.npy')\n",
        "masks = np.load('masks.npy')"
      ],
      "execution_count": 0,
      "outputs": []
    },
    {
      "cell_type": "code",
      "metadata": {
        "id": "oLh-nbmmqZQQ",
        "colab_type": "code",
        "colab": {}
      },
      "source": [
        "images = images[..., np.newaxis]"
      ],
      "execution_count": 0,
      "outputs": []
    },
    {
      "cell_type": "code",
      "metadata": {
        "id": "3QldexLPqZ4g",
        "colab_type": "code",
        "colab": {}
      },
      "source": [
        "masks = masks[..., np.newaxis]"
      ],
      "execution_count": 0,
      "outputs": []
    },
    {
      "cell_type": "markdown",
      "metadata": {
        "id": "6VeN6n_QzBqg",
        "colab_type": "text"
      },
      "source": [
        "Normalizing Images"
      ]
    },
    {
      "cell_type": "code",
      "metadata": {
        "id": "zR_OfchjqbT9",
        "colab_type": "code",
        "colab": {}
      },
      "source": [
        "for i in range(images.shape[0]):\n",
        "  images[i,:, :] = (images[i,:, :] - np.mean(images[i,:, :]))/ np.std(images[i,:, :])"
      ],
      "execution_count": 0,
      "outputs": []
    },
    {
      "cell_type": "code",
      "metadata": {
        "id": "qRjBR1ITuIRW",
        "colab_type": "code",
        "outputId": "a4eb4b65-458c-4367-b545-41798dc65486",
        "colab": {
          "base_uri": "https://localhost:8080/",
          "height": 34
        }
      },
      "source": [
        "images.shape"
      ],
      "execution_count": 0,
      "outputs": [
        {
          "output_type": "execute_result",
          "data": {
            "text/plain": [
              "(3064, 512, 512, 1)"
            ]
          },
          "metadata": {
            "tags": []
          },
          "execution_count": 9
        }
      ]
    },
    {
      "cell_type": "markdown",
      "metadata": {
        "id": "1I08zIdKzE0R",
        "colab_type": "text"
      },
      "source": [
        "Splitting the dataset into Traing, Validation and Test sets\n"
      ]
    },
    {
      "cell_type": "code",
      "metadata": {
        "id": "7bryyWzacelR",
        "colab_type": "code",
        "outputId": "e9dac780-20a8-42e0-c6c8-0052d316ec37",
        "colab": {
          "base_uri": "https://localhost:8080/",
          "height": 168
        }
      },
      "source": [
        "from sklearn.model_selection import train_test_split\n",
        "\n",
        "images_train, images_test, masks_train, masks_test = train_test_split(images,masks,test_size=0.2,train_size=0.8,random_state=1)\n",
        "images_test, images_cv, masks_test, masks_cv = train_test_split(images_test,masks_test,test_size = 0.5,train_size =0.5,random_state=1)\n",
        "print (\"number of training examples = \" + str(images_train.shape[0]))\n",
        "print (\"number of development examples = \" + str(images_cv.shape[0]))\n",
        "print (\"number of test examples = \" + str(images_test.shape[0]))\n",
        "print (\"Images_train shape: \" + str(images_train.shape))\n",
        "print (\"Masks_train shape: \" + str(masks_train.shape))\n",
        "print (\"Images_val (dev) shape: \" + str(images_cv.shape))\n",
        "print (\"Masks_val (dev) shape: \" + str(masks_cv.shape))\n",
        "print (\"Images_test shape: \" + str(images_test.shape))\n",
        "print (\"Masks_test shape: \" + str(masks_test.shape))"
      ],
      "execution_count": 0,
      "outputs": [
        {
          "output_type": "stream",
          "text": [
            "number of training examples = 2451\n",
            "number of development examples = 307\n",
            "number of test examples = 306\n",
            "Images_train shape: (2451, 512, 512, 1)\n",
            "Masks_train shape: (2451, 512, 512, 1)\n",
            "Images_val (dev) shape: (307, 512, 512, 1)\n",
            "Masks_val (dev) shape: (307, 512, 512, 1)\n",
            "Images_test shape: (306, 512, 512, 1)\n",
            "Masks_test shape: (306, 512, 512, 1)\n"
          ],
          "name": "stdout"
        }
      ]
    },
    {
      "cell_type": "markdown",
      "metadata": {
        "id": "jE7XX8NQzKjg",
        "colab_type": "text"
      },
      "source": [
        "Evalution Metrics\n"
      ]
    },
    {
      "cell_type": "code",
      "metadata": {
        "id": "cUkXLvQDqGUu",
        "colab_type": "code",
        "colab": {}
      },
      "source": [
        "from keras.losses import binary_crossentropy\n",
        "smooth = 1\n",
        "def dice_coef(y_true, y_pred):\n",
        "    y_true_f = K.flatten(y_true)\n",
        "    y_pred_f = K.flatten(y_pred)\n",
        "    intersection = K.sum(y_true_f * y_pred_f)\n",
        "    return (2. * intersection + smooth) / (K.sum(y_true_f) + K.sum(y_pred_f) + smooth)\n",
        "\n",
        "\n",
        "def dice_coef_loss(y_true, y_pred):\n",
        "    return 1.-dice_coef(y_true, y_pred)\n",
        "\n",
        "def bce_dice_loss(y_true, y_pred):\n",
        "    return binary_crossentropy(y_true, y_pred) + dice_coef_loss(y_true, y_pred)"
      ],
      "execution_count": 0,
      "outputs": []
    },
    {
      "cell_type": "markdown",
      "metadata": {
        "id": "NXrv81BSznKY",
        "colab_type": "text"
      },
      "source": [
        "Model\n"
      ]
    },
    {
      "cell_type": "code",
      "metadata": {
        "id": "TgFJ9PSxqil0",
        "colab_type": "code",
        "colab": {}
      },
      "source": [
        "#Res+U-Net\n",
        "def unet_2():\n",
        "    inputs = Input((512,512, 1))\n",
        "    conv1 = Conv2D(32, (3, 3), activation='relu', padding='same')(inputs)\n",
        "    conv1 = Conv2D(32, (3, 3), activation='relu', padding='same')(conv1)\n",
        "    conc1 = concatenate([inputs, conv1], axis=3)\n",
        "    pool1 = MaxPooling2D(pool_size=(2, 2))(conc1)\n",
        "\n",
        "    conv2 = Conv2D(64, (3, 3), activation='relu', padding='same')(pool1)\n",
        "    conv2 = Conv2D(64, (3, 3), activation='relu', padding='same')(conv2)\n",
        "    conc2 = concatenate([pool1, conv2], axis=3)\n",
        "    pool2 = MaxPooling2D(pool_size=(2, 2))(conc2)\n",
        "\n",
        "    conv3 = Conv2D(128, (3, 3), activation='relu', padding='same')(pool2)\n",
        "    conv3 = Conv2D(128, (3, 3), activation='relu', padding='same')(conv3)\n",
        "    conc3 = concatenate([pool2, conv3], axis=3)\n",
        "    pool3 = MaxPooling2D(pool_size=(2, 2))(conc3)\n",
        "\n",
        "    conv4 = Conv2D(256, (3, 3), activation='relu', padding='same')(pool3)\n",
        "    conv4 = Conv2D(256, (3, 3), activation='relu', padding='same')(conv4)\n",
        "    conc4 = concatenate([pool3, conv4], axis=3)\n",
        "    pool4 = MaxPooling2D(pool_size=(2, 2))(conc4)\n",
        "\n",
        "    conv5 = Conv2D(512, (3, 3), activation='relu', padding='same')(pool4)\n",
        "    conv5 = Conv2D(512, (3, 3), activation='relu', padding='same')(conv5)\n",
        "    conc5 = concatenate([pool4, conv5], axis=3)\n",
        "\n",
        "    up6 = concatenate([Conv2DTranspose(256, (2, 2), strides=(2, 2), padding='same')(conc5), conv4], axis=3)\n",
        "    conv6 = Conv2D(256, (3, 3), activation='relu', padding='same')(up6)\n",
        "    conv6 = Conv2D(256, (3, 3), activation='relu', padding='same')(conv6)\n",
        "    conc6 = concatenate([up6, conv6], axis=3)\n",
        "\n",
        "    up7 = concatenate([Conv2DTranspose(128, (2, 2), strides=(2, 2), padding='same')(conc6), conv3], axis=3)\n",
        "    conv7 = Conv2D(128, (3, 3), activation='relu', padding='same')(up7)\n",
        "    conv7 = Conv2D(128, (3, 3), activation='relu', padding='same')(conv7)\n",
        "    conc7 = concatenate([up7, conv7], axis=3)\n",
        "\n",
        "    up8 = concatenate([Conv2DTranspose(64, (2, 2), strides=(2, 2), padding='same')(conc7), conv2], axis=3)\n",
        "    conv8 = Conv2D(64, (3, 3), activation='relu', padding='same')(up8)\n",
        "    conv8 = Conv2D(64, (3, 3), activation='relu', padding='same')(conv8)\n",
        "    conc8 = concatenate([up8, conv8], axis=3)\n",
        "\n",
        "    up9 = concatenate([Conv2DTranspose(32, (2, 2), strides=(2, 2), padding='same')(conc8), conv1], axis=3)\n",
        "    conv9 = Conv2D(32, (3, 3), activation='relu', padding='same')(up9)\n",
        "    conv9 = Conv2D(32, (3, 3), activation='relu', padding='same')(conv9)\n",
        "    conc9 = concatenate([up9, conv9], axis=3)\n",
        "\n",
        "    conv10 = Conv2D(1, (1, 1), activation='sigmoid')(conc9)\n",
        "\n",
        "    model = Model(inputs=[inputs], outputs=[conv10])\n",
        "\n",
        "    model.summary()\n",
        "\n",
        "    model.compile(optimizer=Adam(lr=1e-5, beta_1=0.9, beta_2=0.999, epsilon=1e-08, decay=0.000000199), loss=[bce_dice_loss], metrics=[dice_coef])\n",
        "\n",
        "    return model\n"
      ],
      "execution_count": 0,
      "outputs": []
    },
    {
      "cell_type": "code",
      "metadata": {
        "id": "Cc4CP1pncQGu",
        "colab_type": "code",
        "colab": {}
      },
      "source": [
        "filepath=\"cnn-parameters-improvement-{epoch:02d}-{dice_coef:.2f}\"\n",
        "# save the model with the best validation (development) accuracy till now\n",
        "checkpoint = ModelCheckpoint(\"checkpoints/{}.model\".format(filepath, monitor=[dice_coef], verbose=1, save_best_only=True, mode='max'))"
      ],
      "execution_count": 0,
      "outputs": []
    },
    {
      "cell_type": "markdown",
      "metadata": {
        "id": "LrzfKrY5zRUw",
        "colab_type": "text"
      },
      "source": [
        "Train the Model"
      ]
    },
    {
      "cell_type": "code",
      "metadata": {
        "id": "QMM0fmjXcRBX",
        "colab_type": "code",
        "outputId": "d5e46c26-7779-4c62-d5b8-ab46a7c1eb55",
        "colab": {
          "base_uri": "https://localhost:8080/",
          "height": 1000
        }
      },
      "source": [
        "model=unet_2()\n",
        "model.fit(images_train, masks_train, batch_size=2, nb_epoch=30, verbose=1,validation_data=(images_cv,masks_cv), callbacks=[checkpoint])"
      ],
      "execution_count": 0,
      "outputs": [
        {
          "output_type": "stream",
          "text": [
            "Model: \"model_2\"\n",
            "__________________________________________________________________________________________________\n",
            "Layer (type)                    Output Shape         Param #     Connected to                     \n",
            "==================================================================================================\n",
            "input_2 (InputLayer)            (None, 512, 512, 1)  0                                            \n",
            "__________________________________________________________________________________________________\n",
            "conv2d_20 (Conv2D)              (None, 512, 512, 32) 320         input_2[0][0]                    \n",
            "__________________________________________________________________________________________________\n",
            "conv2d_21 (Conv2D)              (None, 512, 512, 32) 9248        conv2d_20[0][0]                  \n",
            "__________________________________________________________________________________________________\n",
            "concatenate_14 (Concatenate)    (None, 512, 512, 33) 0           input_2[0][0]                    \n",
            "                                                                 conv2d_21[0][0]                  \n",
            "__________________________________________________________________________________________________\n",
            "max_pooling2d_5 (MaxPooling2D)  (None, 256, 256, 33) 0           concatenate_14[0][0]             \n",
            "__________________________________________________________________________________________________\n",
            "conv2d_22 (Conv2D)              (None, 256, 256, 64) 19072       max_pooling2d_5[0][0]            \n",
            "__________________________________________________________________________________________________\n",
            "conv2d_23 (Conv2D)              (None, 256, 256, 64) 36928       conv2d_22[0][0]                  \n",
            "__________________________________________________________________________________________________\n",
            "concatenate_15 (Concatenate)    (None, 256, 256, 97) 0           max_pooling2d_5[0][0]            \n",
            "                                                                 conv2d_23[0][0]                  \n",
            "__________________________________________________________________________________________________\n",
            "max_pooling2d_6 (MaxPooling2D)  (None, 128, 128, 97) 0           concatenate_15[0][0]             \n",
            "__________________________________________________________________________________________________\n",
            "conv2d_24 (Conv2D)              (None, 128, 128, 128 111872      max_pooling2d_6[0][0]            \n",
            "__________________________________________________________________________________________________\n",
            "conv2d_25 (Conv2D)              (None, 128, 128, 128 147584      conv2d_24[0][0]                  \n",
            "__________________________________________________________________________________________________\n",
            "concatenate_16 (Concatenate)    (None, 128, 128, 225 0           max_pooling2d_6[0][0]            \n",
            "                                                                 conv2d_25[0][0]                  \n",
            "__________________________________________________________________________________________________\n",
            "max_pooling2d_7 (MaxPooling2D)  (None, 64, 64, 225)  0           concatenate_16[0][0]             \n",
            "__________________________________________________________________________________________________\n",
            "conv2d_26 (Conv2D)              (None, 64, 64, 256)  518656      max_pooling2d_7[0][0]            \n",
            "__________________________________________________________________________________________________\n",
            "conv2d_27 (Conv2D)              (None, 64, 64, 256)  590080      conv2d_26[0][0]                  \n",
            "__________________________________________________________________________________________________\n",
            "concatenate_17 (Concatenate)    (None, 64, 64, 481)  0           max_pooling2d_7[0][0]            \n",
            "                                                                 conv2d_27[0][0]                  \n",
            "__________________________________________________________________________________________________\n",
            "max_pooling2d_8 (MaxPooling2D)  (None, 32, 32, 481)  0           concatenate_17[0][0]             \n",
            "__________________________________________________________________________________________________\n",
            "conv2d_28 (Conv2D)              (None, 32, 32, 512)  2216960     max_pooling2d_8[0][0]            \n",
            "__________________________________________________________________________________________________\n",
            "conv2d_29 (Conv2D)              (None, 32, 32, 512)  2359808     conv2d_28[0][0]                  \n",
            "__________________________________________________________________________________________________\n",
            "concatenate_18 (Concatenate)    (None, 32, 32, 993)  0           max_pooling2d_8[0][0]            \n",
            "                                                                 conv2d_29[0][0]                  \n",
            "__________________________________________________________________________________________________\n",
            "conv2d_transpose_5 (Conv2DTrans (None, 64, 64, 256)  1017088     concatenate_18[0][0]             \n",
            "__________________________________________________________________________________________________\n",
            "concatenate_19 (Concatenate)    (None, 64, 64, 512)  0           conv2d_transpose_5[0][0]         \n",
            "                                                                 conv2d_27[0][0]                  \n",
            "__________________________________________________________________________________________________\n",
            "conv2d_30 (Conv2D)              (None, 64, 64, 256)  1179904     concatenate_19[0][0]             \n",
            "__________________________________________________________________________________________________\n",
            "conv2d_31 (Conv2D)              (None, 64, 64, 256)  590080      conv2d_30[0][0]                  \n",
            "__________________________________________________________________________________________________\n",
            "concatenate_20 (Concatenate)    (None, 64, 64, 768)  0           concatenate_19[0][0]             \n",
            "                                                                 conv2d_31[0][0]                  \n",
            "__________________________________________________________________________________________________\n",
            "conv2d_transpose_6 (Conv2DTrans (None, 128, 128, 128 393344      concatenate_20[0][0]             \n",
            "__________________________________________________________________________________________________\n",
            "concatenate_21 (Concatenate)    (None, 128, 128, 256 0           conv2d_transpose_6[0][0]         \n",
            "                                                                 conv2d_25[0][0]                  \n",
            "__________________________________________________________________________________________________\n",
            "conv2d_32 (Conv2D)              (None, 128, 128, 128 295040      concatenate_21[0][0]             \n",
            "__________________________________________________________________________________________________\n",
            "conv2d_33 (Conv2D)              (None, 128, 128, 128 147584      conv2d_32[0][0]                  \n",
            "__________________________________________________________________________________________________\n",
            "concatenate_22 (Concatenate)    (None, 128, 128, 384 0           concatenate_21[0][0]             \n",
            "                                                                 conv2d_33[0][0]                  \n",
            "__________________________________________________________________________________________________\n",
            "conv2d_transpose_7 (Conv2DTrans (None, 256, 256, 64) 98368       concatenate_22[0][0]             \n",
            "__________________________________________________________________________________________________\n",
            "concatenate_23 (Concatenate)    (None, 256, 256, 128 0           conv2d_transpose_7[0][0]         \n",
            "                                                                 conv2d_23[0][0]                  \n",
            "__________________________________________________________________________________________________\n",
            "conv2d_34 (Conv2D)              (None, 256, 256, 64) 73792       concatenate_23[0][0]             \n",
            "__________________________________________________________________________________________________\n",
            "conv2d_35 (Conv2D)              (None, 256, 256, 64) 36928       conv2d_34[0][0]                  \n",
            "__________________________________________________________________________________________________\n",
            "concatenate_24 (Concatenate)    (None, 256, 256, 192 0           concatenate_23[0][0]             \n",
            "                                                                 conv2d_35[0][0]                  \n",
            "__________________________________________________________________________________________________\n",
            "conv2d_transpose_8 (Conv2DTrans (None, 512, 512, 32) 24608       concatenate_24[0][0]             \n",
            "__________________________________________________________________________________________________\n",
            "concatenate_25 (Concatenate)    (None, 512, 512, 64) 0           conv2d_transpose_8[0][0]         \n",
            "                                                                 conv2d_21[0][0]                  \n",
            "__________________________________________________________________________________________________\n",
            "conv2d_36 (Conv2D)              (None, 512, 512, 32) 18464       concatenate_25[0][0]             \n",
            "__________________________________________________________________________________________________\n",
            "conv2d_37 (Conv2D)              (None, 512, 512, 32) 9248        conv2d_36[0][0]                  \n",
            "__________________________________________________________________________________________________\n",
            "concatenate_26 (Concatenate)    (None, 512, 512, 96) 0           concatenate_25[0][0]             \n",
            "                                                                 conv2d_37[0][0]                  \n",
            "__________________________________________________________________________________________________\n",
            "conv2d_38 (Conv2D)              (None, 512, 512, 1)  97          concatenate_26[0][0]             \n",
            "==================================================================================================\n",
            "Total params: 9,895,073\n",
            "Trainable params: 9,895,073\n",
            "Non-trainable params: 0\n",
            "__________________________________________________________________________________________________\n"
          ],
          "name": "stdout"
        },
        {
          "output_type": "stream",
          "text": [
            "/usr/local/lib/python3.6/dist-packages/ipykernel_launcher.py:2: UserWarning: The `nb_epoch` argument in `fit` has been renamed `epochs`.\n",
            "  \n"
          ],
          "name": "stderr"
        },
        {
          "output_type": "stream",
          "text": [
            "Train on 2451 samples, validate on 307 samples\n",
            "Epoch 1/30\n",
            "2451/2451 [==============================] - 572s 233ms/step - loss: 0.1240 - dice_coef: 0.0416 - val_loss: 0.0659 - val_dice_coef: 0.0461\n",
            "Epoch 2/30\n",
            "2451/2451 [==============================] - 570s 233ms/step - loss: 0.0680 - dice_coef: 0.0635 - val_loss: 0.0610 - val_dice_coef: 0.0686\n",
            "Epoch 3/30\n",
            "2451/2451 [==============================] - 570s 232ms/step - loss: 0.0637 - dice_coef: 0.0859 - val_loss: 0.0568 - val_dice_coef: 0.1076\n",
            "Epoch 4/30\n",
            "2451/2451 [==============================] - 570s 233ms/step - loss: 0.0588 - dice_coef: 0.1314 - val_loss: 0.0522 - val_dice_coef: 0.1478\n",
            "Epoch 5/30\n",
            "2451/2451 [==============================] - 569s 232ms/step - loss: 0.0545 - dice_coef: 0.1878 - val_loss: 0.0500 - val_dice_coef: 0.2095\n",
            "Epoch 6/30\n",
            "2451/2451 [==============================] - 568s 232ms/step - loss: 0.0518 - dice_coef: 0.2297 - val_loss: 0.0473 - val_dice_coef: 0.2545\n",
            "Epoch 7/30\n",
            "2451/2451 [==============================] - 570s 232ms/step - loss: 0.0494 - dice_coef: 0.2617 - val_loss: 0.0467 - val_dice_coef: 0.2553\n",
            "Epoch 8/30\n",
            "2451/2451 [==============================] - 569s 232ms/step - loss: 0.0475 - dice_coef: 0.2868 - val_loss: 0.0447 - val_dice_coef: 0.2830\n",
            "Epoch 9/30\n",
            "2451/2451 [==============================] - 569s 232ms/step - loss: 0.0458 - dice_coef: 0.3048 - val_loss: 0.0437 - val_dice_coef: 0.2794\n",
            "Epoch 10/30\n",
            "2451/2451 [==============================] - 570s 232ms/step - loss: 0.0439 - dice_coef: 0.3300 - val_loss: 0.0421 - val_dice_coef: 0.3355\n",
            "Epoch 11/30\n",
            "2451/2451 [==============================] - 570s 232ms/step - loss: 0.0420 - dice_coef: 0.3527 - val_loss: 0.0417 - val_dice_coef: 0.3283\n",
            "Epoch 12/30\n",
            "2451/2451 [==============================] - 570s 233ms/step - loss: 0.0402 - dice_coef: 0.3746 - val_loss: 0.0411 - val_dice_coef: 0.3554\n",
            "Epoch 13/30\n",
            "2451/2451 [==============================] - 570s 233ms/step - loss: 0.0383 - dice_coef: 0.4001 - val_loss: 0.0381 - val_dice_coef: 0.3883\n",
            "Epoch 14/30\n",
            "2451/2451 [==============================] - 570s 233ms/step - loss: 0.0365 - dice_coef: 0.4261 - val_loss: 0.0364 - val_dice_coef: 0.4015\n",
            "Epoch 15/30\n",
            "2451/2451 [==============================] - 569s 232ms/step - loss: 0.0348 - dice_coef: 0.4485 - val_loss: 0.0383 - val_dice_coef: 0.4211\n",
            "Epoch 16/30\n",
            "2451/2451 [==============================] - 570s 232ms/step - loss: 0.0335 - dice_coef: 0.4672 - val_loss: 0.0367 - val_dice_coef: 0.4252\n",
            "Epoch 17/30\n",
            "2451/2451 [==============================] - 569s 232ms/step - loss: 0.0323 - dice_coef: 0.4790 - val_loss: 0.0347 - val_dice_coef: 0.4075\n",
            "Epoch 18/30\n",
            "2451/2451 [==============================] - 570s 232ms/step - loss: 0.0308 - dice_coef: 0.5013 - val_loss: 0.0337 - val_dice_coef: 0.4424\n",
            "Epoch 19/30\n",
            "2451/2451 [==============================] - 569s 232ms/step - loss: 0.0295 - dice_coef: 0.5188 - val_loss: 0.0364 - val_dice_coef: 0.4234\n",
            "Epoch 20/30\n",
            "2451/2451 [==============================] - 569s 232ms/step - loss: 0.0281 - dice_coef: 0.5328 - val_loss: 0.0347 - val_dice_coef: 0.4188\n",
            "Epoch 21/30\n",
            "2451/2451 [==============================] - 569s 232ms/step - loss: 0.0269 - dice_coef: 0.5486 - val_loss: 0.0321 - val_dice_coef: 0.4717\n",
            "Epoch 22/30\n",
            "2451/2451 [==============================] - 569s 232ms/step - loss: 0.0255 - dice_coef: 0.5747 - val_loss: 0.0329 - val_dice_coef: 0.4752\n",
            "Epoch 23/30\n",
            "2451/2451 [==============================] - 569s 232ms/step - loss: 0.0244 - dice_coef: 0.5859 - val_loss: 0.0317 - val_dice_coef: 0.5065\n",
            "Epoch 24/30\n",
            "2451/2451 [==============================] - 569s 232ms/step - loss: 0.0228 - dice_coef: 0.6105 - val_loss: 0.0322 - val_dice_coef: 0.5048\n",
            "Epoch 25/30\n",
            "2451/2451 [==============================] - 569s 232ms/step - loss: 0.0215 - dice_coef: 0.6282 - val_loss: 0.0332 - val_dice_coef: 0.4878\n",
            "Epoch 26/30\n",
            "2451/2451 [==============================] - 569s 232ms/step - loss: 0.0205 - dice_coef: 0.6451 - val_loss: 0.0329 - val_dice_coef: 0.5141\n",
            "Epoch 27/30\n",
            "2451/2451 [==============================] - 569s 232ms/step - loss: 0.0187 - dice_coef: 0.6692 - val_loss: 0.0327 - val_dice_coef: 0.5270\n",
            "Epoch 28/30\n",
            "2451/2451 [==============================] - 569s 232ms/step - loss: 0.0179 - dice_coef: 0.6808 - val_loss: 0.0332 - val_dice_coef: 0.5476\n",
            "Epoch 29/30\n",
            "2451/2451 [==============================] - 569s 232ms/step - loss: 0.0165 - dice_coef: 0.7046 - val_loss: 0.0346 - val_dice_coef: 0.5553\n",
            "Epoch 30/30\n",
            "2451/2451 [==============================] - 569s 232ms/step - loss: 0.0150 - dice_coef: 0.7283 - val_loss: 0.0362 - val_dice_coef: 0.5359\n"
          ],
          "name": "stdout"
        },
        {
          "output_type": "execute_result",
          "data": {
            "text/plain": [
              "<keras.callbacks.callbacks.History at 0x7fe11568d978>"
            ]
          },
          "metadata": {
            "tags": []
          },
          "execution_count": 16
        }
      ]
    },
    {
      "cell_type": "code",
      "metadata": {
        "id": "IzYL1OjruOFy",
        "colab_type": "code",
        "colab": {}
      },
      "source": [
        "dependencies = {\n",
        "     'dice_coef': dice_coef\n",
        "}\n",
        "model = tf.keras.models.load_model('/content/gdrive/My Drive/2d/checkpoints/cnn-parameters-improvement-30-0.73.model', custom_objects=dependencies)"
      ],
      "execution_count": 0,
      "outputs": []
    },
    {
      "cell_type": "markdown",
      "metadata": {
        "id": "j3muRf-FzVIR",
        "colab_type": "text"
      },
      "source": [
        "Training a bit more!"
      ]
    },
    {
      "cell_type": "code",
      "metadata": {
        "id": "HXwdX-2OKage",
        "colab_type": "code",
        "outputId": "443fed1e-4e15-49b3-c175-0e5dd3436f08",
        "colab": {
          "base_uri": "https://localhost:8080/",
          "height": 706
        }
      },
      "source": [
        "model.fit(images_train, masks_train, batch_size=2, epochs=20, verbose=1,validation_data=(images_cv,masks_cv))"
      ],
      "execution_count": 0,
      "outputs": [
        {
          "output_type": "stream",
          "text": [
            "Epoch 1/20\n",
            "1226/1226 [==============================] - 130s 106ms/step - loss: 0.0147 - dice_coef: 0.7344 - val_loss: 0.0365 - val_dice_coef: 0.5351\n",
            "Epoch 2/20\n",
            "1226/1226 [==============================] - 128s 105ms/step - loss: 0.0134 - dice_coef: 0.7527 - val_loss: 0.0369 - val_dice_coef: 0.5315\n",
            "Epoch 3/20\n",
            "1226/1226 [==============================] - 128s 104ms/step - loss: 0.0121 - dice_coef: 0.7703 - val_loss: 0.0383 - val_dice_coef: 0.5410\n",
            "Epoch 4/20\n",
            "1226/1226 [==============================] - 128s 105ms/step - loss: 0.0119 - dice_coef: 0.7752 - val_loss: 0.0340 - val_dice_coef: 0.5685\n",
            "Epoch 5/20\n",
            "1226/1226 [==============================] - 127s 104ms/step - loss: 0.0114 - dice_coef: 0.7873 - val_loss: 0.0340 - val_dice_coef: 0.5447\n",
            "Epoch 6/20\n",
            "1226/1226 [==============================] - 127s 104ms/step - loss: 0.0106 - dice_coef: 0.7974 - val_loss: 0.0381 - val_dice_coef: 0.5745\n",
            "Epoch 7/20\n",
            "1226/1226 [==============================] - 128s 104ms/step - loss: 0.0101 - dice_coef: 0.8075 - val_loss: 0.0395 - val_dice_coef: 0.5725\n",
            "Epoch 8/20\n",
            "1226/1226 [==============================] - 127s 104ms/step - loss: 0.0103 - dice_coef: 0.8022 - val_loss: 0.0384 - val_dice_coef: 0.5728\n",
            "Epoch 9/20\n",
            "1226/1226 [==============================] - 127s 104ms/step - loss: 0.0093 - dice_coef: 0.8218 - val_loss: 0.0364 - val_dice_coef: 0.5229\n",
            "Epoch 10/20\n",
            "1226/1226 [==============================] - 127s 104ms/step - loss: 0.0090 - dice_coef: 0.8231 - val_loss: 0.0426 - val_dice_coef: 0.5489\n",
            "Epoch 11/20\n",
            "1226/1226 [==============================] - 127s 104ms/step - loss: 0.0085 - dice_coef: 0.8336 - val_loss: 0.0407 - val_dice_coef: 0.5847\n",
            "Epoch 12/20\n",
            "1226/1226 [==============================] - 127s 104ms/step - loss: 0.0086 - dice_coef: 0.8329 - val_loss: 0.0456 - val_dice_coef: 0.5728\n",
            "Epoch 13/20\n",
            "1226/1226 [==============================] - 127s 104ms/step - loss: 0.0083 - dice_coef: 0.8366 - val_loss: 0.0474 - val_dice_coef: 0.5672\n",
            "Epoch 14/20\n",
            "1226/1226 [==============================] - 127s 104ms/step - loss: 0.0085 - dice_coef: 0.8328 - val_loss: 0.0465 - val_dice_coef: 0.5607\n",
            "Epoch 15/20\n",
            "1226/1226 [==============================] - 127s 104ms/step - loss: 0.0073 - dice_coef: 0.8531 - val_loss: 0.0540 - val_dice_coef: 0.5458\n",
            "Epoch 16/20\n",
            "1226/1226 [==============================] - 127s 104ms/step - loss: 0.0075 - dice_coef: 0.8511 - val_loss: 0.0486 - val_dice_coef: 0.5596\n",
            "Epoch 17/20\n",
            "1226/1226 [==============================] - 127s 104ms/step - loss: 0.0072 - dice_coef: 0.8553 - val_loss: 0.0461 - val_dice_coef: 0.5957\n",
            "Epoch 18/20\n",
            "1226/1226 [==============================] - 127s 104ms/step - loss: 0.0074 - dice_coef: 0.8557 - val_loss: 0.0375 - val_dice_coef: 0.5628\n",
            "Epoch 19/20\n",
            "1226/1226 [==============================] - 127s 104ms/step - loss: 0.0067 - dice_coef: 0.8657 - val_loss: 0.0497 - val_dice_coef: 0.5919\n",
            "Epoch 20/20\n",
            "1226/1226 [==============================] - 127s 104ms/step - loss: 0.0068 - dice_coef: 0.8641 - val_loss: 0.0515 - val_dice_coef: 0.5844\n"
          ],
          "name": "stdout"
        },
        {
          "output_type": "execute_result",
          "data": {
            "text/plain": [
              "<tensorflow.python.keras.callbacks.History at 0x7f596e222dd8>"
            ]
          },
          "metadata": {
            "tags": []
          },
          "execution_count": 18
        }
      ]
    },
    {
      "cell_type": "code",
      "metadata": {
        "id": "zT_X723PLFEb",
        "colab_type": "code",
        "colab": {}
      },
      "source": [
        "model.save('Res-net.h5')"
      ],
      "execution_count": 0,
      "outputs": []
    },
    {
      "cell_type": "markdown",
      "metadata": {
        "id": "BaadA6C4zXia",
        "colab_type": "text"
      },
      "source": [
        "Evaluation on Test set\n"
      ]
    },
    {
      "cell_type": "code",
      "metadata": {
        "id": "bqjRNZX4J9jL",
        "colab_type": "code",
        "outputId": "731fc82a-0d3e-4b74-e2ef-aaa06714f31f",
        "colab": {
          "base_uri": "https://localhost:8080/",
          "height": 50
        }
      },
      "source": [
        "results=model.evaluate(images_test,masks_test,batch_size=2)\n",
        "print(results)"
      ],
      "execution_count": 0,
      "outputs": [
        {
          "output_type": "stream",
          "text": [
            "153/153 [==============================] - 5s 35ms/step - loss: 0.0537 - dice_coef: 0.6102\n",
            "[0.053693559020757675, 0.6101779341697693]\n"
          ],
          "name": "stdout"
        }
      ]
    },
    {
      "cell_type": "markdown",
      "metadata": {
        "id": "6iw-vXw1zdFr",
        "colab_type": "text"
      },
      "source": [
        "Prediction \n"
      ]
    },
    {
      "cell_type": "code",
      "metadata": {
        "id": "OLX-vxhoVE3W",
        "colab_type": "code",
        "outputId": "bcd259a8-9e5a-4d7d-addc-845dfff6cb98",
        "colab": {
          "base_uri": "https://localhost:8080/",
          "height": 180
        }
      },
      "source": [
        "predictions = model.predict(images_train[0:1,:])\n",
        "plt.subplot(221)\n",
        "plt.title('Prediction')\n",
        "plt.imshow(predictions[0,:,:,0])\n",
        "plt.subplot(222)\n",
        "plt.title('Ground Truth')\n",
        "plt.imshow(masks_train[0,:,:,0])"
      ],
      "execution_count": 0,
      "outputs": [
        {
          "output_type": "execute_result",
          "data": {
            "text/plain": [
              "<matplotlib.image.AxesImage at 0x7f59483ff438>"
            ]
          },
          "metadata": {
            "tags": []
          },
          "execution_count": 24
        },
        {
          "output_type": "display_data",
          "data": {
            "image/png": "[encoded data removed]",
            "text/plain": [
              "<Figure size 432x288 with 2 Axes>"
            ]
          },
          "metadata": {
            "tags": [],
            "needs_background": "light"
          }
        }
      ]
    }
  ]
}
