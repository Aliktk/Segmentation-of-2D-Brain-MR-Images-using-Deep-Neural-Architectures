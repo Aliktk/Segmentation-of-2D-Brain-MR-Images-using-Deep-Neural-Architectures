{
  "nbformat": 4,
  "nbformat_minor": 0,
  "metadata": {
    "colab": {
      "name": "U-net_Model.ipynb",
      "provenance": [],
      "collapsed_sections": [],
      "include_colab_link": true
    },
    "kernelspec": {
      "name": "python3",
      "display_name": "Python 3"
    },
    "accelerator": "GPU"
  },
  "cells": [
    {
      "cell_type": "markdown",
      "metadata": {
        "id": "view-in-github",
        "colab_type": "text"
      },
      "source": [
        "<a href=\"https://colab.research.google.com/github/angadbajwa23/Brain-Image-Segmentation/blob/master/U_Net.ipynb\" target=\"_parent\"><img src=\"https://colab.research.google.com/assets/colab-badge.svg\" alt=\"Open In Colab\"/></a>"
      ]
    },
    {
      "cell_type": "code",
      "metadata": {
        "id": "oP9WWeu_4Tkh",
        "colab_type": "code",
        "outputId": "9f8782f5-4e39-4f10-ad86-770866f48aa9",
        "colab": {
          "base_uri": "https://localhost:8080/",
          "height": 121
        }
      },
      "source": [
        "from google.colab import drive\n",
        "drive.mount('/content/gdrive',force_remount=True)"
      ],
      "execution_count": 0,
      "outputs": [
        {
          "output_type": "stream",
          "text": [
            "Go to this URL in a browser: https://accounts.google.com/o/oauth2/auth?client_id=947318989803-6bn6qk8qdgf4n4g3pfee6491hc0brc4i.apps.googleusercontent.com&redirect_uri=urn%3aietf%3awg%3aoauth%3a2.0%3aoob&response_type=code&scope=email%20https%3a%2f%2fwww.googleapis.com%2fauth%2fdocs.test%20https%3a%2f%2fwww.googleapis.com%2fauth%2fdrive%20https%3a%2f%2fwww.googleapis.com%2fauth%2fdrive.photos.readonly%20https%3a%2f%2fwww.googleapis.com%2fauth%2fpeopleapi.readonly\n",
            "\n",
            "Enter your authorization code:\n",
            "··········\n",
            "Mounted at /content/gdrive\n"
          ],
          "name": "stdout"
        }
      ]
    },
    {
      "cell_type": "code",
      "metadata": {
        "id": "yGooKIxj4XRi",
        "colab_type": "code",
        "outputId": "6067d810-9db7-410b-f334-601cdf2ea5c3",
        "colab": {
          "base_uri": "https://localhost:8080/",
          "height": 34
        }
      },
      "source": [
        "%cd gdrive/My Drive/2d"
      ],
      "execution_count": 0,
      "outputs": [
        {
          "output_type": "stream",
          "text": [
            "/content/gdrive/My Drive/2d\n"
          ],
          "name": "stdout"
        }
      ]
    },
    {
      "cell_type": "code",
      "metadata": {
        "id": "-ggjo0TY4s3Y",
        "colab_type": "code",
        "outputId": "491cc735-acb4-4bf7-8966-d3b993642f3d",
        "colab": {
          "base_uri": "https://localhost:8080/",
          "height": 34
        }
      },
      "source": [
        "import tensorflow as tf\n",
        "import numpy as np\n",
        "import matplotlib.pyplot as plt\n",
        "import skimage.io as io\n",
        "import skimage.color as color\n",
        "import random as r\n",
        "import math\n",
        "from keras.models import Model\n",
        "from keras.layers import Dense, Dropout, Activation, Flatten\n",
        "from keras.layers import concatenate, Conv2D, MaxPooling2D, Conv2DTranspose\n",
        "from keras.layers import Input, merge, UpSampling2D,BatchNormalization\n",
        "from tensorflow.keras.callbacks import  ModelCheckpoint\n",
        "from keras.optimizers import Adam\n",
        "from keras.preprocessing.image import ImageDataGenerator\n",
        "from keras import backend as K"
      ],
      "execution_count": 0,
      "outputs": [
        {
          "output_type": "stream",
          "text": [
            "Using TensorFlow backend.\n"
          ],
          "name": "stderr"
        }
      ]
    },
    {
      "cell_type": "code",
      "metadata": {
        "id": "ST5BNgb9GN9h",
        "colab_type": "code",
        "outputId": "72c45d63-f772-4e65-c845-bbb4ea88b52a",
        "colab": {
          "base_uri": "https://localhost:8080/",
          "height": 151
        }
      },
      "source": [
        "!pip install hdf5storage"
      ],
      "execution_count": 0,
      "outputs": [
        {
          "output_type": "stream",
          "text": [
            "Collecting hdf5storage\n",
            "\u001b[?25l  Downloading https://files.pythonhosted.org/packages/79/e0/5dd25068a231cd817265529368aca2f918049b290dcb2fd9b24ce136adf4/hdf5storage-0.1.15-py2.py3-none-any.whl (56kB)\n",
            "\r\u001b[K     |█████▊                          | 10kB 18.6MB/s eta 0:00:01\r\u001b[K     |███████████▌                    | 20kB 2.1MB/s eta 0:00:01\r\u001b[K     |█████████████████▎              | 30kB 2.8MB/s eta 0:00:01\r\u001b[K     |███████████████████████         | 40kB 3.0MB/s eta 0:00:01\r\u001b[K     |████████████████████████████▉   | 51kB 2.5MB/s eta 0:00:01\r\u001b[K     |████████████████████████████████| 61kB 2.1MB/s \n",
            "\u001b[?25hRequirement already satisfied: numpy; python_version >= \"3.4\" in /usr/local/lib/python3.6/dist-packages (from hdf5storage) (1.18.4)\n",
            "Requirement already satisfied: h5py>=2.1; python_version >= \"3.3\" in /usr/local/lib/python3.6/dist-packages (from hdf5storage) (2.10.0)\n",
            "Requirement already satisfied: six in /usr/local/lib/python3.6/dist-packages (from h5py>=2.1; python_version >= \"3.3\"->hdf5storage) (1.12.0)\n",
            "Installing collected packages: hdf5storage\n",
            "Successfully installed hdf5storage-0.1.15\n"
          ],
          "name": "stdout"
        }
      ]
    },
    {
      "cell_type": "markdown",
      "metadata": {
        "id": "LgHo6dvpxdSB",
        "colab_type": "text"
      },
      "source": [
        "Importing Libraries\n"
      ]
    },
    {
      "cell_type": "code",
      "metadata": {
        "id": "eAokxZAdGPM5",
        "colab_type": "code",
        "colab": {}
      },
      "source": [
        "import os\n",
        "import argparse\n",
        "import sys\n",
        "import numpy as np\n",
        "import hdf5storage\n",
        "import cv2\n",
        "import matplotlib.pyplot as plt\n",
        "import tensorflow as tf\n",
        "\n",
        "import skimage.io as io\n",
        "import skimage.transform as trans\n",
        "from keras.models import *\n",
        "from keras.layers import *\n",
        "from keras.optimizers import *\n",
        "from keras.callbacks import ModelCheckpoint, LearningRateScheduler\n",
        "from keras import backend as keras\n"
      ],
      "execution_count": 0,
      "outputs": []
    },
    {
      "cell_type": "code",
      "metadata": {
        "id": "Q3gZqj05GRhO",
        "colab_type": "code",
        "colab": {}
      },
      "source": [
        "labels = np.load('labels.npy')\n",
        "images = np.load('images.npy')\n",
        "masks = np.load('masks.npy')"
      ],
      "execution_count": 0,
      "outputs": []
    },
    {
      "cell_type": "code",
      "metadata": {
        "id": "EZ6Y6fgQGYWR",
        "colab_type": "code",
        "colab": {}
      },
      "source": [
        "images = images[..., np.newaxis]"
      ],
      "execution_count": 0,
      "outputs": []
    },
    {
      "cell_type": "code",
      "metadata": {
        "id": "5TRyOB6kGbUA",
        "colab_type": "code",
        "colab": {}
      },
      "source": [
        "masks = masks[..., np.newaxis]"
      ],
      "execution_count": 0,
      "outputs": []
    },
    {
      "cell_type": "markdown",
      "metadata": {
        "id": "oq5FmP4AweNP",
        "colab_type": "text"
      },
      "source": [
        "Normalizing the Images\n"
      ]
    },
    {
      "cell_type": "code",
      "metadata": {
        "id": "YzH7Ubi5GchL",
        "colab_type": "code",
        "colab": {}
      },
      "source": [
        "for i in range(images.shape[0]):\n",
        "  images[i,:, :] = (images[i,:, :] - np.mean(images[i,:, :]))/ np.std(images[i,:, :])"
      ],
      "execution_count": 0,
      "outputs": []
    },
    {
      "cell_type": "markdown",
      "metadata": {
        "id": "DBBxBpCqwVgg",
        "colab_type": "text"
      },
      "source": [
        "Evaluation Metrics"
      ]
    },
    {
      "cell_type": "code",
      "metadata": {
        "id": "Bnak4QYfGUUr",
        "colab_type": "code",
        "colab": {}
      },
      "source": [
        "from keras.losses import binary_crossentropy\n",
        "smooth = 1\n",
        "def dice_coef(y_true, y_pred):\n",
        "    y_true_f = K.flatten(y_true)\n",
        "    y_pred_f = K.flatten(y_pred)\n",
        "    intersection = K.sum(y_true_f * y_pred_f)\n",
        "    return (2. * intersection + smooth) / (K.sum(y_true_f) + K.sum(y_pred_f) + smooth)\n",
        "\n",
        "\n",
        "def dice_coef_loss(y_true, y_pred):\n",
        "    return 1.-dice_coef(y_true, y_pred)\n",
        "\n",
        "def bce_dice_loss(y_true, y_pred):\n",
        "    return binary_crossentropy(y_true, y_pred) + dice_coef_loss(y_true, y_pred)"
      ],
      "execution_count": 0,
      "outputs": []
    },
    {
      "cell_type": "markdown",
      "metadata": {
        "id": "yqqq5osgwhvY",
        "colab_type": "text"
      },
      "source": [
        "Splitting the dataset into Training, Validation and Test Set"
      ]
    },
    {
      "cell_type": "code",
      "metadata": {
        "id": "sWmHu-oAG7OY",
        "colab_type": "code",
        "colab": {}
      },
      "source": [
        "from sklearn.model_selection import train_test_split\n",
        "\n",
        "images_train, images_test, masks_train, masks_test = train_test_split(images,masks,test_size=0.2,train_size=0.8,random_state=1)\n",
        "images_test, images_cv, masks_test, masks_cv = train_test_split(images_test,masks_test,test_size = 0.5,train_size =0.5,random_state=1)"
      ],
      "execution_count": 0,
      "outputs": []
    },
    {
      "cell_type": "code",
      "metadata": {
        "id": "b97E5Ck5G8lh",
        "colab_type": "code",
        "outputId": "42160ed9-0727-4731-f46f-6e7ee8fef8b7",
        "colab": {
          "base_uri": "https://localhost:8080/",
          "height": 168
        }
      },
      "source": [
        "print (\"number of training examples = \" + str(images_train.shape[0]))\n",
        "print (\"number of development examples = \" + str(images_cv.shape[0]))\n",
        "print (\"number of test examples = \" + str(images_test.shape[0]))\n",
        "print (\"Images_train shape: \" + str(images_train.shape))\n",
        "print (\"Masks_train shape: \" + str(masks_train.shape))\n",
        "print (\"Images_val (dev) shape: \" + str(images_cv.shape))\n",
        "print (\"Masks_val (dev) shape: \" + str(masks_cv.shape))\n",
        "print (\"Images_test shape: \" + str(images_test.shape))\n",
        "print (\"Masks_test shape: \" + str(masks_test.shape))"
      ],
      "execution_count": 0,
      "outputs": [
        {
          "output_type": "stream",
          "text": [
            "number of training examples = 2451\n",
            "number of development examples = 307\n",
            "number of test examples = 306\n",
            "Images_train shape: (2451, 512, 512, 1)\n",
            "Masks_train shape: (2451, 512, 512, 1)\n",
            "Images_val (dev) shape: (307, 512, 512, 1)\n",
            "Masks_val (dev) shape: (307, 512, 512, 1)\n",
            "Images_test shape: (306, 512, 512, 1)\n",
            "Masks_test shape: (306, 512, 512, 1)\n"
          ],
          "name": "stdout"
        }
      ]
    },
    {
      "cell_type": "markdown",
      "metadata": {
        "id": "vujAVT31wufQ",
        "colab_type": "text"
      },
      "source": [
        "Model\n"
      ]
    },
    {
      "cell_type": "code",
      "metadata": {
        "id": "GyRiFSkaGVtq",
        "colab_type": "code",
        "colab": {}
      },
      "source": [
        "def unet(input_size = (512,512,1)):\n",
        "    inputs = Input(input_size)\n",
        "    conv1 = Conv2D(64, 3, activation = 'relu', padding = 'same', kernel_initializer = 'he_normal')(inputs)\n",
        "    conv1 = Conv2D(64, 3, activation = 'relu', padding = 'same', kernel_initializer = 'he_normal')(conv1)\n",
        "    pool1 = MaxPooling2D(pool_size=(2, 2))(conv1)\n",
        "    conv2 = Conv2D(128, 3, activation = 'relu', padding = 'same', kernel_initializer = 'he_normal')(pool1)\n",
        "    conv2 = Conv2D(128, 3, activation = 'relu', padding = 'same', kernel_initializer = 'he_normal')(conv2)\n",
        "    pool2 = MaxPooling2D(pool_size=(2, 2))(conv2)\n",
        "    conv3 = Conv2D(256, 3, activation = 'relu', padding = 'same', kernel_initializer = 'he_normal')(pool2)\n",
        "    conv3 = Conv2D(256, 3, activation = 'relu', padding = 'same', kernel_initializer = 'he_normal')(conv3)\n",
        "    pool3 = MaxPooling2D(pool_size=(2, 2))(conv3)\n",
        "    conv4 = Conv2D(512, 3, activation = 'relu', padding = 'same', kernel_initializer = 'he_normal')(pool3)\n",
        "    conv4 = Conv2D(512, 3, activation = 'relu', padding = 'same', kernel_initializer = 'he_normal')(conv4)\n",
        "    drop4 = Dropout(0.5)(conv4)\n",
        "    pool4 = MaxPooling2D(pool_size=(2, 2))(drop4)\n",
        "\n",
        "    conv5 = Conv2D(1024, 3, activation = 'relu', padding = 'same', kernel_initializer = 'he_normal')(pool4)\n",
        "    conv5 = Conv2D(1024, 3, activation = 'relu', padding = 'same', kernel_initializer = 'he_normal')(conv5)\n",
        "    drop5 = Dropout(0.5)(conv5)\n",
        "\n",
        "    up6 = Conv2D(512, 2, activation = 'relu', padding = 'same', kernel_initializer = 'he_normal')(UpSampling2D(size = (2,2))(drop5))\n",
        "    merge6 = concatenate([drop4,up6], axis = 3)\n",
        "    conv6 = Conv2D(512, 3, activation = 'relu', padding = 'same', kernel_initializer = 'he_normal')(merge6)\n",
        "    conv6 = Conv2D(512, 3, activation = 'relu', padding = 'same', kernel_initializer = 'he_normal')(conv6)\n",
        "\n",
        "    up7 = Conv2D(256, 2, activation = 'relu', padding = 'same', kernel_initializer = 'he_normal')(UpSampling2D(size = (2,2))(conv6))\n",
        "    merge7 = concatenate([conv3,up7], axis = 3)\n",
        "    conv7 = Conv2D(256, 3, activation = 'relu', padding = 'same', kernel_initializer = 'he_normal')(merge7)\n",
        "    conv7 = Conv2D(256, 3, activation = 'relu', padding = 'same', kernel_initializer = 'he_normal')(conv7)\n",
        "\n",
        "    up8 = Conv2D(128, 2, activation = 'relu', padding = 'same', kernel_initializer = 'he_normal')(UpSampling2D(size = (2,2))(conv7))\n",
        "    merge8 = concatenate([conv2,up8], axis = 3)\n",
        "    conv8 = Conv2D(128, 3, activation = 'relu', padding = 'same', kernel_initializer = 'he_normal')(merge8)\n",
        "    conv8 = Conv2D(128, 3, activation = 'relu', padding = 'same', kernel_initializer = 'he_normal')(conv8)\n",
        "\n",
        "    up9 = Conv2D(64, 2, activation = 'relu', padding = 'same', kernel_initializer = 'he_normal')(UpSampling2D(size = (2,2))(conv8))\n",
        "    merge9 = concatenate([conv1,up9], axis = 3)\n",
        "    conv9 = Conv2D(64, 3, activation = 'relu', padding = 'same', kernel_initializer = 'he_normal')(merge9)\n",
        "    conv9 = Conv2D(64, 3, activation = 'relu', padding = 'same', kernel_initializer = 'he_normal')(conv9)\n",
        "    conv9 = Conv2D(2, 3, activation = 'relu', padding = 'same', kernel_initializer = 'he_normal')(conv9)\n",
        "    conv10 = Conv2D(1, 1, activation = 'sigmoid')(conv9)\n",
        "\n",
        "    model = Model(input = inputs, output = conv10)\n",
        "\n",
        "    model.compile(optimizer = Adam(lr = 1e-4), loss='binary_crossentropy', metrics=[dice_coef])\n",
        "\n",
        "    model.summary()\n",
        "    return model"
      ],
      "execution_count": 0,
      "outputs": []
    },
    {
      "cell_type": "markdown",
      "metadata": {
        "id": "MBkGDh-tw5LB",
        "colab_type": "text"
      },
      "source": [
        "To save chekpoints"
      ]
    },
    {
      "cell_type": "code",
      "metadata": {
        "id": "88EIR6h4QDBW",
        "colab_type": "code",
        "colab": {}
      },
      "source": [
        "filepath=\"cnn-parameters-improvement-{epoch:02d}-{dice_coef:.2f}\"\n",
        "# save the model with the best validation (development) accuracy till now\n",
        "checkpoint = ModelCheckpoint(\"models/{}.model\".format(filepath, monitor=[dice_coef], verbose=1, save_best_only=True, mode='max'))"
      ],
      "execution_count": 0,
      "outputs": []
    },
    {
      "cell_type": "markdown",
      "metadata": {
        "id": "3eM7nTgWw9mh",
        "colab_type": "text"
      },
      "source": [
        "Training the model\n"
      ]
    },
    {
      "cell_type": "code",
      "metadata": {
        "id": "ynsu3nkyGqI4",
        "colab_type": "code",
        "outputId": "625c1645-de5d-4401-bdb4-e4f1f4081979",
        "colab": {
          "base_uri": "https://localhost:8080/",
          "height": 1000
        }
      },
      "source": [
        "model=unet()\n",
        "model.fit(images_train, masks_train, batch_size=2, nb_epoch=30, verbose=1,validation_data=(images_cv,masks_cv), callbacks=[checkpoint])"
      ],
      "execution_count": 0,
      "outputs": [
        {
          "output_type": "stream",
          "text": [
            "/usr/local/lib/python3.6/dist-packages/ipykernel_launcher.py:44: UserWarning: Update your `Model` call to the Keras 2 API: `Model(inputs=Tensor(\"in..., outputs=Tensor(\"co...)`\n",
            "/usr/local/lib/python3.6/dist-packages/ipykernel_launcher.py:2: UserWarning: The `nb_epoch` argument in `fit` has been renamed `epochs`.\n",
            "  \n"
          ],
          "name": "stderr"
        },
        {
          "output_type": "stream",
          "text": [
            "Model: \"model_7\"\n",
            "__________________________________________________________________________________________________\n",
            "Layer (type)                    Output Shape         Param #     Connected to                     \n",
            "==================================================================================================\n",
            "input_7 (InputLayer)            (None, 512, 512, 1)  0                                            \n",
            "__________________________________________________________________________________________________\n",
            "conv2d_145 (Conv2D)             (None, 512, 512, 64) 640         input_7[0][0]                    \n",
            "__________________________________________________________________________________________________\n",
            "conv2d_146 (Conv2D)             (None, 512, 512, 64) 36928       conv2d_145[0][0]                 \n",
            "__________________________________________________________________________________________________\n",
            "max_pooling2d_25 (MaxPooling2D) (None, 256, 256, 64) 0           conv2d_146[0][0]                 \n",
            "__________________________________________________________________________________________________\n",
            "conv2d_147 (Conv2D)             (None, 256, 256, 128 73856       max_pooling2d_25[0][0]           \n",
            "__________________________________________________________________________________________________\n",
            "conv2d_148 (Conv2D)             (None, 256, 256, 128 147584      conv2d_147[0][0]                 \n",
            "__________________________________________________________________________________________________\n",
            "max_pooling2d_26 (MaxPooling2D) (None, 128, 128, 128 0           conv2d_148[0][0]                 \n",
            "__________________________________________________________________________________________________\n",
            "conv2d_149 (Conv2D)             (None, 128, 128, 256 295168      max_pooling2d_26[0][0]           \n",
            "__________________________________________________________________________________________________\n",
            "conv2d_150 (Conv2D)             (None, 128, 128, 256 590080      conv2d_149[0][0]                 \n",
            "__________________________________________________________________________________________________\n",
            "max_pooling2d_27 (MaxPooling2D) (None, 64, 64, 256)  0           conv2d_150[0][0]                 \n",
            "__________________________________________________________________________________________________\n",
            "conv2d_151 (Conv2D)             (None, 64, 64, 512)  1180160     max_pooling2d_27[0][0]           \n",
            "__________________________________________________________________________________________________\n",
            "conv2d_152 (Conv2D)             (None, 64, 64, 512)  2359808     conv2d_151[0][0]                 \n",
            "__________________________________________________________________________________________________\n",
            "dropout_13 (Dropout)            (None, 64, 64, 512)  0           conv2d_152[0][0]                 \n",
            "__________________________________________________________________________________________________\n",
            "max_pooling2d_28 (MaxPooling2D) (None, 32, 32, 512)  0           dropout_13[0][0]                 \n",
            "__________________________________________________________________________________________________\n",
            "conv2d_153 (Conv2D)             (None, 32, 32, 1024) 4719616     max_pooling2d_28[0][0]           \n",
            "__________________________________________________________________________________________________\n",
            "conv2d_154 (Conv2D)             (None, 32, 32, 1024) 9438208     conv2d_153[0][0]                 \n",
            "__________________________________________________________________________________________________\n",
            "dropout_14 (Dropout)            (None, 32, 32, 1024) 0           conv2d_154[0][0]                 \n",
            "__________________________________________________________________________________________________\n",
            "up_sampling2d_25 (UpSampling2D) (None, 64, 64, 1024) 0           dropout_14[0][0]                 \n",
            "__________________________________________________________________________________________________\n",
            "conv2d_155 (Conv2D)             (None, 64, 64, 512)  2097664     up_sampling2d_25[0][0]           \n",
            "__________________________________________________________________________________________________\n",
            "concatenate_25 (Concatenate)    (None, 64, 64, 1024) 0           dropout_13[0][0]                 \n",
            "                                                                 conv2d_155[0][0]                 \n",
            "__________________________________________________________________________________________________\n",
            "conv2d_156 (Conv2D)             (None, 64, 64, 512)  4719104     concatenate_25[0][0]             \n",
            "__________________________________________________________________________________________________\n",
            "conv2d_157 (Conv2D)             (None, 64, 64, 512)  2359808     conv2d_156[0][0]                 \n",
            "__________________________________________________________________________________________________\n",
            "up_sampling2d_26 (UpSampling2D) (None, 128, 128, 512 0           conv2d_157[0][0]                 \n",
            "__________________________________________________________________________________________________\n",
            "conv2d_158 (Conv2D)             (None, 128, 128, 256 524544      up_sampling2d_26[0][0]           \n",
            "__________________________________________________________________________________________________\n",
            "concatenate_26 (Concatenate)    (None, 128, 128, 512 0           conv2d_150[0][0]                 \n",
            "                                                                 conv2d_158[0][0]                 \n",
            "__________________________________________________________________________________________________\n",
            "conv2d_159 (Conv2D)             (None, 128, 128, 256 1179904     concatenate_26[0][0]             \n",
            "__________________________________________________________________________________________________\n",
            "conv2d_160 (Conv2D)             (None, 128, 128, 256 590080      conv2d_159[0][0]                 \n",
            "__________________________________________________________________________________________________\n",
            "up_sampling2d_27 (UpSampling2D) (None, 256, 256, 256 0           conv2d_160[0][0]                 \n",
            "__________________________________________________________________________________________________\n",
            "conv2d_161 (Conv2D)             (None, 256, 256, 128 131200      up_sampling2d_27[0][0]           \n",
            "__________________________________________________________________________________________________\n",
            "concatenate_27 (Concatenate)    (None, 256, 256, 256 0           conv2d_148[0][0]                 \n",
            "                                                                 conv2d_161[0][0]                 \n",
            "__________________________________________________________________________________________________\n",
            "conv2d_162 (Conv2D)             (None, 256, 256, 128 295040      concatenate_27[0][0]             \n",
            "__________________________________________________________________________________________________\n",
            "conv2d_163 (Conv2D)             (None, 256, 256, 128 147584      conv2d_162[0][0]                 \n",
            "__________________________________________________________________________________________________\n",
            "up_sampling2d_28 (UpSampling2D) (None, 512, 512, 128 0           conv2d_163[0][0]                 \n",
            "__________________________________________________________________________________________________\n",
            "conv2d_164 (Conv2D)             (None, 512, 512, 64) 32832       up_sampling2d_28[0][0]           \n",
            "__________________________________________________________________________________________________\n",
            "concatenate_28 (Concatenate)    (None, 512, 512, 128 0           conv2d_146[0][0]                 \n",
            "                                                                 conv2d_164[0][0]                 \n",
            "__________________________________________________________________________________________________\n",
            "conv2d_165 (Conv2D)             (None, 512, 512, 64) 73792       concatenate_28[0][0]             \n",
            "__________________________________________________________________________________________________\n",
            "conv2d_166 (Conv2D)             (None, 512, 512, 64) 36928       conv2d_165[0][0]                 \n",
            "__________________________________________________________________________________________________\n",
            "conv2d_167 (Conv2D)             (None, 512, 512, 2)  1154        conv2d_166[0][0]                 \n",
            "__________________________________________________________________________________________________\n",
            "conv2d_168 (Conv2D)             (None, 512, 512, 1)  3           conv2d_167[0][0]                 \n",
            "==================================================================================================\n",
            "Total params: 31,031,685\n",
            "Trainable params: 31,031,685\n",
            "Non-trainable params: 0\n",
            "__________________________________________________________________________________________________\n",
            "Train on 2451 samples, validate on 307 samples\n",
            "Epoch 1/30\n",
            "2451/2451 [==============================] - 747s 305ms/step - loss: 0.0748 - dice_coef: 0.0628 - val_loss: 0.0830 - val_dice_coef: 0.0578\n",
            "Epoch 2/30\n",
            "2451/2451 [==============================] - 733s 299ms/step - loss: 0.0644 - dice_coef: 0.0886 - val_loss: 0.0564 - val_dice_coef: 0.1219\n",
            "Epoch 3/30\n",
            "2451/2451 [==============================] - 732s 299ms/step - loss: 0.0538 - dice_coef: 0.2086 - val_loss: 0.0466 - val_dice_coef: 0.1893\n",
            "Epoch 4/30\n",
            "2451/2451 [==============================] - 732s 299ms/step - loss: 0.0456 - dice_coef: 0.3230 - val_loss: 0.0401 - val_dice_coef: 0.2774\n",
            "Epoch 5/30\n",
            "2451/2451 [==============================] - 732s 299ms/step - loss: 0.0397 - dice_coef: 0.3890 - val_loss: 0.0391 - val_dice_coef: 0.3534\n",
            "Epoch 6/30\n",
            "2451/2451 [==============================] - 731s 298ms/step - loss: 0.0359 - dice_coef: 0.4443 - val_loss: 0.0342 - val_dice_coef: 0.4095\n",
            "Epoch 7/30\n",
            "2451/2451 [==============================] - 731s 298ms/step - loss: 0.0318 - dice_coef: 0.4908 - val_loss: 0.0444 - val_dice_coef: 0.3628\n",
            "Epoch 8/30\n",
            "2451/2451 [==============================] - 730s 298ms/step - loss: 0.0285 - dice_coef: 0.5370 - val_loss: 0.0322 - val_dice_coef: 0.4307\n",
            "Epoch 9/30\n",
            "2451/2451 [==============================] - 728s 297ms/step - loss: 0.0256 - dice_coef: 0.5735 - val_loss: 0.0302 - val_dice_coef: 0.4659\n",
            "Epoch 10/30\n",
            "2451/2451 [==============================] - 728s 297ms/step - loss: 0.0234 - dice_coef: 0.6069 - val_loss: 0.0298 - val_dice_coef: 0.4893\n",
            "Epoch 11/30\n",
            "2451/2451 [==============================] - 728s 297ms/step - loss: 0.0202 - dice_coef: 0.6503 - val_loss: 0.0306 - val_dice_coef: 0.4695\n",
            "Epoch 12/30\n",
            "2451/2451 [==============================] - 727s 297ms/step - loss: 0.0180 - dice_coef: 0.6794 - val_loss: 0.0308 - val_dice_coef: 0.5423\n",
            "Epoch 13/30\n",
            "2451/2451 [==============================] - 727s 296ms/step - loss: 0.0165 - dice_coef: 0.7023 - val_loss: 0.0282 - val_dice_coef: 0.5358\n",
            "Epoch 14/30\n",
            "2451/2451 [==============================] - 727s 297ms/step - loss: 0.0145 - dice_coef: 0.7301 - val_loss: 0.0329 - val_dice_coef: 0.5588\n",
            "Epoch 15/30\n",
            "2451/2451 [==============================] - 727s 297ms/step - loss: 0.0138 - dice_coef: 0.7469 - val_loss: 0.0324 - val_dice_coef: 0.5656\n",
            "Epoch 16/30\n",
            "2451/2451 [==============================] - 727s 296ms/step - loss: 0.0123 - dice_coef: 0.7665 - val_loss: 0.0303 - val_dice_coef: 0.5836\n",
            "Epoch 17/30\n",
            "2451/2451 [==============================] - 725s 296ms/step - loss: 0.0114 - dice_coef: 0.7832 - val_loss: 0.0357 - val_dice_coef: 0.5638\n",
            "Epoch 18/30\n",
            "2451/2451 [==============================] - 726s 296ms/step - loss: 0.0115 - dice_coef: 0.7844 - val_loss: 0.0315 - val_dice_coef: 0.5815\n",
            "Epoch 19/30\n",
            "2451/2451 [==============================] - 725s 296ms/step - loss: 0.0101 - dice_coef: 0.8067 - val_loss: 0.0332 - val_dice_coef: 0.6182\n",
            "Epoch 20/30\n",
            "2451/2451 [==============================] - 725s 296ms/step - loss: 0.0095 - dice_coef: 0.8150 - val_loss: 0.0345 - val_dice_coef: 0.5671\n",
            "Epoch 21/30\n",
            "2451/2451 [==============================] - 724s 296ms/step - loss: 0.0089 - dice_coef: 0.8268 - val_loss: 0.0377 - val_dice_coef: 0.5927\n",
            "Epoch 22/30\n",
            "2451/2451 [==============================] - 724s 296ms/step - loss: 0.0089 - dice_coef: 0.8263 - val_loss: 0.0450 - val_dice_coef: 0.5983\n",
            "Epoch 23/30\n",
            "2451/2451 [==============================] - 724s 296ms/step - loss: 0.0080 - dice_coef: 0.8430 - val_loss: 0.0430 - val_dice_coef: 0.6390\n",
            "Epoch 24/30\n",
            "2451/2451 [==============================] - 724s 296ms/step - loss: 0.0080 - dice_coef: 0.8436 - val_loss: 0.0360 - val_dice_coef: 0.5930\n",
            "Epoch 25/30\n",
            "2451/2451 [==============================] - 725s 296ms/step - loss: 0.0077 - dice_coef: 0.8500 - val_loss: 0.0351 - val_dice_coef: 0.6135\n",
            "Epoch 26/30\n",
            "2451/2451 [==============================] - 724s 296ms/step - loss: 0.0069 - dice_coef: 0.8612 - val_loss: 0.0386 - val_dice_coef: 0.6371\n",
            "Epoch 27/30\n",
            "2451/2451 [==============================] - 725s 296ms/step - loss: 0.0077 - dice_coef: 0.8495 - val_loss: 0.0449 - val_dice_coef: 0.6431\n",
            "Epoch 28/30\n",
            "2451/2451 [==============================] - 724s 296ms/step - loss: 0.0066 - dice_coef: 0.8685 - val_loss: 0.0421 - val_dice_coef: 0.6505\n",
            "Epoch 29/30\n",
            "2451/2451 [==============================] - 724s 296ms/step - loss: 0.0072 - dice_coef: 0.8588 - val_loss: 0.0523 - val_dice_coef: 0.6406\n",
            "Epoch 30/30\n",
            "2451/2451 [==============================] - 724s 296ms/step - loss: 0.0063 - dice_coef: 0.8754 - val_loss: 0.0408 - val_dice_coef: 0.6436\n"
          ],
          "name": "stdout"
        },
        {
          "output_type": "execute_result",
          "data": {
            "text/plain": [
              "<keras.callbacks.callbacks.History at 0x7fee932da630>"
            ]
          },
          "metadata": {
            "tags": []
          },
          "execution_count": 28
        }
      ]
    },
    {
      "cell_type": "code",
      "metadata": {
        "id": "VjP0VKDaHefb",
        "colab_type": "code",
        "colab": {}
      },
      "source": [
        "model.save('trained_model')"
      ],
      "execution_count": 0,
      "outputs": []
    },
    {
      "cell_type": "code",
      "metadata": {
        "id": "1OB93fpC9k7J",
        "colab_type": "code",
        "outputId": "ebb59674-0d44-4002-9637-928bc78922c3",
        "colab": {
          "base_uri": "https://localhost:8080/",
          "height": 50
        }
      },
      "source": [
        "results = model.evaluate(images_test, masks_test, batch_size=2)\n",
        "print('dice_coeff:', results)"
      ],
      "execution_count": 0,
      "outputs": [
        {
          "output_type": "stream",
          "text": [
            "306/306 [==============================] - 30s 99ms/step\n",
            "dice_coeff: [0.04224755281043768, 0.654554009437561]\n"
          ],
          "name": "stdout"
        }
      ]
    },
    {
      "cell_type": "markdown",
      "metadata": {
        "id": "0tFxnaspwA1W",
        "colab_type": "text"
      },
      "source": [
        "Training the model a bit more!"
      ]
    },
    {
      "cell_type": "code",
      "metadata": {
        "id": "K_L59LdM-ojD",
        "colab_type": "code",
        "outputId": "802d9072-7abf-4653-8981-e1a5b429ae61",
        "colab": {
          "base_uri": "https://localhost:8080/",
          "height": 185
        }
      },
      "source": [
        "model.fit(images_train, masks_train, batch_size=2, nb_epoch=3, verbose=1,validation_data=(images_cv,masks_cv), callbacks=[checkpoint])"
      ],
      "execution_count": 0,
      "outputs": [
        {
          "output_type": "stream",
          "text": [
            "/usr/local/lib/python3.6/dist-packages/ipykernel_launcher.py:1: UserWarning: The `nb_epoch` argument in `fit` has been renamed `epochs`.\n",
            "  \"\"\"Entry point for launching an IPython kernel.\n"
          ],
          "name": "stderr"
        },
        {
          "output_type": "stream",
          "text": [
            "Train on 2451 samples, validate on 307 samples\n",
            "Epoch 1/3\n",
            "2451/2451 [==============================] - 723s 295ms/step - loss: 0.0057 - dice_coef: 0.8850 - val_loss: 0.0411 - val_dice_coef: 0.6416\n",
            "Epoch 2/3\n",
            "2451/2451 [==============================] - 724s 296ms/step - loss: 0.0064 - dice_coef: 0.8737 - val_loss: 0.0470 - val_dice_coef: 0.6279\n",
            "Epoch 3/3\n",
            "2451/2451 [==============================] - 724s 296ms/step - loss: 0.0057 - dice_coef: 0.8867 - val_loss: 0.0439 - val_dice_coef: 0.6470\n"
          ],
          "name": "stdout"
        },
        {
          "output_type": "execute_result",
          "data": {
            "text/plain": [
              "<keras.callbacks.callbacks.History at 0x7fee932be320>"
            ]
          },
          "metadata": {
            "tags": []
          },
          "execution_count": 36
        }
      ]
    },
    {
      "cell_type": "code",
      "metadata": {
        "id": "nznqe5NlH-Pl",
        "colab_type": "code",
        "outputId": "85d9c8de-261b-481c-91fd-6085980e1c00",
        "colab": {
          "base_uri": "https://localhost:8080/",
          "height": 185
        }
      },
      "source": [
        "model.fit(images_train, masks_train, batch_size=2, nb_epoch=3, verbose=1,validation_data=(images_cv,masks_cv), callbacks=[checkpoint])"
      ],
      "execution_count": 0,
      "outputs": [
        {
          "output_type": "stream",
          "text": [
            "/usr/local/lib/python3.6/dist-packages/ipykernel_launcher.py:1: UserWarning: The `nb_epoch` argument in `fit` has been renamed `epochs`.\n",
            "  \"\"\"Entry point for launching an IPython kernel.\n"
          ],
          "name": "stderr"
        },
        {
          "output_type": "stream",
          "text": [
            "Train on 2451 samples, validate on 307 samples\n",
            "Epoch 1/3\n",
            "2451/2451 [==============================] - 720s 294ms/step - loss: 0.0061 - dice_coef: 0.8793 - val_loss: 0.0528 - val_dice_coef: 0.6230\n",
            "Epoch 2/3\n",
            "2451/2451 [==============================] - 724s 296ms/step - loss: 0.0056 - dice_coef: 0.8877 - val_loss: 0.0478 - val_dice_coef: 0.6291\n",
            "Epoch 3/3\n",
            "2451/2451 [==============================] - 724s 296ms/step - loss: 0.0050 - dice_coef: 0.8975 - val_loss: 0.0508 - val_dice_coef: 0.6419\n"
          ],
          "name": "stdout"
        },
        {
          "output_type": "execute_result",
          "data": {
            "text/plain": [
              "<keras.callbacks.callbacks.History at 0x7fee9328de80>"
            ]
          },
          "metadata": {
            "tags": []
          },
          "execution_count": 37
        }
      ]
    },
    {
      "cell_type": "code",
      "metadata": {
        "id": "V7zCEozDIrKF",
        "colab_type": "code",
        "colab": {}
      },
      "source": [
        "model.save('trained_model_1')"
      ],
      "execution_count": 0,
      "outputs": []
    },
    {
      "cell_type": "code",
      "metadata": {
        "id": "I4TucUs0IxUo",
        "colab_type": "code",
        "colab": {}
      },
      "source": [
        "dependencies = {\n",
        "     'dice_coef': dice_coef\n",
        "}\n",
        "model = keras.models.load_model('trained_model_1', custom_objects=dependencies)"
      ],
      "execution_count": 0,
      "outputs": []
    },
    {
      "cell_type": "markdown",
      "metadata": {
        "id": "ik6Kw9R4xCoJ",
        "colab_type": "text"
      },
      "source": [
        "Evaluating on test set\n"
      ]
    },
    {
      "cell_type": "code",
      "metadata": {
        "id": "aus0WzxBufbr",
        "colab_type": "code",
        "outputId": "84f949cc-3222-4593-b9cf-fa9bd95235d5",
        "colab": {
          "base_uri": "https://localhost:8080/",
          "height": 50
        }
      },
      "source": [
        "results = model.evaluate(images_test, masks_test, batch_size=2)\n",
        "print('loss,dice_coeff:', results)"
      ],
      "execution_count": 0,
      "outputs": [
        {
          "output_type": "stream",
          "text": [
            "153/153 [==============================] - 83s 545ms/step - loss: 0.0455 - dice_coef: 0.6727\n",
            "dice_coeff: [0.04554812237620354, 0.6726678609848022]\n"
          ],
          "name": "stdout"
        }
      ]
    },
    {
      "cell_type": "markdown",
      "metadata": {
        "id": "D4g3pf5oxHkA",
        "colab_type": "text"
      },
      "source": [
        "Making Predictions"
      ]
    },
    {
      "cell_type": "code",
      "metadata": {
        "id": "-KtgrwLfuI-G",
        "colab_type": "code",
        "outputId": "f95fbe09-a7c8-43ec-bd8e-7b2e589d75c2",
        "colab": {
          "base_uri": "https://localhost:8080/",
          "height": 180
        }
      },
      "source": [
        "predictions = model.predict(images_train[0:1,:])\n",
        "plt.subplot(221)\n",
        "plt.title('Prediction')\n",
        "plt.imshow(predictions[0,:,:,0])\n",
        "plt.subplot(222)\n",
        "plt.title('Ground Truth')\n",
        "plt.imshow(masks_train[0,:,:,0])"
      ],
      "execution_count": 0,
      "outputs": [
        {
          "output_type": "execute_result",
          "data": {
            "text/plain": [
              "<matplotlib.image.AxesImage at 0x7f885f98e358>"
            ]
          },
          "metadata": {
            "tags": []
          },
          "execution_count": 20
        },
        {
          "output_type": "display_data",
          "data": {
            "image/png": "[encoded data removed]",
            "text/plain": [
              "<Figure size 432x288 with 2 Axes>"
            ]
          },
          "metadata": {
            "tags": [],
            "needs_background": "light"
          }
        }
      ]
    },
    {
      "cell_type": "markdown",
      "metadata": {
        "id": "85g7ZuT7wRNo",
        "colab_type": "text"
      },
      "source": [
        "Chnaging the loss to bce_dice_loss"
      ]
    },
    {
      "cell_type": "code",
      "metadata": {
        "id": "qxdLmk8Vlp4p",
        "colab_type": "code",
        "colab": {}
      },
      "source": [
        "def unet(input_size = (512,512,1)):\n",
        "    inputs = Input(input_size)\n",
        "    conv1 = Conv2D(64, 3, activation = 'relu', padding = 'same', kernel_initializer = 'he_normal')(inputs)\n",
        "    conv1 = Conv2D(64, 3, activation = 'relu', padding = 'same', kernel_initializer = 'he_normal')(conv1)\n",
        "    pool1 = MaxPooling2D(pool_size=(2, 2))(conv1)\n",
        "    conv2 = Conv2D(128, 3, activation = 'relu', padding = 'same', kernel_initializer = 'he_normal')(pool1)\n",
        "    conv2 = Conv2D(128, 3, activation = 'relu', padding = 'same', kernel_initializer = 'he_normal')(conv2)\n",
        "    pool2 = MaxPooling2D(pool_size=(2, 2))(conv2)\n",
        "    conv3 = Conv2D(256, 3, activation = 'relu', padding = 'same', kernel_initializer = 'he_normal')(pool2)\n",
        "    conv3 = Conv2D(256, 3, activation = 'relu', padding = 'same', kernel_initializer = 'he_normal')(conv3)\n",
        "    pool3 = MaxPooling2D(pool_size=(2, 2))(conv3)\n",
        "    conv4 = Conv2D(512, 3, activation = 'relu', padding = 'same', kernel_initializer = 'he_normal')(pool3)\n",
        "    conv4 = Conv2D(512, 3, activation = 'relu', padding = 'same', kernel_initializer = 'he_normal')(conv4)\n",
        "    drop4 = Dropout(0.5)(conv4)\n",
        "    pool4 = MaxPooling2D(pool_size=(2, 2))(drop4)\n",
        "\n",
        "    conv5 = Conv2D(1024, 3, activation = 'relu', padding = 'same', kernel_initializer = 'he_normal')(pool4)\n",
        "    conv5 = Conv2D(1024, 3, activation = 'relu', padding = 'same', kernel_initializer = 'he_normal')(conv5)\n",
        "    drop5 = Dropout(0.5)(conv5)\n",
        "\n",
        "    up6 = Conv2D(512, 2, activation = 'relu', padding = 'same', kernel_initializer = 'he_normal')(UpSampling2D(size = (2,2))(drop5))\n",
        "    merge6 = concatenate([drop4,up6], axis = 3)\n",
        "    conv6 = Conv2D(512, 3, activation = 'relu', padding = 'same', kernel_initializer = 'he_normal')(merge6)\n",
        "    conv6 = Conv2D(512, 3, activation = 'relu', padding = 'same', kernel_initializer = 'he_normal')(conv6)\n",
        "\n",
        "    up7 = Conv2D(256, 2, activation = 'relu', padding = 'same', kernel_initializer = 'he_normal')(UpSampling2D(size = (2,2))(conv6))\n",
        "    merge7 = concatenate([conv3,up7], axis = 3)\n",
        "    conv7 = Conv2D(256, 3, activation = 'relu', padding = 'same', kernel_initializer = 'he_normal')(merge7)\n",
        "    conv7 = Conv2D(256, 3, activation = 'relu', padding = 'same', kernel_initializer = 'he_normal')(conv7)\n",
        "\n",
        "    up8 = Conv2D(128, 2, activation = 'relu', padding = 'same', kernel_initializer = 'he_normal')(UpSampling2D(size = (2,2))(conv7))\n",
        "    merge8 = concatenate([conv2,up8], axis = 3)\n",
        "    conv8 = Conv2D(128, 3, activation = 'relu', padding = 'same', kernel_initializer = 'he_normal')(merge8)\n",
        "    conv8 = Conv2D(128, 3, activation = 'relu', padding = 'same', kernel_initializer = 'he_normal')(conv8)\n",
        "\n",
        "    up9 = Conv2D(64, 2, activation = 'relu', padding = 'same', kernel_initializer = 'he_normal')(UpSampling2D(size = (2,2))(conv8))\n",
        "    merge9 = concatenate([conv1,up9], axis = 3)\n",
        "    conv9 = Conv2D(64, 3, activation = 'relu', padding = 'same', kernel_initializer = 'he_normal')(merge9)\n",
        "    conv9 = Conv2D(64, 3, activation = 'relu', padding = 'same', kernel_initializer = 'he_normal')(conv9)\n",
        "    conv9 = Conv2D(2, 3, activation = 'relu', padding = 'same', kernel_initializer = 'he_normal')(conv9)\n",
        "    conv10 = Conv2D(1, 1, activation = 'sigmoid')(conv9)\n",
        "\n",
        "    model = Model(input = inputs, output = conv10)\n",
        "\n",
        "    model.compile(optimizer = Adam(lr = 1e-4), loss=[bce_dice_loss], metrics=[dice_coef])   \n",
        "\n",
        "    model.summary()\n",
        "    return model"
      ],
      "execution_count": 0,
      "outputs": []
    },
    {
      "cell_type": "code",
      "metadata": {
        "id": "7eyfZvgCjIcU",
        "colab_type": "code",
        "outputId": "5177f8ac-cf06-45ed-bc42-ab17ca9d89e3",
        "colab": {
          "base_uri": "https://localhost:8080/",
          "height": 1000
        }
      },
      "source": [
        "model=unet()\n",
        "model.fit(images_train, masks_train, batch_size=2, nb_epoch=50, verbose=1,validation_data=(images_cv,masks_cv))"
      ],
      "execution_count": 0,
      "outputs": [
        {
          "output_type": "stream",
          "text": [
            "/usr/local/lib/python3.6/dist-packages/ipykernel_launcher.py:44: UserWarning: Update your `Model` call to the Keras 2 API: `Model(inputs=Tensor(\"in..., outputs=Tensor(\"co...)`\n",
            "/usr/local/lib/python3.6/dist-packages/ipykernel_launcher.py:2: UserWarning: The `nb_epoch` argument in `fit` has been renamed `epochs`.\n",
            "  \n"
          ],
          "name": "stderr"
        },
        {
          "output_type": "stream",
          "text": [
            "Model: \"model_8\"\n",
            "__________________________________________________________________________________________________\n",
            "Layer (type)                    Output Shape         Param #     Connected to                     \n",
            "==================================================================================================\n",
            "input_9 (InputLayer)            (None, 512, 512, 1)  0                                            \n",
            "__________________________________________________________________________________________________\n",
            "conv2d_170 (Conv2D)             (None, 512, 512, 64) 640         input_9[0][0]                    \n",
            "__________________________________________________________________________________________________\n",
            "conv2d_171 (Conv2D)             (None, 512, 512, 64) 36928       conv2d_170[0][0]                 \n",
            "__________________________________________________________________________________________________\n",
            "max_pooling2d_29 (MaxPooling2D) (None, 256, 256, 64) 0           conv2d_171[0][0]                 \n",
            "__________________________________________________________________________________________________\n",
            "conv2d_172 (Conv2D)             (None, 256, 256, 128 73856       max_pooling2d_29[0][0]           \n",
            "__________________________________________________________________________________________________\n",
            "conv2d_173 (Conv2D)             (None, 256, 256, 128 147584      conv2d_172[0][0]                 \n",
            "__________________________________________________________________________________________________\n",
            "max_pooling2d_30 (MaxPooling2D) (None, 128, 128, 128 0           conv2d_173[0][0]                 \n",
            "__________________________________________________________________________________________________\n",
            "conv2d_174 (Conv2D)             (None, 128, 128, 256 295168      max_pooling2d_30[0][0]           \n",
            "__________________________________________________________________________________________________\n",
            "conv2d_175 (Conv2D)             (None, 128, 128, 256 590080      conv2d_174[0][0]                 \n",
            "__________________________________________________________________________________________________\n",
            "max_pooling2d_31 (MaxPooling2D) (None, 64, 64, 256)  0           conv2d_175[0][0]                 \n",
            "__________________________________________________________________________________________________\n",
            "conv2d_176 (Conv2D)             (None, 64, 64, 512)  1180160     max_pooling2d_31[0][0]           \n",
            "__________________________________________________________________________________________________\n",
            "conv2d_177 (Conv2D)             (None, 64, 64, 512)  2359808     conv2d_176[0][0]                 \n",
            "__________________________________________________________________________________________________\n",
            "dropout_15 (Dropout)            (None, 64, 64, 512)  0           conv2d_177[0][0]                 \n",
            "__________________________________________________________________________________________________\n",
            "max_pooling2d_32 (MaxPooling2D) (None, 32, 32, 512)  0           dropout_15[0][0]                 \n",
            "__________________________________________________________________________________________________\n",
            "conv2d_178 (Conv2D)             (None, 32, 32, 1024) 4719616     max_pooling2d_32[0][0]           \n",
            "__________________________________________________________________________________________________\n",
            "conv2d_179 (Conv2D)             (None, 32, 32, 1024) 9438208     conv2d_178[0][0]                 \n",
            "__________________________________________________________________________________________________\n",
            "dropout_16 (Dropout)            (None, 32, 32, 1024) 0           conv2d_179[0][0]                 \n",
            "__________________________________________________________________________________________________\n",
            "up_sampling2d_29 (UpSampling2D) (None, 64, 64, 1024) 0           dropout_16[0][0]                 \n",
            "__________________________________________________________________________________________________\n",
            "conv2d_180 (Conv2D)             (None, 64, 64, 512)  2097664     up_sampling2d_29[0][0]           \n",
            "__________________________________________________________________________________________________\n",
            "concatenate_29 (Concatenate)    (None, 64, 64, 1024) 0           dropout_15[0][0]                 \n",
            "                                                                 conv2d_180[0][0]                 \n",
            "__________________________________________________________________________________________________\n",
            "conv2d_181 (Conv2D)             (None, 64, 64, 512)  4719104     concatenate_29[0][0]             \n",
            "__________________________________________________________________________________________________\n",
            "conv2d_182 (Conv2D)             (None, 64, 64, 512)  2359808     conv2d_181[0][0]                 \n",
            "__________________________________________________________________________________________________\n",
            "up_sampling2d_30 (UpSampling2D) (None, 128, 128, 512 0           conv2d_182[0][0]                 \n",
            "__________________________________________________________________________________________________\n",
            "conv2d_183 (Conv2D)             (None, 128, 128, 256 524544      up_sampling2d_30[0][0]           \n",
            "__________________________________________________________________________________________________\n",
            "concatenate_30 (Concatenate)    (None, 128, 128, 512 0           conv2d_175[0][0]                 \n",
            "                                                                 conv2d_183[0][0]                 \n",
            "__________________________________________________________________________________________________\n",
            "conv2d_184 (Conv2D)             (None, 128, 128, 256 1179904     concatenate_30[0][0]             \n",
            "__________________________________________________________________________________________________\n",
            "conv2d_185 (Conv2D)             (None, 128, 128, 256 590080      conv2d_184[0][0]                 \n",
            "__________________________________________________________________________________________________\n",
            "up_sampling2d_31 (UpSampling2D) (None, 256, 256, 256 0           conv2d_185[0][0]                 \n",
            "__________________________________________________________________________________________________\n",
            "conv2d_186 (Conv2D)             (None, 256, 256, 128 131200      up_sampling2d_31[0][0]           \n",
            "__________________________________________________________________________________________________\n",
            "concatenate_31 (Concatenate)    (None, 256, 256, 256 0           conv2d_173[0][0]                 \n",
            "                                                                 conv2d_186[0][0]                 \n",
            "__________________________________________________________________________________________________\n",
            "conv2d_187 (Conv2D)             (None, 256, 256, 128 295040      concatenate_31[0][0]             \n",
            "__________________________________________________________________________________________________\n",
            "conv2d_188 (Conv2D)             (None, 256, 256, 128 147584      conv2d_187[0][0]                 \n",
            "__________________________________________________________________________________________________\n",
            "up_sampling2d_32 (UpSampling2D) (None, 512, 512, 128 0           conv2d_188[0][0]                 \n",
            "__________________________________________________________________________________________________\n",
            "conv2d_189 (Conv2D)             (None, 512, 512, 64) 32832       up_sampling2d_32[0][0]           \n",
            "__________________________________________________________________________________________________\n",
            "concatenate_32 (Concatenate)    (None, 512, 512, 128 0           conv2d_171[0][0]                 \n",
            "                                                                 conv2d_189[0][0]                 \n",
            "__________________________________________________________________________________________________\n",
            "conv2d_190 (Conv2D)             (None, 512, 512, 64) 73792       concatenate_32[0][0]             \n",
            "__________________________________________________________________________________________________\n",
            "conv2d_191 (Conv2D)             (None, 512, 512, 64) 36928       conv2d_190[0][0]                 \n",
            "__________________________________________________________________________________________________\n",
            "conv2d_192 (Conv2D)             (None, 512, 512, 2)  1154        conv2d_191[0][0]                 \n",
            "__________________________________________________________________________________________________\n",
            "conv2d_193 (Conv2D)             (None, 512, 512, 1)  3           conv2d_192[0][0]                 \n",
            "==================================================================================================\n",
            "Total params: 31,031,685\n",
            "Trainable params: 31,031,685\n",
            "Non-trainable params: 0\n",
            "__________________________________________________________________________________________________\n",
            "Train on 2451 samples, validate on 307 samples\n",
            "Epoch 1/50\n",
            "2451/2451 [==============================] - 400s 163ms/step - loss: 0.9541 - dice_coef: 0.1386 - val_loss: 0.8664 - val_dice_coef: 0.1966\n",
            "Epoch 2/50\n",
            "2451/2451 [==============================] - 399s 163ms/step - loss: 0.7623 - dice_coef: 0.3294 - val_loss: 0.6878 - val_dice_coef: 0.3667\n",
            "Epoch 3/50\n",
            "2451/2451 [==============================] - 399s 163ms/step - loss: 0.6866 - dice_coef: 0.3966 - val_loss: 0.6775 - val_dice_coef: 0.3854\n",
            "Epoch 4/50\n",
            "2451/2451 [==============================] - 399s 163ms/step - loss: 0.6366 - dice_coef: 0.4401 - val_loss: 0.6643 - val_dice_coef: 0.3865\n",
            "Epoch 5/50\n",
            "2451/2451 [==============================] - 399s 163ms/step - loss: 0.5948 - dice_coef: 0.4791 - val_loss: 0.5889 - val_dice_coef: 0.4607\n",
            "Epoch 6/50\n",
            "2451/2451 [==============================] - 399s 163ms/step - loss: 0.5761 - dice_coef: 0.4969 - val_loss: 0.5794 - val_dice_coef: 0.4744\n",
            "Epoch 7/50\n",
            "2451/2451 [==============================] - 399s 163ms/step - loss: 0.5574 - dice_coef: 0.5115 - val_loss: 0.5371 - val_dice_coef: 0.5134\n",
            "Epoch 8/50\n",
            "2451/2451 [==============================] - 399s 163ms/step - loss: 0.5204 - dice_coef: 0.5452 - val_loss: 0.5275 - val_dice_coef: 0.5230\n",
            "Epoch 9/50\n",
            "2451/2451 [==============================] - 399s 163ms/step - loss: 0.4969 - dice_coef: 0.5668 - val_loss: 0.5046 - val_dice_coef: 0.5531\n",
            "Epoch 10/50\n",
            "2451/2451 [==============================] - 399s 163ms/step - loss: 0.4799 - dice_coef: 0.5816 - val_loss: 0.4925 - val_dice_coef: 0.5570\n",
            "Epoch 11/50\n",
            "2451/2451 [==============================] - 399s 163ms/step - loss: 0.4644 - dice_coef: 0.5954 - val_loss: 0.5266 - val_dice_coef: 0.5284\n",
            "Epoch 12/50\n",
            "2451/2451 [==============================] - 399s 163ms/step - loss: 0.4542 - dice_coef: 0.6042 - val_loss: 0.5129 - val_dice_coef: 0.5419\n",
            "Epoch 13/50\n",
            "2451/2451 [==============================] - 399s 163ms/step - loss: 0.4265 - dice_coef: 0.6293 - val_loss: 0.4946 - val_dice_coef: 0.5553\n",
            "Epoch 14/50\n",
            "2451/2451 [==============================] - 399s 163ms/step - loss: 0.4180 - dice_coef: 0.6367 - val_loss: 0.4894 - val_dice_coef: 0.5593\n",
            "Epoch 15/50\n",
            "2451/2451 [==============================] - 400s 163ms/step - loss: 0.3936 - dice_coef: 0.6583 - val_loss: 0.4805 - val_dice_coef: 0.5668\n",
            "Epoch 16/50\n",
            "2451/2451 [==============================] - 400s 163ms/step - loss: 0.3920 - dice_coef: 0.6591 - val_loss: 0.5002 - val_dice_coef: 0.5594\n",
            "Epoch 17/50\n",
            "2451/2451 [==============================] - 399s 163ms/step - loss: 0.3683 - dice_coef: 0.6803 - val_loss: 0.4778 - val_dice_coef: 0.5719\n",
            "Epoch 18/50\n",
            "2451/2451 [==============================] - 399s 163ms/step - loss: 0.3623 - dice_coef: 0.6862 - val_loss: 0.4824 - val_dice_coef: 0.5675\n",
            "Epoch 19/50\n",
            "2451/2451 [==============================] - 400s 163ms/step - loss: 0.3512 - dice_coef: 0.6961 - val_loss: 0.4721 - val_dice_coef: 0.5817\n",
            "Epoch 20/50\n",
            "2451/2451 [==============================] - 399s 163ms/step - loss: 0.3507 - dice_coef: 0.6959 - val_loss: 0.5179 - val_dice_coef: 0.5437\n",
            "Epoch 21/50\n",
            "2451/2451 [==============================] - 399s 163ms/step - loss: 0.3456 - dice_coef: 0.7009 - val_loss: 0.4404 - val_dice_coef: 0.6086\n",
            "Epoch 22/50\n",
            "2451/2451 [==============================] - 399s 163ms/step - loss: 0.3161 - dice_coef: 0.7260 - val_loss: 0.4575 - val_dice_coef: 0.5906\n",
            "Epoch 23/50\n",
            "2451/2451 [==============================] - 399s 163ms/step - loss: 0.3117 - dice_coef: 0.7302 - val_loss: 0.4444 - val_dice_coef: 0.6094\n",
            "Epoch 24/50\n",
            "2451/2451 [==============================] - 399s 163ms/step - loss: 0.3071 - dice_coef: 0.7336 - val_loss: 0.4742 - val_dice_coef: 0.5858\n",
            "Epoch 25/50\n",
            "2451/2451 [==============================] - 399s 163ms/step - loss: 0.3219 - dice_coef: 0.7209 - val_loss: 0.4372 - val_dice_coef: 0.6132\n",
            "Epoch 26/50\n",
            "2451/2451 [==============================] - 399s 163ms/step - loss: 0.2945 - dice_coef: 0.7461 - val_loss: 0.4485 - val_dice_coef: 0.6068\n",
            "Epoch 27/50\n",
            "2451/2451 [==============================] - 399s 163ms/step - loss: 0.2874 - dice_coef: 0.7513 - val_loss: 0.4032 - val_dice_coef: 0.6454\n",
            "Epoch 28/50\n",
            "2451/2451 [==============================] - 399s 163ms/step - loss: 0.2673 - dice_coef: 0.7700 - val_loss: 0.4328 - val_dice_coef: 0.6220\n",
            "Epoch 29/50\n",
            "2451/2451 [==============================] - 399s 163ms/step - loss: 0.2756 - dice_coef: 0.7618 - val_loss: 0.4593 - val_dice_coef: 0.5902\n",
            "Epoch 30/50\n",
            "2451/2451 [==============================] - 399s 163ms/step - loss: 0.2589 - dice_coef: 0.7763 - val_loss: 0.4132 - val_dice_coef: 0.6347\n",
            "Epoch 31/50\n",
            "2451/2451 [==============================] - 399s 163ms/step - loss: 0.2620 - dice_coef: 0.7735 - val_loss: 0.4186 - val_dice_coef: 0.6310\n",
            "Epoch 32/50\n",
            "2451/2451 [==============================] - 400s 163ms/step - loss: 0.2618 - dice_coef: 0.7741 - val_loss: 0.4170 - val_dice_coef: 0.6331\n",
            "Epoch 33/50\n",
            "2451/2451 [==============================] - 400s 163ms/step - loss: 0.2512 - dice_coef: 0.7829 - val_loss: 0.4287 - val_dice_coef: 0.6248\n",
            "Epoch 34/50\n",
            "2451/2451 [==============================] - 400s 163ms/step - loss: 0.2549 - dice_coef: 0.7802 - val_loss: 0.4360 - val_dice_coef: 0.6184\n",
            "Epoch 35/50\n",
            "2451/2451 [==============================] - 401s 163ms/step - loss: 0.2289 - dice_coef: 0.8027 - val_loss: 0.4112 - val_dice_coef: 0.6381\n",
            "Epoch 36/50\n",
            "2451/2451 [==============================] - 400s 163ms/step - loss: 0.2310 - dice_coef: 0.8012 - val_loss: 0.4343 - val_dice_coef: 0.6175\n",
            "Epoch 37/50\n",
            "2451/2451 [==============================] - 401s 164ms/step - loss: 0.2286 - dice_coef: 0.8029 - val_loss: 0.4609 - val_dice_coef: 0.5958\n",
            "Epoch 38/50\n",
            "2451/2451 [==============================] - 401s 163ms/step - loss: 0.2187 - dice_coef: 0.8114 - val_loss: 0.4128 - val_dice_coef: 0.6373\n",
            "Epoch 39/50\n",
            "2451/2451 [==============================] - 401s 163ms/step - loss: 0.2232 - dice_coef: 0.8072 - val_loss: 0.4451 - val_dice_coef: 0.6101\n",
            "Epoch 40/50\n",
            "2451/2451 [==============================] - 400s 163ms/step - loss: 0.2096 - dice_coef: 0.8198 - val_loss: 0.4299 - val_dice_coef: 0.6287\n",
            "Epoch 41/50\n",
            "2451/2451 [==============================] - 400s 163ms/step - loss: 0.2063 - dice_coef: 0.8228 - val_loss: 0.4523 - val_dice_coef: 0.6026\n",
            "Epoch 42/50\n",
            "2451/2451 [==============================] - 400s 163ms/step - loss: 0.2101 - dice_coef: 0.8185 - val_loss: 0.4387 - val_dice_coef: 0.6197\n",
            "Epoch 43/50\n",
            "2451/2451 [==============================] - 400s 163ms/step - loss: 0.2042 - dice_coef: 0.8237 - val_loss: 0.4107 - val_dice_coef: 0.6430\n",
            "Epoch 44/50\n",
            "2451/2451 [==============================] - 400s 163ms/step - loss: 0.1934 - dice_coef: 0.8330 - val_loss: 0.4371 - val_dice_coef: 0.6169\n",
            "Epoch 45/50\n",
            "2451/2451 [==============================] - 401s 163ms/step - loss: 0.2006 - dice_coef: 0.8268 - val_loss: 0.4101 - val_dice_coef: 0.6426\n",
            "Epoch 46/50\n",
            "2451/2451 [==============================] - 400s 163ms/step - loss: 0.1873 - dice_coef: 0.8382 - val_loss: 0.4198 - val_dice_coef: 0.6337\n",
            "Epoch 47/50\n",
            "2451/2451 [==============================] - 400s 163ms/step - loss: 0.1834 - dice_coef: 0.8415 - val_loss: 0.4558 - val_dice_coef: 0.6045\n",
            "Epoch 48/50\n",
            "2451/2451 [==============================] - 399s 163ms/step - loss: 0.1888 - dice_coef: 0.8368 - val_loss: 0.4233 - val_dice_coef: 0.6328\n",
            "Epoch 49/50\n",
            "2451/2451 [==============================] - 399s 163ms/step - loss: 0.1804 - dice_coef: 0.8443 - val_loss: 0.4159 - val_dice_coef: 0.6350\n",
            "Epoch 50/50\n",
            "2451/2451 [==============================] - 399s 163ms/step - loss: 0.1813 - dice_coef: 0.8438 - val_loss: 0.4331 - val_dice_coef: 0.6266\n"
          ],
          "name": "stdout"
        },
        {
          "output_type": "execute_result",
          "data": {
            "text/plain": [
              "<keras.callbacks.callbacks.History at 0x7f8b1a529e48>"
            ]
          },
          "metadata": {
            "tags": []
          },
          "execution_count": 30
        }
      ]
    },
    {
      "cell_type": "code",
      "metadata": {
        "id": "JZQzz2aYkRZF",
        "colab_type": "code",
        "colab": {}
      },
      "source": [
        "model.save('trained_model_4.h5')"
      ],
      "execution_count": 0,
      "outputs": []
    },
    {
      "cell_type": "code",
      "metadata": {
        "id": "xNPXZNbamTrj",
        "colab_type": "code",
        "colab": {}
      },
      "source": [
        "\n",
        "dependencies = {\n",
        "     'dice_coef': dice_coef,\n",
        "     'bce_dice_loss': bce_dice_loss\n",
        "}\n",
        "model = keras.models.load_model('trained_model_4.h5',custom_objects=dependencies)"
      ],
      "execution_count": 0,
      "outputs": []
    },
    {
      "cell_type": "code",
      "metadata": {
        "id": "ezrxSDONG_pn",
        "colab_type": "code",
        "outputId": "ad868660-1df6-45b5-e3e6-123e30184457",
        "colab": {
          "base_uri": "https://localhost:8080/",
          "height": 50
        }
      },
      "source": [
        "results = model.evaluate(images_test, masks_test, batch_size=2)\n",
        "print('dice_coeff:', results)"
      ],
      "execution_count": 0,
      "outputs": [
        {
          "output_type": "stream",
          "text": [
            "153/153 [==============================] - 77s 505ms/step - loss: 0.3920 - dice_coef: 0.6663\n",
            "dice_coeff: [0.39204278588294983, 0.6662623882293701]\n"
          ],
          "name": "stdout"
        }
      ]
    }
  ]
}